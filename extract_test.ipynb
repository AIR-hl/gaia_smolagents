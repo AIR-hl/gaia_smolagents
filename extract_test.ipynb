{
 "cells": [
  {
   "cell_type": "code",
   "execution_count": 2,
   "id": "feb3a21c",
   "metadata": {},
   "outputs": [],
   "source": [
    "# Shamelessly stolen from Microsoft Autogen team: thanks to them for this great resource!\n",
    "# https://github.com/microsoft/autogen/blob/gaia_multiagent_v01_march_1st/autogen/browser_utils.py\n",
    "import copy\n",
    "import re\n",
    "from smolagents.models import MessageRole, Model\n",
    "\n",
    "\n",
    "def extract_answer(original_task: str, inner_messages, model: Model, conv_num:int=0) -> str:\n",
    "    messages = [\n",
    "        {\n",
    "            \"role\": MessageRole.SYSTEM,\n",
    "            \"content\": [\n",
    "                {\n",
    "                    \"type\": \"text\",\n",
    "                    \"text\": f\"\"\"You are a answer-exctracting expert for multi-agent systems. Your task is to analyze team discussions and extract the final answer to a specific question.\"\"\"\n",
    "                }\n",
    "            ],\n",
    "        }\n",
    "    ]\n",
    "\n",
    "    messages.append(\n",
    "        {\n",
    "            \"role\": MessageRole.USER,\n",
    "            \"content\": [\n",
    "                {\n",
    "                    \"type\": \"text\",\n",
    "                    \"text\": f\"\"\"The Agent team has finished their investigation. I will provide you a part of their discussion history, the answer may lie in the conversation.\n",
    "\n",
    "                    ## Task:\n",
    "                    Please analyze the history conversation, then summurize and extract the specific FINAL ANSWER of the question. Please ensure that the answer is correct and reasonable.\n",
    "\n",
    "                    ## Original Question:\n",
    "                    {original_task}\n",
    "\n",
    "                    ## Analysis Steps:\n",
    "                    1. **Identify Key Information**: Scan the conversation for facts, data, calculations, and conclusions relevant to the question\n",
    "                    2. **Trace the Logic**: Follow the team's reasoning process and identify the most reliable conclusions\n",
    "                    3. **Resolve Conflicts**: If there are contradictory statements, prioritize the most recent, well-supported, or authoritative information\n",
    "                    4. **Verify Completeness**: Ensure the answer directly addresses what was asked.\n",
    "                    5. **Result Convert**: You may need to convert the analysis results appropriately to match the question requirements. For example, statistical results from the analysis process.\n",
    "                    \n",
    "                    ## Answer Formatting Rules:\n",
    "                    - Results: Only return the concise core answer required by the question without any redundant description.\n",
    "                    - Numbers: Use digits only (e.g., \"42\", not \"forty-two\"), no commas, no units (e.g. $, %) unless specifically requested.\n",
    "                    - Plain Text: Use exact tex without numbers, avoid articles/abbreviations unless specified, no punctuation at the end.\n",
    "                    - Lists: Comma-separated, apply number/text rules to each element.\n",
    "                    - Units: Pay close attention to the units of measurement specified in the question if necessary. (units: e.g. per 1000, per million)\n",
    "                    - Precision: Ensure the numerical answer matches the specified rounding precision in the question. (e.g. thousandths, two decimal places)\n",
    "\n",
    "\n",
    "                    ## Response Rules:\n",
    "                    - Report your thoughts, and finish your answer with the following template: FINAL ANSWER: [YOUR FINAL ANSWER].\n",
    "                    - Your FINAL ANSWER should be a number OR as few words as possible OR a comma separated list of numbers and/or strings.\n",
    "                    - If you are asked for a number, don't use comma to write your number neither use units such as $ or percent sign unless specified otherwise.\n",
    "                    - If you are asked for a string, don't use articles, codes, neither abbreviations (e.g. for cities), and write the digits in plain text unless specified otherwise.\n",
    "                    - If you are asked for a comma separated list, apply the above rules depending of whether the element to be put in the list is a number or a string.\n",
    "\n",
    "                    ## Discussion Hisotry:\n",
    "                    \"\"\",\n",
    "                }\n",
    "            ],\n",
    "        }\n",
    "    )\n",
    "\n",
    "    if conv_num==0:\n",
    "        start=0\n",
    "    else:\n",
    "        start=-3-conv_num\n",
    "\n",
    "    try:\n",
    "        for message in inner_messages[start:-3]:\n",
    "            if not message.get(\"content\"):\n",
    "                continue\n",
    "            message = copy.deepcopy(message)\n",
    "            # message[\"role\"] = MessageRole.USER\n",
    "            messages.append(message)\n",
    "    except Exception:\n",
    "        messages += [{\"role\": MessageRole.ASSISTANT, \"content\": str(inner_messages)}]\n",
    "\n",
    "\n",
    "    messages.append({\n",
    "            \"role\": MessageRole.USER,\n",
    "            \"content\": [{\n",
    "                    \"type\": \"text\",\n",
    "                    \"text\": \"Start your answer extraction task.\"\n",
    "                }],\n",
    "            }\n",
    "    )\n",
    "    response = model(messages).content\n",
    "\n",
    "    final_answer = None\n",
    "\n",
    "    # match = re.search(r\"FINAL ANSWER:\\s*([\\s\\S]+?)(?:\\n\\n|\\Z)(?![\\s\\S]*FINAL ANSWER:)\", response)\n",
    "    # if match:\n",
    "    #     final_answer = match.group(1).strip()\n",
    "    # else:\n",
    "    #     final_answer = response.split(\"FINAL ANSWER: \")[-1].strip()\n",
    "    final_answer = response.split(\"FINAL ANSWER: \")[-1].strip()\n",
    "\n",
    "    return final_answer"
   ]
  },
  {
   "cell_type": "code",
   "execution_count": 3,
   "id": "482bb0e6",
   "metadata": {},
   "outputs": [],
   "source": [
    "import json\n",
    "records=[]\n",
    "with open(\"output/cache/validation/gaia_val_xsy_30_o4mini_0623_v2.jsonl\", \"r\", encoding='utf8') as file:\n",
    "    for line in file:\n",
    "        records.append(json.loads(line))"
   ]
  },
  {
   "cell_type": "code",
   "execution_count": 76,
   "id": "5be12b09",
   "metadata": {},
   "outputs": [
    {
     "data": {
      "text/plain": [
       "'THE CASTLE'"
      ]
     },
     "execution_count": 76,
     "metadata": {},
     "output_type": "execute_result"
    }
   ],
   "source": [
    "idx=11\n",
    "records[idx]['true_answer']"
   ]
  },
  {
   "cell_type": "code",
   "execution_count": 79,
   "id": "adafaa8b",
   "metadata": {},
   "outputs": [
    {
     "data": {
      "text/plain": [
       "'THE CASTLE - DAY 1'"
      ]
     },
     "execution_count": 79,
     "metadata": {},
     "output_type": "execute_result"
    }
   ],
   "source": [
    "from typing import Any\n",
    "from smolagents import (OpenAIServerModel)\n",
    "\n",
    "\n",
    "custom_role_conversions = {\"tool-call\": \"assistant\", \"tool-response\": \"user\"}\n",
    "model_params: dict[str, Any] = {\n",
    "    \"model_id\": \"o4-mini\",\n",
    "    # \"custom_role_conversions\": custom_role_conversions,\n",
    "}\n",
    "\n",
    "model_params[\"max_tokens\"] = 50000\n",
    "model_params['temperature'] = 0.2\n",
    "\n",
    "model = OpenAIServerModel(\n",
    "    api_base=\"http://gpt-proxy.jd.com/gateway/common\",\n",
    "    api_key=\"64268e2b-188f-4e86-9b2a-8542ba3849c8\",\n",
    "    **model_params,\n",
    ")\n",
    "\n",
    "res=extract_answer(records[idx]['question'], inner_messages=records[idx]['intermediate_steps'], model=model, conv_num=5)\n",
    "res"
   ]
  }
 ],
 "metadata": {
  "kernelspec": {
   "display_name": "dev",
   "language": "python",
   "name": "python3"
  },
  "language_info": {
   "codemirror_mode": {
    "name": "ipython",
    "version": 3
   },
   "file_extension": ".py",
   "mimetype": "text/x-python",
   "name": "python",
   "nbconvert_exporter": "python",
   "pygments_lexer": "ipython3",
   "version": "3.11.13"
  }
 },
 "nbformat": 4,
 "nbformat_minor": 5
}
