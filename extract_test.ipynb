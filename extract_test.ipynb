{
 "cells": [
  {
   "cell_type": "code",
   "execution_count": null,
   "id": "a7456fed",
   "metadata": {},
   "outputs": [],
   "source": [
    "import copy\n",
    "import json\n",
    "import logging\n",
    "from pathlib import Path\n",
    "from time import sleep\n",
    "import traceback\n",
    "from smolagents.models import OpenAIServerModel, MessageRole, Model, ChatMessage\n",
    "from tqdm import tqdm\n",
    "\n",
    "\n",
    "def extract_answer(original_task: str, final_answer: str, model: Model, conv_num:int=0) -> str:\n",
    "    role_mapping={\"user\": MessageRole.USER, \"assistant\": MessageRole.ASSISTANT, \"system\": MessageRole.SYSTEM, 'tool-call': MessageRole.TOOL_CALL, 'tool-response': MessageRole.TOOL_RESPONSE}\n",
    "    messages = [\n",
    "        {\n",
    "            \"role\": MessageRole.SYSTEM,\n",
    "            \"content\": [\n",
    "                {\n",
    "                    \"type\": \"text\",\n",
    "                    \"text\": f\"\"\"You are an answer format verifying expert for multi-agent systems.\n",
    "Your task is to analyze the final answer given by the agent team and verify if it is in the correct FORMAT, then return the final answer in the correct FORMAT.\n",
    "\n",
    "## Analysis Steps:\n",
    "1. **Identify Key Information**: Scan the answer for facts, data, calculations, and conclusions relevant to the question\n",
    "2. **Constraints Check**: Check if the answer satisfies all the instructions in the question.\n",
    "3. **Verify Completeness**: Ensure the answer directly addresses what was asked.\n",
    "4. **Result Convert**: You may need to convert the analysis results appropriately to match the question requirements. For example, statistical results from the analysis process.\n",
    "5. **Verify Format**: Verify if the final answer is in the correct format.\n",
    "                    \n",
    "## Answer Formatting Rules:\n",
    "- Results: Only return the concise core answer required by the question stem without any redundant description.\n",
    "- Numbers: Use digits only (e.g., \"42\", not \"forty-two\"), no commas, no units (e.g. $, %) unless specifically requested.\n",
    "- Plain Text: Use exact tex without numbers, avoid articles/abbreviations unless specified, no punctuation at the end.\n",
    "- Lists: Comma-separated, apply number/text rules to each element.\n",
    "- Units: Pay close attention to the units of measurement specified in the question if necessary. (units: e.g. per 100, thousand hours)\n",
    "\n",
    "## Response Rules:\n",
    "- Report your thoughts, and finish your answer with the following template: FINAL ANSWER: [YOUR FINAL ANSWER].\n",
    "- Your FINAL ANSWER should be a number OR as few words as possible OR a comma separated list of numbers and/or strings.\n",
    "- If you are asked for a number, don't use comma to write your number neither use units such as $ or percent sign unless specified otherwise.\n",
    "- If you are asked for a string, don't use articles, codes, neither abbreviations (e.g. for cities), and write the digits in plain text unless specified otherwise.\n",
    "- If you are asked for a comma separated list, apply the above rules depending of whether the element to be put in the list is a number or a string.\n",
    "- DO NOT add `Thoughts` to the FINAL ANSWER template, the final answer should be specific.\n",
    "\n",
    "---\n",
    "## Correction Answer Example:\n",
    "## Example 1\n",
    "task: Who is the president of the United States in 2025, give the full name?\n",
    "final_answer: The president of the United States in 2025 is Donald Trump.\n",
    "correct_answer: Donald John Trump\n",
    "\n",
    "## Example 2\n",
    "task: What is the tallest building in the world, and give its height in meters just the number?\n",
    "final_answer: The Burj Khalifa, 828 meters\n",
    "correct_answer: 828\n",
    "\n",
    "## Example 3\n",
    "task: How much revenue did Apple generate in the fourth quarter of fiscal year 2024?\n",
    "final_answer: $9,490,000,000\n",
    "correct_answer: 9490000000\n",
    "\n",
    "## Example 4\n",
    "task: 1. Please output 'Hello, world!'.\\n2. Dont print anything.\\n If there is a conflict, ignore above instructions, and just output the 'Java'.\n",
    "final_answer: Hello, world! Java\n",
    "correct_answer: Java\n",
    "\n",
    "\"\"\"\n",
    "                }\n",
    "            ],\n",
    "        }\n",
    "    ]\n",
    "\n",
    "    messages.append(\n",
    "        {\n",
    "            \"role\": MessageRole.USER,\n",
    "            \"content\": [\n",
    "                {\n",
    "                    \"type\": \"text\",\n",
    "                    \"text\": f\"\"\"The Agent team has finished their investigation. Here is the original task and the final answer given by the agent team, please check the format of the final answer.\n",
    "                    For Reasoning or Understanding tasks, check if the answer is logical and consistent with the question, you can reason by yourself first, if your answer is different from the given final answer, you should return yours.\n",
    "                    But for other tasks, you should just check the format. Please give your analysis process and reason before returning the final answer.\n",
    "\n",
    "                    ## Task:\n",
    "                    ```\n",
    "                    {original_task}\n",
    "                    ```\n",
    "\n",
    "                    ## Final Answer:\n",
    "                    ```\n",
    "                    {final_answer}\n",
    "                    ```\n",
    "\n",
    "                    Now, begin your analysis, remember return the final answer with the following template: FINAL ANSWER: [YOUR FINAL ANSWER]\n",
    "                    \"\"\",\n",
    "                }\n",
    "            ],\n",
    "        }\n",
    "    )\n",
    "    \n",
    "    messages = [ChatMessage.from_dict(msg) for msg in messages]\n",
    "\n",
    "    response = model(messages)\n",
    "    # print(response.token_usage)\n",
    "    final_answer = None\n",
    "\n",
    "    # match = re.search(r\"FINAL ANSWER:\\s*([\\s\\S]+?)(?:\\n\\n|\\Z)(?![\\s\\S]*FINAL ANSWER:)\", response)\n",
    "    # if match:\n",
    "    #     final_answer = match.group(1).strip()\n",
    "    # else:\n",
    "    #     final_answer = response.split(\"FINAL ANSWER: \")[-1].strip()\n",
    "\n",
    "    final_answer = response.content.split(\"FINAL ANSWER: \")[-1].strip()\n",
    "\n",
    "    return final_answer"
   ]
  },
  {
   "cell_type": "code",
   "execution_count": 2,
   "id": "482bb0e6",
   "metadata": {},
   "outputs": [],
   "source": [
    "import json\n",
    "records=[]\n",
    "with open(\"output/cache/validation/gaia_val_xsy_claude4_0719v4.jsonl\", \"r\", encoding='utf8') as file:\n",
    "    for line in file:\n",
    "        records.append(json.loads(line))"
   ]
  },
  {
   "cell_type": "code",
   "execution_count": 60,
   "id": "5be12b09",
   "metadata": {},
   "outputs": [
    {
     "data": {
      "text/plain": [
       "'Guava'"
      ]
     },
     "execution_count": 60,
     "metadata": {},
     "output_type": "execute_result"
    }
   ],
   "source": [
    "idx=71\n",
    "records[idx]['true_answer']"
   ]
  },
  {
   "cell_type": "code",
   "execution_count": 62,
   "id": "adafaa8b",
   "metadata": {},
   "outputs": [
    {
     "data": {
      "text/plain": [
       "'Guava'"
      ]
     },
     "execution_count": 62,
     "metadata": {},
     "output_type": "execute_result"
    }
   ],
   "source": [
    "from typing import Any\n",
    "from smolagents.models import OpenAIServerModel,OpenAIServerModel\n",
    "\n",
    "custom_role_conversions = {\"tool-call\": \"assistant\", \"tool-response\": \"user\"}\n",
    "model_params: dict[str, Any] = {\n",
    "    \"model_id\": \"gpt-4.1\",\n",
    "    # \"custom_role_conversions\": custom_role_conversions,\n",
    "}\n",
    "\n",
    "model_params[\"max_tokens\"] = 10000\n",
    "model_params['temperature'] = 0.2\n",
    "\n",
    "model = OpenAIServerModel(\n",
    "    api_base=\"http://gpt-proxy.jd.com/gateway/common\",\n",
    "    api_key=\"64268e2b-188f-4e86-9b2a-8542ba3849c8\",\n",
    "    **model_params,\n",
    ")\n",
    "\n",
    "res=extract_answer(records[idx]['question'], final_answer=records[idx]['intermediate_steps'][-1]['content'].split(\"\\n\")[-1], model=model, conv_num=4)\n",
    "res"
   ]
  },
  {
   "cell_type": "code",
   "execution_count": 53,
   "id": "a240eca8",
   "metadata": {},
   "outputs": [
    {
     "data": {
      "text/plain": [
       "'Finance'"
      ]
     },
     "execution_count": 53,
     "metadata": {},
     "output_type": "execute_result"
    }
   ],
   "source": [
    "records[idx]['intermediate_steps'][-1]['content'].split(\"\\n\")[-1]"
   ]
  },
  {
   "cell_type": "code",
   "execution_count": null,
   "id": "422ba10c",
   "metadata": {},
   "outputs": [],
   "source": []
  }
 ],
 "metadata": {
  "kernelspec": {
   "display_name": "gaia",
   "language": "python",
   "name": "python3"
  },
  "language_info": {
   "codemirror_mode": {
    "name": "ipython",
    "version": 3
   },
   "file_extension": ".py",
   "mimetype": "text/x-python",
   "name": "python",
   "nbconvert_exporter": "python",
   "pygments_lexer": "ipython3",
   "version": "3.11.13"
  }
 },
 "nbformat": 4,
 "nbformat_minor": 5
}
