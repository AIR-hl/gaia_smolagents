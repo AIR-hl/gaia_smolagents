{
 "cells": [
  {
   "cell_type": "code",
   "execution_count": 1,
   "id": "9c2fd150",
   "metadata": {},
   "outputs": [],
   "source": [
    "from smolagents import WebSearchTool\n",
    "# search_tool=WebSearchTool(engine=\"bing\")\n",
    "search_tool=WebSearchTool(engine=\"duckduckgo\")\n"
   ]
  },
  {
   "cell_type": "code",
   "execution_count": 2,
   "id": "c3da37b6",
   "metadata": {},
   "outputs": [],
   "source": [
    "res=search_tool(\"site:nsi.bg 2011 преброяване образование пол\")"
   ]
  },
  {
   "cell_type": "code",
   "execution_count": 5,
   "id": "11e2ae47",
   "metadata": {},
   "outputs": [
    {
     "name": "stdout",
     "output_type": "stream",
     "text": [
      "## Search Results\n",
      "\n",
      "[お近くのお店を検索 - ドミノ・ピザ](https://www.dominos.jp/store-finder)\n",
      "あなたの近くの店舗を検索できます。ピザアカデミーのWeb予約でピザづくり体験教室も参加できます。 お近くのお店を検索\n",
      "\n",
      "[ドミノ・ピザ｜HUNGRY TO BE BETTER - 宅配もお持ち帰りも ...](https://www.dominos.jp/)\n",
      "国内デリバリーピザチェーン売上・店舗数No.1「よくすることにハングリー」アツアツのおいしいピザはドミノ・ピザのネット注文が便利！宅配もお持ち帰りもスマートフォンやPC、タブレットから手軽に注文できます。ドミノ・ピザならクーポンやポイントが使えて、現在のオーダー状況も一目 ...\n",
      "\n",
      "[東京都の求人一覧 | ドミノピザ（ドミノ･ピザ ジャパン） - Domino's](https://recruit.dominos.jp/jobfind-pc/area/Kanto/Tokyo)\n",
      "東京都のドミノ・ピザのアルバイト・正社員 求人情報一覧。インストア（接客・調理）、デリバリー、店長候補などを募集中です。売上・店舗数ともに成長を続けるドミノで一緒に働きませんか？\n",
      "\n",
      "[Domino's Pizza 新宿五丁目 - Pizza Delivery & Takeaway ...](https://www.dominos.jp/store/87120)\n",
      "03-5369-2722 〒160-0022 平日11:00～27:00 & 土日祝10:30～27:00 新宿区新宿5-10-15 The Corner SHINJUKU\n",
      "\n",
      "[Domino's Pizza 東日本橋 - Pizza Delivery & Takeaway - ドミノ ...](https://www.dominos.jp/store/86963)\n",
      "META_STORE_DETAILS 03-3808-0552 〒103-0003 「ピザアカデミーの予約はこちら」 平日 11:00～24:00 & 土日祝 10:30～24:00 中央区日本橋横山町9-15 エコール横山町ビル\n",
      "\n",
      "[Domino's Pizza 芝一丁目 - Pizza Delivery & Takeaway - ドミノ ...](https://www.dominos.jp/store/87076)\n",
      "META_STORE_DETAILS 03-5439-6611 〒105-0014 「ピザアカデミーの予約はこちら」 平日 11:00～24:00 & 土日祝 10:30～24:00 港区芝1-13-16 ホーコス芝橋ビル\n",
      "\n",
      "[ピザ Menu - Domino's Pizza](https://www.dominos.jp/menu-pizza)\n",
      "ピザ - おトクなピザセット, ベストセラーピザ, ワールドドミノ（期間限定）, クワトロピザ, シンプル（ハッピーレンジ）, クラシック（2ハッピーレンジ）, スペシャル（3ハッピーレンジ）, プレミアム（4ハッピーレンジ）, オリジナルピザ・その他, ピザBENTOドリンクセット, バリューBENTO ...\n",
      "\n",
      "[Domino's Pizza 江戸川橋 - Pizza Delivery & Takeaway - ドミノ ...](https://www.dominos.jp/Store/87059)\n",
      "META_STORE_DETAILS 03-5227-5550 〒162-0801 「ピザアカデミーの予約はこちら」 平日 11:00～24:00 & 土日祝 10:30～24:00 新宿区山吹町335 鈴木ビル\n",
      "\n",
      "[北区（東京都）の求人一覧 | ドミノピザ（ドミノ･ピザ ...](https://recruit.dominos.jp/jobfind-pc/area/Kanto/Tokyo/13117)\n",
      "[公式 アルバイト採用情報]日本で最初の宅配ピザであるドミノピザを運営する、株式会社ドミノ･ピザ ジャパンです。東京都のドミノ・ピザのアルバイト・正社員 求人情報一覧。インストア（接客・調理）、デリバリー、店長候補などを募集中です。\n",
      "\n",
      "[Domino's Pizza 池袋二丁目 - Pizza Delivery & Takeaway ...](https://www.dominos.jp/store/87523)\n",
      "META_STORE_DETAILS 03-5396-7177 〒171-0014 「ピザアカデミーの予約はこちら」 平日 11:00～27:00 & 土日祝 10:30～27:00 豊島区池袋2-61-7 パラッツオ田中\n"
     ]
    }
   ],
   "source": [
    "print(res) # bing不挂梯子"
   ]
  },
  {
   "cell_type": "code",
   "execution_count": 3,
   "id": "7dc2e30d",
   "metadata": {},
   "outputs": [
    {
     "name": "stdout",
     "output_type": "stream",
     "text": [
      "## Search Results\n",
      "\n",
      "[Национален статистически институт - Преброяване 2011](https://old.nsi.bg/census2011/)\n",
      " Преброяване  2011 - методологически документи ... за броя на хората в страната и в отделните населени места по пол, възраст, образование, грамотност, занятие, вероизповедание, етническа ...\n",
      "\n",
      "[ПРЕБРОЯВАНЕ 2011 (окончателни данни) - nsi.bg](https://www.nsi.bg/sites/default/files/files/pressreleases/Census2011final.pdf)\n",
      " Преброяване  2011 - събиране, въвеждане и обработка на резултатите ... хората с основно и по-ниско образование. Към 1.02. 2011 г. броят на лицата с висше образование е 1 348.7 хил. (19.6%), или всеки пети е ...\n",
      "\n",
      "[censusresults.nsi.bg](https://censusresults.nsi.bg/Census/Reports/2/2/R1.aspx?OBL=BGS)\n",
      "Миграция през периода 2001 - 2011 по пол и възраст Лица пребивавали в чужбина по пол, образование и престой Население на 15 и повече навършени години по пол, възраст и икономическа активност\n",
      "\n",
      "[nsi.bg](https://censusresults.nsi.bg/Census/)\n",
      "Лица пребивавали в чужбина по пол, образование и престой ... Преброяване  2011 протече чрез прилагане на два метода за събиране на информацията - електронно (1-9 февруари 2011 г.) чрез on-line ...\n",
      "\n",
      "[ПРЕБРОЯВАНЕ 2011 (окончателни данни)](https://www.nsi.bg/press-release/prebroyavane-2011-okonchatelni-danni-2962)\n",
      "От 1 до 28 февруари 2011 г. се проведе 17-тото поред преброяване на населението в демографската история на България. Преброяване  2011 протече чрез прилагане на два метода за събиране на информацията - електронно (1-9 февруари ...\n",
      "\n",
      "[Ревизия на данните за населението Преброяване 2011](https://nsi.bg/bg/content/3002/ревизия-на-данните-за-населението-преброяване-2011)\n",
      "Броят на лицата с начално и без образование е 666.7 хил., ... Преброяване  2011 протече чрез прилагане на два метода за събиране на информацията - електронно (1-9 февруари 2011 г.) чрез on-line преброяване ...\n",
      "\n",
      "[Население по области, местоживеене и пол](https://censusresults.nsi.bg/Census/Reports/2/2/R15.aspx)\n",
      "Миграция през периода 2001 - 2011 по пол и възраст Лица пребивавали в чужбина по пол, образование и престой Население на 15 и повече навършени години по пол, възраст и икономическа активност\n",
      "\n",
      "[Експертна дискусия по инструментариума на Преброяването на населението ...](https://old.nsi.bg/bg/content/8595/експертна-дискусия-по-инструментариума-на-преброяването-на-населението-и-жилищния-фонд-2011-г)\n",
      " Образование и учене през целия живот ; Пазар на труда ; Правосъдие и престъпност ; Преброяване на населението и жилищния фонд ; Социална защита ; Социално включване и условия на живот\n",
      "\n",
      "[ПРЕБРОЯВАНЕ 2011 (окончателни данни) - nsi.bg](https://www.nsi.bg/census2011/NPDOCS/Census2011final.pdf)\n",
      "висше образование е 1 348.7 хил. (19.6%), или всеки пети е висшист. В сравнение с предходното преброяване относителният дял на висшистите се увеличава с 5.5 процентни пункта.\n",
      "\n",
      "[censusresults.nsi.bg](https://censusresults.nsi.bg/Census/Reports/1/1/R2.aspx)\n",
      " Преброяване  2011 окончателни резултати : ... пол и образование: ... във и над трудоспособна възраст по местоживеене и пол : Население по местоживеене, възраст и юридическо семейно положение ...\n"
     ]
    }
   ],
   "source": [
    "print(res) # duckduckgo"
   ]
  },
  {
   "cell_type": "code",
   "execution_count": 6,
   "id": "420e53d9",
   "metadata": {},
   "outputs": [
    {
     "name": "stdout",
     "output_type": "stream",
     "text": [
      "## Search Results\n",
      "\n",
      "[Национален статистически институт - Преброяване 2011](https://www.nsi.bg/census2011/)\n",
      "Преброяването на населението е единственият източник на точни данни за броя на хората в страната и в отделните населени места по пол, възраст, образование, грамотност, занятие ...\n",
      "\n",
      "[Население по области, местоживеене и пол](https://censusresults.nsi.bg/Census/Reports/2/2/R15.aspx)\n",
      "Лица пребивавали в чужбина по пол, образование и престой Население на 15 и повече навършени години по пол, възраст и икономическа активност\n",
      "\n",
      "[ПРЕБРОЯВАНЕ 2011 (окончателни данни) - nsi.bg](https://www.nsi.bg/sites/default/files/files/pressreleases/Census2011final.pdf)\n",
      "момента на преброяването с висше образование са 791.8 хил. жени (22.3%), докато мъжете висшисти са 556.9 хиляди (16.7%). • За първи път при настоящото преброяване е включена категорията „никога не-\n",
      "\n",
      "[Сравнителни таблици по години на преброяванията](https://censusresults.nsi.bg/Census/Reports/Oblast.aspx?Obl=RSE)\n",
      "Миграция през периода 2001 - 2011 по пол и възраст; Лица пребивавали в чужбина по пол, образование и период на пребиваване\n",
      "\n",
      "[Преброяване на населението и жилищния фонд през 2011 година](http://old.nsi.bg/bg/content/2949/%D0%BF%D1%83%D0%B1%D0%BB%D0%B8%D0%BA%D0%B0%D1%86%D0%B8%D1%8F/%D0%BF%D1%80%D0%B5%D0%B1%D1%80%D0%BE%D1%8F%D0%B2%D0%B0%D0%BD%D0%B5-%D0%BD%D0%B0-%D0%BD%D0%B0%D1%81%D0%B5%D0%BB%D0%B5%D0%BD%D0%B8%D0%B5%D1%82%D0%BE-%D0%B8-%D0%B6%D0%B8%D0%BB%D0%B8%D1%89%D0%BD%D0%B8%D1%8F-%D1%84%D0%BE%D0%BD%D0%B4-%D0%BF%D1%80%D0%B5%D0%B7-2011-%D0%B3%D0%BE%D0%B4%D0%B8%D0%BD%D0%B0)\n",
      "Преброяване на населението и жилищния фонд през 2011 година; Тема \"Икономика\" Тема \"Статистически класификации\" Регионални публикации; Аналитични материали\n",
      "\n",
      "[ПРЕБРОЯВАНЕ 2011 (окончателни данни)](https://www.nsi.bg/press-release/prebroyavane-2011-okonchatelni-danni-2962)\n",
      "Преброяване 2011 протече чрез прилагане на два метода за събиране на информацията - електронно (1-9 февруари 2011 г.) чрез on-line преброяване в Интернет и традиционно - чрез посещения на преброители ...\n",
      "\n",
      "[censusresults.nsi.bg](https://censusresults.nsi.bg/Census/Reports/2/2/R1.aspx?OBL=BGS)\n",
      "Лица пребивавали в чужбина по пол, образование и престой Население на 15 и повече навършени години по пол, възраст и икономическа активност\n",
      "\n",
      "[ПРЕБРОЯВАНЕ НА НАСЕЛЕНИЕТО И ЖИЛИЩНИЯ ФОНД КЪМ 1.02.2011 ГОДИНА ...](http://old.nsi.bg/sites/default/files/files/pressreleases/Census2011pr.pdf)\n",
      "ПРЕБРОЯВАНЕ НА НАСЕЛЕНИЕТО И ЖИЛИЩНИЯ ФОНД КЪМ 1.02.2011 ГОДИНА (ЕКСПРЕСНИ РЕЗУЛТАТИ) От 1 до 28 февруари 2011 г. се проведе 17-ото поред преброяване на населението в демографската история на България.\n",
      "\n",
      "[Преброяване на населението и жилищния фонд](https://www.nsi.bg/index.php/statistical-data/151)\n",
      "Основно и средно образование (начално, прогимназиално и гимназиално) Учащи. Учащи по пол, групи класове и форма на собственост на училището; Учащи viii – xiІ клас по пол и вид на програмата\n",
      "\n",
      "[Закон за Преброяване 2011](https://www.nsi.bg/index.php/documents/detail/39)\n",
      "ЗАКОН ЗА ПРЕБРОЯВАНЕ НА НАСЕЛЕНИЕТО И ЖИЛИЩНИЯ ФОНД В РЕПУБЛИКА БЪЛГАРИЯ ПРЕЗ 2011 Г. Обн. ДВ. бр.39 от 26 Май 2009г., изм. ДВ. бр.100 от 21 Декември 2010г.\n"
     ]
    }
   ],
   "source": [
    "print(res) # bing挂梯子美国节点"
   ]
  },
  {
   "cell_type": "code",
   "execution_count": 9,
   "id": "18fc4277",
   "metadata": {},
   "outputs": [
    {
     "name": "stdout",
     "output_type": "stream",
     "text": [
      "## Search Results\n",
      "\n",
      "[Национален статистически институт - Преброяване 2011](https://www.nsi.bg/census2011/)\n",
      "Преброяването на населението е единственият източник на точни данни за броя на хората в страната и в отделните населени места по пол, възраст, образование, грамотност, занятие ...\n",
      "\n",
      "[Население по области, местоживеене и пол](https://censusresults.nsi.bg/Census/Reports/2/2/R15.aspx)\n",
      "Лица пребивавали в чужбина по пол, образование и престой Население на 15 и повече навършени години по пол, възраст и икономическа активност\n",
      "\n",
      "[ПРЕБРОЯВАНЕ 2011 (окончателни данни) - nsi.bg](https://www.nsi.bg/sites/default/files/files/pressreleases/Census2011final.pdf)\n",
      "момента на преброяването с висше образование са 791.8 хил. жени (22.3%), докато мъжете висшисти са 556.9 хиляди (16.7%). • За първи път при настоящото преброяване е включена категорията „никога не-\n",
      "\n",
      "[Сравнителни таблици по години на преброяванията](https://censusresults.nsi.bg/Census/Reports/Oblast.aspx?Obl=RSE)\n",
      "Миграция през периода 2001 - 2011 по пол и възраст; Лица пребивавали в чужбина по пол, образование и период на пребиваване\n",
      "\n",
      "[Преброяване на населението и жилищния фонд през 2011 година](http://old.nsi.bg/bg/content/2949/%D0%BF%D1%83%D0%B1%D0%BB%D0%B8%D0%BA%D0%B0%D1%86%D0%B8%D1%8F/%D0%BF%D1%80%D0%B5%D0%B1%D1%80%D0%BE%D1%8F%D0%B2%D0%B0%D0%BD%D0%B5-%D0%BD%D0%B0-%D0%BD%D0%B0%D1%81%D0%B5%D0%BB%D0%B5%D0%BD%D0%B8%D0%B5%D1%82%D0%BE-%D0%B8-%D0%B6%D0%B8%D0%BB%D0%B8%D1%89%D0%BD%D0%B8%D1%8F-%D1%84%D0%BE%D0%BD%D0%B4-%D0%BF%D1%80%D0%B5%D0%B7-2011-%D0%B3%D0%BE%D0%B4%D0%B8%D0%BD%D0%B0)\n",
      "Преброяване на населението и жилищния фонд през 2011 година; Тема \"Икономика\" Тема \"Статистически класификации\" Регионални публикации; Аналитични материали\n",
      "\n",
      "[ПРЕБРОЯВАНЕ 2011 (окончателни данни)](https://www.nsi.bg/press-release/prebroyavane-2011-okonchatelni-danni-2962)\n",
      "Преброяване 2011 протече чрез прилагане на два метода за събиране на информацията - електронно (1-9 февруари 2011 г.) чрез on-line преброяване в Интернет и традиционно - чрез посещения на преброители ...\n",
      "\n",
      "[censusresults.nsi.bg](https://censusresults.nsi.bg/Census/Reports/2/2/R1.aspx?OBL=BGS)\n",
      "Лица пребивавали в чужбина по пол, образование и престой Население на 15 и повече навършени години по пол, възраст и икономическа активност\n",
      "\n",
      "[ПРЕБРОЯВАНЕ НА НАСЕЛЕНИЕТО И ЖИЛИЩНИЯ ФОНД КЪМ 1.02.2011 ГОДИНА ...](http://old.nsi.bg/sites/default/files/files/pressreleases/Census2011pr.pdf)\n",
      "ПРЕБРОЯВАНЕ НА НАСЕЛЕНИЕТО И ЖИЛИЩНИЯ ФОНД КЪМ 1.02.2011 ГОДИНА (ЕКСПРЕСНИ РЕЗУЛТАТИ) От 1 до 28 февруари 2011 г. се проведе 17-ото поред преброяване на населението в демографската история на България.\n",
      "\n",
      "[Преброяване на населението и жилищния фонд](https://www.nsi.bg/index.php/statistical-data/151)\n",
      "Основно и средно образование (начално, прогимназиално и гимназиално) Учащи. Учащи по пол, групи класове и форма на собственост на училището; Учащи viii – xiІ клас по пол и вид на програмата\n",
      "\n",
      "[Закон за Преброяване 2011](https://www.nsi.bg/index.php/documents/detail/39)\n",
      "ЗАКОН ЗА ПРЕБРОЯВАНЕ НА НАСЕЛЕНИЕТО И ЖИЛИЩНИЯ ФОНД В РЕПУБЛИКА БЪЛГАРИЯ ПРЕЗ 2011 Г. Обн. ДВ. бр.39 от 26 Май 2009г., изм. ДВ. бр.100 от 21 Декември 2010г.\n"
     ]
    }
   ],
   "source": [
    "print(res) # bing挂梯子香港节点"
   ]
  },
  {
   "cell_type": "markdown",
   "id": "62711aec",
   "metadata": {},
   "source": [
    "# Duckduckgo_search 测试"
   ]
  },
  {
   "cell_type": "code",
   "execution_count": 13,
   "id": "c276ca9c",
   "metadata": {},
   "outputs": [
    {
     "name": "stdout",
     "output_type": "stream",
     "text": [
      "[{'title': 'List of presidents of the United States - Wikipedia', 'href': 'https://en.wikipedia.org/wiki/List_of_presidents_of_the_United_States', 'body': 'The president of the United States is the head of state and head of government of the United States, [1] indirectly elected to a four-year term via the Electoral College. [2] Under the U.S. Constitution, the officeholder leads the executive branch of the federal government and is the commander-in-chief of the United States Armed Forces. [3] The ...'}, {'title': 'President Donald J. Trump - The White House', 'href': 'https://www.whitehouse.gov/administration/donald-j-trump/', 'body': '45th & 47th President of the United States. After a landslide election victory in 2024, President Donald J. Trump is returning to the White House to build upon his previous successes and use his ...'}, {'title': 'list of presidents of the United States - Encyclopedia Britannica', 'href': 'https://www.britannica.com/topic/Presidents-of-the-United-States-1846696', 'body': 'As the head of the government of the United States, the president is arguably the most powerful government official in the world. The president is elected to a four-year term via an electoral college system. Since the Twenty-second Amendment was adopted in 1951, the American presidency has been limited to a maximum of two terms.. Click on a president below to learn more about each presidency ...'}, {'title': 'Presidents, vice presidents, and first ladies - USAGov', 'href': 'https://www.usa.gov/presidents', 'body': 'The president of the United States is the: U.S. head of state; Chief executive of the federal government; Commander-in-Chief of the armed forces; Current president. The 47th and current president of the United States is Donald John Trump. He was sworn into office on January 20, 2025. Former U.S. presidents. The United States has had 46 former U ...'}, {'title': 'U.S. Presidents in Order', 'href': 'https://www.presidentsusa.net/presvplist.html', 'body': 'This is a complete list of presidents of the United States in order of when each served in office under the current U.S. Constitution. How Many Presidents Have There Been? The list of presidents in order shown here has 47 names, but the number of individuals to have served as president is 45. The difference is due to the non-consecutive terms ...'}, {'title': 'President of the United States - Simple English Wikipedia, the free ...', 'href': 'https://simple.wikipedia.org/wiki/President_of_the_United_States', 'body': 'The president of the United States (POTUS) [11] is the head of state and head of government of the United States of America and the commander-in-chief of the United States Armed Forces.The president is also the head of the executive branch of the federal government of the United States and is the chairman of the presidential cabinet. [12]Donald J. Trump is the 47th and current president of the ...'}, {'title': 'Donald Trump sworn in as 47th president of the United States', 'href': 'https://www.pbs.org/newshour/politics/donald-trump-sworn-in-as-47th-president-of-the-united-states', 'body': 'Trump was sworn in by Chief Justice John Roberts as he begins his second term as president of the United States. Inauguration Day on MLK Day. ... Give Now. Left: WASHINGTON, DC - JANUARY 20: U.S ...'}, {'title': 'President of the United States', 'href': 'https://usun.usmission.gov/our-leaders/the-president-of-the-united-states/', 'body': \"President Donald J. Trump. Donald J. Trump serves as the 47th President of the United States. He also served as the 45th. Read the President's full biography.\"}, {'title': 'Donald Trump officially becomes new US president - BBC', 'href': 'https://www.bbc.co.uk/newsround/articles/ce3nq0rexqeo', 'body': \"Donald Trump has officially become the 47th president of the United States. In a special ceremony called an inauguration , President Trump took over from Joe Biden as America's new leader.\"}, {'title': 'Who Is The President Of The USA? - All About America', 'href': 'https://allaboutamerica.com/united-states/who-is-the-president-of-the-usa.html', 'body': 'As of 2025, the President of the United States is Donald J. Trump, a real estate mogul, television personality, and political outsider who reshaped modern American politics. After a commanding victory in the 2024 election, Trump returned to the White House for a historic second non-consecutive term—becoming the only US president since Grover ...'}]\n"
     ]
    }
   ],
   "source": [
    "from duckduckgo_search import DDGS\n",
    "\n",
    "\n",
    "results = DDGS().text('Who is the president of the USA now', safesearch='off', timelimit='2025-01-01...', max_results=10)\n",
    "print(results)"
   ]
  },
  {
   "cell_type": "code",
   "execution_count": 8,
   "id": "c6fc76a0",
   "metadata": {},
   "outputs": [
    {
     "name": "stdout",
     "output_type": "stream",
     "text": [
      "Преброяване 2011 - методологически документи ... за броя на хората в страната и в отделните населени места по пол, възраст, образование, грамотност, занятие, вероизповедание, етническа ...\n"
     ]
    }
   ],
   "source": [
    "print(results[0]['body'])"
   ]
  },
  {
   "cell_type": "code",
   "execution_count": 20,
   "id": "dcc5c0b7",
   "metadata": {},
   "outputs": [
    {
     "data": {
      "text/plain": [
       "'2023-01-31...2025-06-22'"
      ]
     },
     "execution_count": 20,
     "metadata": {},
     "output_type": "execute_result"
    }
   ],
   "source": [
    "timelimit=\"2023-01-31...NOW\"\n",
    "\n",
    "from datetime import datetime\n",
    "timelimit.replace(\"NOW\", datetime.now().strftime('%Y-%m-%d'))"
   ]
  },
  {
   "cell_type": "code",
   "execution_count": null,
   "id": "9e656d6f",
   "metadata": {},
   "outputs": [
    {
     "ename": "TypeError",
     "evalue": "unbound method datetime.date() needs an argument",
     "output_type": "error",
     "traceback": [
      "\u001b[31m---------------------------------------------------------------------------\u001b[39m",
      "\u001b[31mTypeError\u001b[39m                                 Traceback (most recent call last)",
      "\u001b[36mCell\u001b[39m\u001b[36m \u001b[39m\u001b[32mIn[18]\u001b[39m\u001b[32m, line 1\u001b[39m\n\u001b[32m----> \u001b[39m\u001b[32m1\u001b[39m \u001b[43mdatetime\u001b[49m\u001b[43m.\u001b[49m\u001b[43mdate\u001b[49m\u001b[43m(\u001b[49m\u001b[43m)\u001b[49m\n",
      "\u001b[31mTypeError\u001b[39m: unbound method datetime.date() needs an argument"
     ]
    }
   ],
   "source": [
    "datetime."
   ]
  },
  {
   "cell_type": "code",
   "execution_count": 16,
   "id": "4a4bb7f7",
   "metadata": {},
   "outputs": [],
   "source": [
    "import uuid\n",
    "\n",
    "import requests\n",
    "\n",
    "\n",
    "def run_v4_sync():\n",
    "    msg = [\n",
    "        {\n",
    "            \"role\": \"user\",\n",
    "            \"content\":\"中国队奥运会拿了多少奖牌\"\n",
    "        }\n",
    "    ]\n",
    "    url = \"http://gpt-proxy.jd.com/v1/web-search\"\n",
    "    request_id = str(uuid.uuid4())\n",
    "    data = {\n",
    "        \"request_id\": request_id,\n",
    "        \"stream\": False,\n",
    "        \"messages\": msg\n",
    "    }\n",
    "\n",
    "    resp = requests.post(\n",
    "        url,\n",
    "        json=data,\n",
    "        headers={'Authorization': \"64268e2b-188f-4e86-9b2a-8542ba3849c8\"},\n",
    "        timeout=300\n",
    "    )\n",
    "    print(resp.content.decode())\n"
   ]
  },
  {
   "cell_type": "code",
   "execution_count": 18,
   "id": "a3bec34d",
   "metadata": {},
   "outputs": [
    {
     "name": "stdout",
     "output_type": "stream",
     "text": [
      "{\"error\":{\"code\":\"1039\",\"message\":\"请求参数model错误，请检查请求参数！\"}}\n"
     ]
    }
   ],
   "source": [
    "run_v4_sync()"
   ]
  },
  {
   "cell_type": "code",
   "execution_count": null,
   "id": "8a649b95",
   "metadata": {},
   "outputs": [],
   "source": []
  }
 ],
 "metadata": {
  "kernelspec": {
   "display_name": "dev",
   "language": "python",
   "name": "python3"
  },
  "language_info": {
   "codemirror_mode": {
    "name": "ipython",
    "version": 3
   },
   "file_extension": ".py",
   "mimetype": "text/x-python",
   "name": "python",
   "nbconvert_exporter": "python",
   "pygments_lexer": "ipython3",
   "version": "3.11.13"
  }
 },
 "nbformat": 4,
 "nbformat_minor": 5
}
