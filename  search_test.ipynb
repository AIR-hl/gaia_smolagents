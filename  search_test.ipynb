{
 "cells": [
  {
   "cell_type": "code",
   "execution_count": 2,
   "id": "9c2fd150",
   "metadata": {},
   "outputs": [
    {
     "name": "stderr",
     "output_type": "stream",
     "text": [
      "ERROR:root:https://lite.duckduckgo.com/lite/ 202 Ratelimit\n"
     ]
    }
   ],
   "source": [
    "from src.tools.search_tool import DuckDuckGoSearchTool, GoogleSearchTool, IntegratedSearchTool\n",
    "import os\n",
    "SERPAPI_API_KEY = \"01b515185c2e7842665ca2086a5a04385672531fa8e22542392b3cc9c47dd659\"\n",
    "os.environ['SERPAPI_API_KEY'] = SERPAPI_API_KEY\n",
    "\n",
    "tool1=DuckDuckGoSearchTool()\n",
    "tool2=GoogleSearchTool()\n",
    "tool3=IntegratedSearchTool()\n",
    "\n",
    "query=\"Andy Serks Cretaceous 360 VR Youtube March 2018\"\n",
    "# result1, result1_map=tool1.search(query)\n",
    "# print(result1)\n",
    "\n",
    "result2,result2_map=tool2.search(query)\n",
    "# print(result2)\n",
    "\n",
    "# result3=tool3(query)\n",
    "# print(result3)"
   ]
  },
  {
   "cell_type": "code",
   "execution_count": 2,
   "id": "53611506",
   "metadata": {},
   "outputs": [
    {
     "data": {
      "text/plain": [
       "['[4K 3D 360° VR LEAPCon 2018: Meet Imaginarium Studios Andy ... - YouTube](https://www.youtube.com/watch?v=ySwDIL9KIFg)\\nSnippet: 360° video playback is not supported on this browser. 4K 3D 360° VR LEAPCon 2018: Meet Imaginarium Studios Andy Serkis, Matt Brown, Adam Philips and Devin THEGAMEVEDA 4.05K subscribers Subscribe',\n",
       " '[We Are Stars with Andy Serkis - 360 VR Video - YouTube](https://www.youtube.com/watch?v=toSH6hxeGEo)\\nSnippet: We Are Stars with Andy Serkis - 360 VR Video Artizen 3.96K subscribers Subscribed',\n",
       " '[We Are Stars Trailer 1 - 4k 360° 3D 60fps - YouTube](https://www.youtube.com/watch?v=yznQ1JSU8cw)\\nSnippet: 360° video playback is not supported on this browser. We Are Stars Trailer 1 - 4k 360° 3D 60fps NSCcreative 929 subscribers',\n",
       " '[first number mentioned after dinosaurs shown in YouTube 360 VR narrated ...](https://www.wordplays.com/crossword-solver/first-number-mentioned-after-dinosaurs-shown-in-YouTube-360-VR-narrated-by-Andy-Serkis-March-2018)\\nSnippet: Answers for first number mentioned after dinosaurs shown in YouTube 360 VR narrated by Andy Serkis March 2018 crossword clue, 6 letters. Search for crossword clues found in the Daily Celebrity, NY Times, Daily Mirror, Telegraph and major publications.',\n",
       " '[Videos about March 2018 YouTube 360 VR Narrated By Andy Serkis ...](https://www.watchmojo.com/tag/March+2018+YouTube+360+VR+Narrated+By+Andy+Serkis+Featuring+Dinosaurs/)\\nSnippet: March 2018 YouTube 360 VR Narrated By Andy Serkis Featuring Dinosaurs videos and branded content hosted and created by WatchMojo.com',\n",
       " '[We Are Stars 360° 3D 60fps VR Trailer - Vimeo](https://vimeo.com/207505938)\\nSnippet: \"ROLL UP, ROLL UP... COME INSIDE AND EXPERIENCE THE UNIVERSE LIKE NEVER BEFORE... LET US TAKE YOU ON A JOURNEY THROUGH TIME AND SPACE!!!\" The…',\n",
       " '[We Are Stars - VR & AR Wiki - Virtual Reality & Augmented Reality Wiki](https://vrarwiki.com/wiki/We_Are_Stars)\\nSnippet: What are we made of? Where did it all come from? Explore the secrets of our cosmic chemistry, our explosive origins and connect life on Earth to the evolution of the Universe. We join the Time Master narrated by Hollywood superstar Andy Serkis, a Victorian gent with his very own time tent who whisks us off on a 13.8 billion year adventure.',\n",
       " \"[Taking a cosmic trip with We Are Stars | VIVE Blog](https://blog.vive.com/us/taking-a-cosmic-trip-with-we-are-stars/)\\nSnippet: It's perfect for VR! Who wouldn't want to have our amazing cosmos whizzing past their eyes in stereoscopic 3D at high-frame-rate in 360 degrees! We Are Stars is a 360 video experience - have you any plans for more interactive VR experiences? We think there are all kind of new genres that are going to be born as VR evolves.\",\n",
       " \"[Videos: Epic Games' Unreal new digital human demos - CG Channel](https://www.cgchannel.com/2018/03/eye-candy-epic-games-unreal-new-digital-human-demos/)\\nSnippet: Epic Games has been showing off its work on photorealistic digital humans for a few years now, and its State of Unreal keynote from GDC 2018 didn't disappoint, including not one but three impressive real-time demos. The demos, created using 3Lateral's facial capture technology, and rendered in Unreal Engine, turned one actress into a digital replica of another - and turned Andy Serkis ...\",\n",
       " '[Videos about Andy Serkis Narrated 360 VR YouTube Video March 2018 ...](https://www.watchmojo.com/tag/Andy+Serkis+Narrated+360+VR+YouTube+Video+March+2018+Number+Mentioned+After+First+Dinosaur/)\\nSnippet: Andy Serkis Narrated 360 VR YouTube Video March 2018 Number Mentioned After First Dinosaur videos and branded content hosted and created by WatchMojo.com']"
      ]
     },
     "execution_count": 2,
     "metadata": {},
     "output_type": "execute_result"
    }
   ],
   "source": [
    "result1"
   ]
  },
  {
   "cell_type": "code",
   "execution_count": 3,
   "id": "d9033a62",
   "metadata": {},
   "outputs": [
    {
     "data": {
      "text/plain": [
       "\"## Search Results\\n1. [We Are Stars with Andy Serkis - 360 VR Video](https://www.youtube.com/watch?v=toSH6hxeGEo)\\nSource: YouTube · Artizen\\nSnippet: We Are Stars with Andy Serkis - 360 VR Video. 623K views · 7 years ... 360° VR experience) | We The Curious. We The Curious 360° 17M ...\\n\\n2. [4K 3D 360° VR LEAPCon 2018: Meet Imaginarium Studios Andy ... - YouTube](https://www.youtube.com/watch?v=ySwDIL9KIFg)\\nSnippet: 360° video playback is not supported on this browser. 4K 3D 360° VR LEAPCon 2018: Meet Imaginarium Studios Andy Serkis, Matt Brown, Adam Philips and Devin THEGAMEVEDA 4.05K subscribers Subscribe\\n\\n3. [360 Video](https://www.youtube.com/playlist?list=PL4p5NRamFPnjIL5qS31EYxPEL0TFt9SqM)\\nSource: YouTube\\nSnippet: 360 Videos in Unity with VR Panorama 360 PRO Renderer - Review & Tutorial ... We Are Stars with Andy Serkis - 360 VR Video. Artizen. 360° · 12:20 · Master ...\\n\\n4. [We Are Stars with Andy Serkis - 360 VR Video - YouTube](https://www.youtube.com/watch?v=toSH6hxeGEo)\\nSnippet: We Are Stars with Andy Serkis - 360 VR Video Artizen 3.96K subscribers Subscribed\\n\\n5. [3D VR “Favorites” VR180 & Stereoscopic 360](https://www.youtube.com/playlist?list=PLuetrp1QqJdZOy27AkwT0gy5e_wOARCsl)\\nSource: YouTube · Ted Whitten\\nSnippet: These are some of the best VR videos I've seen on YouTube. I believe true VR absolutely MUST be in stereoscopic 3D.\\n\\n6. [We Are Stars Trailer 1 - 4k 360° 3D 60fps - YouTube](https://www.youtube.com/watch?v=yznQ1JSU8cw)\\nSnippet: 360° video playback is not supported on this browser. We Are Stars Trailer 1 - 4k 360° 3D 60fps NSCcreative 929 subscribers\\n\\n7. [first number mentioned after dinosaurs shown in YouTube 360 VR narrated ...](https://www.wordplays.com/crossword-solver/first-number-mentioned-after-dinosaurs-shown-in-YouTube-360-VR-narrated-by-Andy-Serkis-March-2018)\\nSnippet: Answers for first number mentioned after dinosaurs shown in YouTube 360 VR narrated by Andy Serkis March 2018 crossword clue, 6 letters. Search for crossword clues found in the Daily Celebrity, NY Times, Daily Mirror, Telegraph and major publications.\\n\\n8. [Videos about March 2018 YouTube 360 VR Narrated By Andy Serkis ...](https://www.watchmojo.com/tag/March+2018+YouTube+360+VR+Narrated+By+Andy+Serkis+Featuring+Dinosaurs/)\\nSnippet: March 2018 YouTube 360 VR Narrated By Andy Serkis Featuring Dinosaurs videos and branded content hosted and created by WatchMojo.com\""
      ]
     },
     "execution_count": 3,
     "metadata": {},
     "output_type": "execute_result"
    }
   ],
   "source": [
    "result3"
   ]
  },
  {
   "cell_type": "code",
   "execution_count": 4,
   "id": "12476c73",
   "metadata": {},
   "outputs": [
    {
     "data": {
      "text/plain": [
       "'[We Are Stars with Andy Serkis - 360 VR Video](https://www.youtube.com/watch?v=toSH6hxeGEo)\\nSource: YouTube · Artizen\\nSnippet: We Are Stars with Andy Serkis - 360 VR Video. 623K views · 7 years ... 360° VR experience) | We The Curious. We The Curious 360° 17M ...'"
      ]
     },
     "execution_count": 4,
     "metadata": {},
     "output_type": "execute_result"
    }
   ],
   "source": [
    "result2"
   ]
  },
  {
   "cell_type": "code",
   "execution_count": null,
   "id": "91cae4d6",
   "metadata": {},
   "outputs": [],
   "source": []
  }
 ],
 "metadata": {
  "kernelspec": {
   "display_name": "gaia",
   "language": "python",
   "name": "python3"
  },
  "language_info": {
   "codemirror_mode": {
    "name": "ipython",
    "version": 3
   },
   "file_extension": ".py",
   "mimetype": "text/x-python",
   "name": "python",
   "nbconvert_exporter": "python",
   "pygments_lexer": "ipython3",
   "version": "3.11.13"
  }
 },
 "nbformat": 4,
 "nbformat_minor": 5
}
