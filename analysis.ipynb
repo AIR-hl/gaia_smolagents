{
 "cells": [
  {
   "cell_type": "code",
   "execution_count": null,
   "metadata": {},
   "outputs": [],
   "source": [
    "!pip install plotly kaleido datasets nbformat -U -q"
   ]
  },
  {
   "cell_type": "code",
   "execution_count": 3,
   "metadata": {},
   "outputs": [
    {
     "data": {
      "application/vnd.jupyter.widget-view+json": {
       "model_id": "53fdd842818e472da268d1b17db2ae5a",
       "version_major": 2,
       "version_minor": 0
      },
      "text/plain": [
       "VBox(children=(HTML(value='<center> <img\\nsrc=https://huggingface.co/front/assets/huggingface_logo-noborder.sv…"
      ]
     },
     "metadata": {},
     "output_type": "display_data"
    }
   ],
   "source": [
    "import os\n",
    "\n",
    "import datasets\n",
    "import pandas as pd\n",
    "from dotenv import load_dotenv\n",
    "from huggingface_hub import login\n",
    "\n",
    "\n",
    "load_dotenv(override=True)\n",
    "login(os.getenv(\"HF_TOKEN\"))\n",
    "\n",
    "pd.set_option(\"max_colwidth\", None)\n",
    "\n",
    "OUTPUT_DIR = \"output\""
   ]
  },
  {
   "cell_type": "code",
   "execution_count": 20,
   "metadata": {},
   "outputs": [],
   "source": [
    "eval_ds = datasets.load_dataset(\n",
    "        \"data/gaia/GAIA.py\",\n",
    "        name=\"2023_all\",\n",
    "        split=\"validation\",\n",
    "        trust_remote_code=True\n",
    "        # data_files={\"validation\": \"validation/metadata.jsonl\", \"test\": \"test/metadata.jsonl\"},\n",
    "    )\n",
    "eval_ds = eval_ds.rename_columns({\"Question\": \"question\", \"Final answer\": \"true_answer\", \"Level\": \"task\"})\n",
    "eval_df = pd.DataFrame(eval_ds)"
   ]
  },
  {
   "cell_type": "markdown",
   "metadata": {},
   "source": [
    "# 1. Load all results"
   ]
  },
  {
   "cell_type": "code",
   "execution_count": 21,
   "metadata": {},
   "outputs": [],
   "source": [
    "import glob\n",
    "\n",
    "\n",
    "results = []\n",
    "for f in glob.glob(f\"{OUTPUT_DIR}/validation/*.jsonl\"):\n",
    "    df = pd.read_json(f, lines=True)\n",
    "    df[\"agent_name\"] = f.split(\"/\")[-1].split(\".\")[0]\n",
    "    results.append(df)\n",
    "\n",
    "result_df = pd.concat(results)\n",
    "result_df[\"prediction\"] = result_df[\"prediction\"].fillna(\"No prediction\")"
   ]
  },
  {
   "cell_type": "code",
   "execution_count": 22,
   "metadata": {},
   "outputs": [
    {
     "name": "stdout",
     "output_type": "stream",
     "text": [
      "String No prediction cannot be normalized to number str.\n",
      "String No prediction cannot be normalized to number str.\n",
      "String No prediction cannot be normalized to number str.\n",
      "String No prediction cannot be normalized to number str.\n",
      "String No prediction cannot be normalized to number str.\n",
      "String No prediction cannot be normalized to number str.\n",
      "String Unable to determine cannot be normalized to number str.\n",
      "String No prediction cannot be normalized to number str.\n",
      "String Unable to determine cannot be normalized to number str.\n",
      "String 2072 Akaikai Loop 1057000 cannot be normalized to number str.\n",
      "String No prediction cannot be normalized to number str.\n",
      "String No prediction cannot be normalized to number str.\n",
      "String Unable to determine cannot be normalized to number str.\n",
      "String Unable to determine cannot be normalized to number str.\n",
      "String Unable to determine cannot be normalized to number str.\n",
      "String 1.54 Å cannot be normalized to number str.\n",
      "String No prediction cannot be normalized to number str.\n",
      "String No prediction cannot be normalized to number str.\n",
      "String 46.3 for Cheater cannot be normalized to number str.\n",
      "String  44.9 for Cheater beater cannot be normalized to number str.\n",
      "String 2017 Komo Mai Drive 985000 cannot be normalized to number str.\n",
      "String No prediction cannot be normalized to number str.\n",
      "String Unable to determine cannot be normalized to number str.\n",
      "String 89706.00 USD cannot be normalized to number str.\n",
      "String No prediction cannot be normalized to number str.\n",
      "String 1.46 Å cannot be normalized to number str.\n",
      "String 0.1777 m³ cannot be normalized to number str.\n",
      "String Unable to determine cannot be normalized to number str.\n",
      "String Unable to determine cannot be normalized to number str.\n",
      "String No prediction cannot be normalized to number str.\n",
      "String 104–167 cannot be normalized to number str.\n",
      "String Unable to determine cannot be normalized to number str.\n",
      "String Unable to determine cannot be normalized to number str.\n",
      "String Unable to determine cannot be normalized to number str.\n",
      "String 450 CFM cannot be normalized to number str.\n",
      "String  360 CFM cannot be normalized to number str.\n",
      "String Unable to determine cannot be normalized to number str.\n",
      "String Unable to determine cannot be normalized to number str.\n",
      "String Thought:\n",
      "The previous Atom-API approach did not expose PS links so I'll fetch the actual HTML listing page with a browser-like User-Agent header parse it with BeautifulSoup to count how many entries include a \"ps\" link in their \"Other formats\" div.\n",
      "\n",
      "Code:\n",
      "```py\n",
      "import requests\n",
      "from bs4 import BeautifulSoup\n",
      "\n",
      "# Fetch the hep-lat Jan 2020 listing with a browser User-Agent\n",
      "url = \"https://arxiv.org/list/hep-lat/2001?show=1000\"\n",
      "resp = requests.get(url headers={'User-Agent': 'Mozilla/5.0'})\n",
      "resp.raise_for_status()\n",
      "html = resp.text\n",
      "\n",
      "# Parse with BeautifulSoup\n",
      "soup = BeautifulSoup(html 'html.parser')\n",
      "\n",
      "# Count dd entries with a ps link in their other formats\n",
      "ps_count = 0\n",
      "for dd in soup.find_all('dd'):\n",
      "    # arXiv uses class 'list-other-format' or 'list-other-formats'\n",
      "    div = dd.find('div' class_=['list-other-format' 'list-other-formats'])\n",
      "    if div and div.find('a' title='ps'):\n",
      "        ps_count += 1\n",
      "\n",
      "print(ps_count)\n",
      "final_answer(ps_count)\n",
      "```<end_code> cannot be normalized to number str.\n",
      "String No prediction cannot be normalized to number str.\n",
      "String No prediction cannot be normalized to number str.\n",
      "String No prediction cannot be normalized to number str.\n",
      "String No prediction cannot be normalized to number str.\n",
      "String No prediction cannot be normalized to number str.\n",
      "String No prediction cannot be normalized to number str.\n",
      "String No prediction cannot be normalized to number str.\n",
      "String No prediction cannot be normalized to number str.\n",
      "String No prediction cannot be normalized to number str.\n",
      "String No prediction cannot be normalized to number str.\n",
      "String No prediction cannot be normalized to number str.\n",
      "String No prediction cannot be normalized to number str.\n",
      "String No prediction cannot be normalized to number str.\n",
      "String No prediction cannot be normalized to number str.\n",
      "String No prediction cannot be normalized to number str.\n",
      "String No prediction cannot be normalized to number str.\n",
      "String No prediction cannot be normalized to number str.\n",
      "String No prediction cannot be normalized to number str.\n",
      "String No prediction cannot be normalized to number str.\n",
      "String No prediction cannot be normalized to number str.\n",
      "String No prediction cannot be normalized to number str.\n",
      "String No prediction cannot be normalized to number str.\n",
      "String No prediction cannot be normalized to number str.\n",
      "String No prediction cannot be normalized to number str.\n",
      "String No prediction cannot be normalized to number str.\n",
      "String 1.46 Å cannot be normalized to number str.\n",
      "String No prediction cannot be normalized to number str.\n",
      "String No prediction cannot be normalized to number str.\n",
      "String No prediction cannot be normalized to number str.\n",
      "String Unable to determine cannot be normalized to number str.\n",
      "String No prediction cannot be normalized to number str.\n",
      "String 2017 Komo Mai Drive 900000 cannot be normalized to number str.\n",
      "String Unable to determine cannot be normalized to number str.\n",
      "String Unable to determine cannot be normalized to number str.\n",
      "String Unable to determine cannot be normalized to number str.\n",
      "String 230 million cannot be normalized to number str.\n",
      "Close call: broccoli, celery, fresh basil, lettuce, peanuts, sweet potatoes vs broccoli, celery, fresh basil, lettuce, sweet potatoes\n",
      "Close call: Egalitarianism vs egalitarian\n"
     ]
    },
    {
     "name": "stderr",
     "output_type": "stream",
     "text": [
      "/Users/chenmeiqi.7777/Projects/gaia_agent/examples/open_deep_research/scripts/gaia_scorer.py:52: UserWarning:\n",
      "\n",
      "Answer lists have different lengths, returning False.\n",
      "\n"
     ]
    }
   ],
   "source": [
    "import re\n",
    "from collections import Counter\n",
    "\n",
    "from scripts.gaia_scorer import check_close_call, question_scorer\n",
    "\n",
    "\n",
    "result_df[\"is_correct\"] = result_df.apply(lambda x: question_scorer(x[\"prediction\"], x[\"true_answer\"]), axis=1)\n",
    "result_df[\"is_near_correct\"] = result_df.apply(\n",
    "    lambda x: check_close_call(x[\"prediction\"], x[\"true_answer\"], x[\"is_correct\"]),\n",
    "    axis=1,\n",
    ")\n",
    "\n",
    "result_df[\"count_steps\"] = result_df[\"intermediate_steps\"].apply(len)\n",
    "\n",
    "\n",
    "def find_attachment(question):\n",
    "    matches = eval_df.loc[eval_df[\"question\"].apply(lambda x: x in question), \"file_name\"]\n",
    "\n",
    "    if len(matches) == 0:\n",
    "        return \"Not found\"\n",
    "    file_path = matches.values[0]\n",
    "\n",
    "    if isinstance(file_path, str) and len(file_path) > 0:\n",
    "        return file_path.split(\".\")[-1]\n",
    "    else:\n",
    "        return \"None\"\n",
    "\n",
    "\n",
    "result_df[\"attachment_type\"] = result_df[\"question\"].apply(find_attachment)\n",
    "\n",
    "\n",
    "def extract_tool_calls(code):\n",
    "    regex = r\"\\b(\\w+)\\(\"\n",
    "    function_calls = [el for el in re.findall(regex, code) if el.islower()]\n",
    "\n",
    "    function_call_counter = Counter(function_calls)\n",
    "    return function_call_counter\n",
    "\n",
    "\n",
    "def sum_tool_calls(steps):\n",
    "    total_count = Counter()\n",
    "    for step in steps:\n",
    "        if \"llm_output\" in step:\n",
    "            total_count += extract_tool_calls(step[\"llm_output\"])\n",
    "\n",
    "    return total_count\n",
    "\n",
    "\n",
    "def get_durations(row):\n",
    "    # start_datetime = datetime.strptime(row['start_time'], \"%Y-%m-%d %H:%M:%S\")\n",
    "    # end_datetime = datetime.strptime(row['end_time'], \"%Y-%m-%d %H:%M:%S\")\n",
    "\n",
    "    duration_timedelta = row[\"end_time\"] - row[\"start_time\"]\n",
    "    return int(duration_timedelta.total_seconds())\n",
    "\n",
    "\n",
    "result_df[\"duration\"] = result_df.apply(get_durations, axis=1)\n",
    "# result_df[\"tool_calls\"] = result_df[\"intermediate_steps\"].apply(sum_tool_calls)"
   ]
  },
  {
   "cell_type": "code",
   "execution_count": 23,
   "metadata": {},
   "outputs": [
    {
     "data": {
      "text/plain": [
       "agent_name\n",
       "gaia_o1                              165\n",
       "gaia_o1_audio                        165\n",
       "gaia_o4-mini                         165\n",
       "gaia_o4-mini_search                  165\n",
       "gaia_claude-3-5-sonnet                37\n",
       "generate-traces-03-apr-noplanning      9\n",
       "Name: count, dtype: int64"
      ]
     },
     "execution_count": 23,
     "metadata": {},
     "output_type": "execute_result"
    }
   ],
   "source": [
    "result_df[\"agent_name\"].value_counts()"
   ]
  },
  {
   "cell_type": "markdown",
   "metadata": {},
   "source": [
    "# 2. Inspect specific runs"
   ]
  },
  {
   "cell_type": "code",
   "execution_count": 24,
   "metadata": {},
   "outputs": [
    {
     "data": {
      "text/plain": [
       "agent_name\n",
       "gaia_o1                              165\n",
       "gaia_o1_audio                        165\n",
       "gaia_o4-mini                         165\n",
       "gaia_o4-mini_search                  165\n",
       "gaia_claude-3-5-sonnet                37\n",
       "generate-traces-03-apr-noplanning      9\n",
       "Name: count, dtype: int64"
      ]
     },
     "metadata": {},
     "output_type": "display_data"
    },
    {
     "data": {
      "text/plain": [
       "agent_name                         task\n",
       "gaia_claude-3-5-sonnet             2       20\n",
       "                                   1       11\n",
       "                                   3        6\n",
       "gaia_o1                            2       86\n",
       "                                   1       53\n",
       "                                   3       26\n",
       "gaia_o1_audio                      2       86\n",
       "                                   1       53\n",
       "                                   3       26\n",
       "gaia_o4-mini                       2       86\n",
       "                                   1       53\n",
       "                                   3       26\n",
       "gaia_o4-mini_search                2       86\n",
       "                                   1       53\n",
       "                                   3       26\n",
       "generate-traces-03-apr-noplanning  1        5\n",
       "                                   2        2\n",
       "                                   3        2\n",
       "Name: count, dtype: int64"
      ]
     },
     "metadata": {},
     "output_type": "display_data"
    },
    {
     "name": "stdout",
     "output_type": "stream",
     "text": [
      "Total length: 706 - is complete: False\n"
     ]
    }
   ],
   "source": [
    "sel_df = result_df\n",
    "# sel_df = sel_df.loc[\n",
    "#     (result_df[\"agent_name\"].isin(list_versions))\n",
    "# ]\n",
    "sel_df = sel_df.reset_index(drop=True)\n",
    "display(sel_df[\"agent_name\"].value_counts())\n",
    "sel_df = sel_df.drop_duplicates(subset=[\"agent_name\", \"question\"])\n",
    "display(sel_df.groupby(\"agent_name\")[[\"task\"]].value_counts())\n",
    "print(\"Total length:\", len(sel_df), \"- is complete:\", len(sel_df) == 165)"
   ]
  },
  {
   "cell_type": "code",
   "execution_count": 25,
   "metadata": {},
   "outputs": [
    {
     "data": {
      "text/plain": [
       "'Average score:'"
      ]
     },
     "metadata": {},
     "output_type": "display_data"
    },
    {
     "data": {
      "text/html": [
       "<div>\n",
       "<style scoped>\n",
       "    .dataframe tbody tr th:only-of-type {\n",
       "        vertical-align: middle;\n",
       "    }\n",
       "\n",
       "    .dataframe tbody tr th {\n",
       "        vertical-align: top;\n",
       "    }\n",
       "\n",
       "    .dataframe thead th {\n",
       "        text-align: right;\n",
       "    }\n",
       "</style>\n",
       "<table border=\"1\" class=\"dataframe\">\n",
       "  <thead>\n",
       "    <tr style=\"text-align: right;\">\n",
       "      <th></th>\n",
       "      <th>is_correct</th>\n",
       "    </tr>\n",
       "    <tr>\n",
       "      <th>agent_name</th>\n",
       "      <th></th>\n",
       "    </tr>\n",
       "  </thead>\n",
       "  <tbody>\n",
       "    <tr>\n",
       "      <th>gaia_claude-3-5-sonnet</th>\n",
       "      <td>0.000</td>\n",
       "    </tr>\n",
       "    <tr>\n",
       "      <th>gaia_o1</th>\n",
       "      <td>0.442</td>\n",
       "    </tr>\n",
       "    <tr>\n",
       "      <th>gaia_o1_audio</th>\n",
       "      <td>0.442</td>\n",
       "    </tr>\n",
       "    <tr>\n",
       "      <th>gaia_o4-mini</th>\n",
       "      <td>0.412</td>\n",
       "    </tr>\n",
       "    <tr>\n",
       "      <th>gaia_o4-mini_search</th>\n",
       "      <td>0.509</td>\n",
       "    </tr>\n",
       "    <tr>\n",
       "      <th>generate-traces-03-apr-noplanning</th>\n",
       "      <td>0.000</td>\n",
       "    </tr>\n",
       "  </tbody>\n",
       "</table>\n",
       "</div>"
      ],
      "text/plain": [
       "                                   is_correct\n",
       "agent_name                                   \n",
       "gaia_claude-3-5-sonnet                  0.000\n",
       "gaia_o1                                 0.442\n",
       "gaia_o1_audio                           0.442\n",
       "gaia_o4-mini                            0.412\n",
       "gaia_o4-mini_search                     0.509\n",
       "generate-traces-03-apr-noplanning       0.000"
      ]
     },
     "metadata": {},
     "output_type": "display_data"
    },
    {
     "data": {
      "text/html": [
       "<div>\n",
       "<style scoped>\n",
       "    .dataframe tbody tr th:only-of-type {\n",
       "        vertical-align: middle;\n",
       "    }\n",
       "\n",
       "    .dataframe tbody tr th {\n",
       "        vertical-align: top;\n",
       "    }\n",
       "\n",
       "    .dataframe thead th {\n",
       "        text-align: right;\n",
       "    }\n",
       "</style>\n",
       "<table border=\"1\" class=\"dataframe\">\n",
       "  <thead>\n",
       "    <tr style=\"text-align: right;\">\n",
       "      <th></th>\n",
       "      <th></th>\n",
       "      <th>is_correct</th>\n",
       "      <th>is_near_correct</th>\n",
       "      <th>count_steps</th>\n",
       "      <th>count</th>\n",
       "      <th>duration</th>\n",
       "    </tr>\n",
       "    <tr>\n",
       "      <th>agent_name</th>\n",
       "      <th>task</th>\n",
       "      <th></th>\n",
       "      <th></th>\n",
       "      <th></th>\n",
       "      <th></th>\n",
       "      <th></th>\n",
       "    </tr>\n",
       "  </thead>\n",
       "  <tbody>\n",
       "    <tr>\n",
       "      <th rowspan=\"3\" valign=\"top\">gaia_claude-3-5-sonnet</th>\n",
       "      <th>1</th>\n",
       "      <td>0.000000</td>\n",
       "      <td>0.000000</td>\n",
       "      <td>0.000000</td>\n",
       "      <td>11</td>\n",
       "      <td>0.181818</td>\n",
       "    </tr>\n",
       "    <tr>\n",
       "      <th>2</th>\n",
       "      <td>0.000000</td>\n",
       "      <td>0.000000</td>\n",
       "      <td>0.000000</td>\n",
       "      <td>20</td>\n",
       "      <td>0.250000</td>\n",
       "    </tr>\n",
       "    <tr>\n",
       "      <th>3</th>\n",
       "      <td>0.000000</td>\n",
       "      <td>0.000000</td>\n",
       "      <td>0.000000</td>\n",
       "      <td>6</td>\n",
       "      <td>0.166667</td>\n",
       "    </tr>\n",
       "    <tr>\n",
       "      <th rowspan=\"3\" valign=\"top\">gaia_o1</th>\n",
       "      <th>1</th>\n",
       "      <td>0.509434</td>\n",
       "      <td>0.509434</td>\n",
       "      <td>9.905660</td>\n",
       "      <td>53</td>\n",
       "      <td>492.547170</td>\n",
       "    </tr>\n",
       "    <tr>\n",
       "      <th>2</th>\n",
       "      <td>0.476744</td>\n",
       "      <td>0.476744</td>\n",
       "      <td>10.279070</td>\n",
       "      <td>86</td>\n",
       "      <td>619.348837</td>\n",
       "    </tr>\n",
       "    <tr>\n",
       "      <th>3</th>\n",
       "      <td>0.192308</td>\n",
       "      <td>0.192308</td>\n",
       "      <td>11.692308</td>\n",
       "      <td>26</td>\n",
       "      <td>1021.615385</td>\n",
       "    </tr>\n",
       "    <tr>\n",
       "      <th rowspan=\"3\" valign=\"top\">gaia_o1_audio</th>\n",
       "      <th>1</th>\n",
       "      <td>0.528302</td>\n",
       "      <td>0.528302</td>\n",
       "      <td>9.981132</td>\n",
       "      <td>53</td>\n",
       "      <td>172.660377</td>\n",
       "    </tr>\n",
       "    <tr>\n",
       "      <th>2</th>\n",
       "      <td>0.453488</td>\n",
       "      <td>0.453488</td>\n",
       "      <td>10.720930</td>\n",
       "      <td>86</td>\n",
       "      <td>239.465116</td>\n",
       "    </tr>\n",
       "    <tr>\n",
       "      <th>3</th>\n",
       "      <td>0.230769</td>\n",
       "      <td>0.230769</td>\n",
       "      <td>14.923077</td>\n",
       "      <td>26</td>\n",
       "      <td>444.384615</td>\n",
       "    </tr>\n",
       "    <tr>\n",
       "      <th rowspan=\"3\" valign=\"top\">gaia_o4-mini</th>\n",
       "      <th>1</th>\n",
       "      <td>0.566038</td>\n",
       "      <td>0.584906</td>\n",
       "      <td>18.679245</td>\n",
       "      <td>53</td>\n",
       "      <td>681.132075</td>\n",
       "    </tr>\n",
       "    <tr>\n",
       "      <th>2</th>\n",
       "      <td>0.395349</td>\n",
       "      <td>0.395349</td>\n",
       "      <td>17.941860</td>\n",
       "      <td>86</td>\n",
       "      <td>911.593023</td>\n",
       "    </tr>\n",
       "    <tr>\n",
       "      <th>3</th>\n",
       "      <td>0.153846</td>\n",
       "      <td>0.153846</td>\n",
       "      <td>19.076923</td>\n",
       "      <td>26</td>\n",
       "      <td>1173.192308</td>\n",
       "    </tr>\n",
       "    <tr>\n",
       "      <th rowspan=\"3\" valign=\"top\">gaia_o4-mini_search</th>\n",
       "      <th>1</th>\n",
       "      <td>0.584906</td>\n",
       "      <td>0.584906</td>\n",
       "      <td>13.622642</td>\n",
       "      <td>53</td>\n",
       "      <td>4934.962264</td>\n",
       "    </tr>\n",
       "    <tr>\n",
       "      <th>2</th>\n",
       "      <td>0.511628</td>\n",
       "      <td>0.523256</td>\n",
       "      <td>16.686047</td>\n",
       "      <td>86</td>\n",
       "      <td>6032.941860</td>\n",
       "    </tr>\n",
       "    <tr>\n",
       "      <th>3</th>\n",
       "      <td>0.346154</td>\n",
       "      <td>0.346154</td>\n",
       "      <td>17.384615</td>\n",
       "      <td>26</td>\n",
       "      <td>6746.692308</td>\n",
       "    </tr>\n",
       "    <tr>\n",
       "      <th rowspan=\"3\" valign=\"top\">generate-traces-03-apr-noplanning</th>\n",
       "      <th>1</th>\n",
       "      <td>0.000000</td>\n",
       "      <td>0.000000</td>\n",
       "      <td>0.000000</td>\n",
       "      <td>5</td>\n",
       "      <td>0.000000</td>\n",
       "    </tr>\n",
       "    <tr>\n",
       "      <th>2</th>\n",
       "      <td>0.000000</td>\n",
       "      <td>0.000000</td>\n",
       "      <td>0.000000</td>\n",
       "      <td>2</td>\n",
       "      <td>0.000000</td>\n",
       "    </tr>\n",
       "    <tr>\n",
       "      <th>3</th>\n",
       "      <td>0.000000</td>\n",
       "      <td>0.000000</td>\n",
       "      <td>0.000000</td>\n",
       "      <td>2</td>\n",
       "      <td>0.000000</td>\n",
       "    </tr>\n",
       "  </tbody>\n",
       "</table>\n",
       "</div>"
      ],
      "text/plain": [
       "                                        is_correct  is_near_correct  \\\n",
       "agent_name                        task                                \n",
       "gaia_claude-3-5-sonnet            1       0.000000         0.000000   \n",
       "                                  2       0.000000         0.000000   \n",
       "                                  3       0.000000         0.000000   \n",
       "gaia_o1                           1       0.509434         0.509434   \n",
       "                                  2       0.476744         0.476744   \n",
       "                                  3       0.192308         0.192308   \n",
       "gaia_o1_audio                     1       0.528302         0.528302   \n",
       "                                  2       0.453488         0.453488   \n",
       "                                  3       0.230769         0.230769   \n",
       "gaia_o4-mini                      1       0.566038         0.584906   \n",
       "                                  2       0.395349         0.395349   \n",
       "                                  3       0.153846         0.153846   \n",
       "gaia_o4-mini_search               1       0.584906         0.584906   \n",
       "                                  2       0.511628         0.523256   \n",
       "                                  3       0.346154         0.346154   \n",
       "generate-traces-03-apr-noplanning 1       0.000000         0.000000   \n",
       "                                  2       0.000000         0.000000   \n",
       "                                  3       0.000000         0.000000   \n",
       "\n",
       "                                        count_steps  count     duration  \n",
       "agent_name                        task                                   \n",
       "gaia_claude-3-5-sonnet            1        0.000000     11     0.181818  \n",
       "                                  2        0.000000     20     0.250000  \n",
       "                                  3        0.000000      6     0.166667  \n",
       "gaia_o1                           1        9.905660     53   492.547170  \n",
       "                                  2       10.279070     86   619.348837  \n",
       "                                  3       11.692308     26  1021.615385  \n",
       "gaia_o1_audio                     1        9.981132     53   172.660377  \n",
       "                                  2       10.720930     86   239.465116  \n",
       "                                  3       14.923077     26   444.384615  \n",
       "gaia_o4-mini                      1       18.679245     53   681.132075  \n",
       "                                  2       17.941860     86   911.593023  \n",
       "                                  3       19.076923     26  1173.192308  \n",
       "gaia_o4-mini_search               1       13.622642     53  4934.962264  \n",
       "                                  2       16.686047     86  6032.941860  \n",
       "                                  3       17.384615     26  6746.692308  \n",
       "generate-traces-03-apr-noplanning 1        0.000000      5     0.000000  \n",
       "                                  2        0.000000      2     0.000000  \n",
       "                                  3        0.000000      2     0.000000  "
      ]
     },
     "metadata": {},
     "output_type": "display_data"
    }
   ],
   "source": [
    "display(\"Average score:\", sel_df.groupby(\"agent_name\")[[\"is_correct\"]].mean().round(3))\n",
    "display(\n",
    "    sel_df.groupby([\"agent_name\", \"task\"])[[\"is_correct\", \"is_near_correct\", \"count_steps\", \"question\", \"duration\"]]\n",
    "    .agg(\n",
    "        {\n",
    "            \"is_correct\": \"mean\",\n",
    "            \"is_near_correct\": \"mean\",\n",
    "            \"count_steps\": \"mean\",\n",
    "            \"question\": \"count\",\n",
    "            \"duration\": \"mean\",\n",
    "        }\n",
    "    )\n",
    "    .rename(columns={\"question\": \"count\"})\n",
    ")"
   ]
  },
  {
   "cell_type": "code",
   "execution_count": 26,
   "metadata": {},
   "outputs": [
    {
     "data": {
      "application/vnd.plotly.v1+json": {
       "config": {
        "plotlyServerURL": "https://plot.ly"
       },
       "data": [
        {
         "customdata": [
          [
           "What is the average number of pre-2020 works on th"
          ],
          [
           "You are a telecommunications engineer who wants to"
          ],
          [
           "How many slides in this PowerPoint presentation me"
          ],
          [
           "Using the Biopython library in Python, parse the P"
          ],
          [
           "Hi, I'm making a pie but I could use some help wit"
          ],
          [
           "What percentage of the total penguin population ac"
          ],
          [
           "Could you help me out with this assignment? Our pr"
          ],
          [
           "An office held a Secret Santa gift exchange where "
          ],
          [
           "What is the final numeric output from the attached"
          ],
          [
           "Hi, I was out sick from my classes on Friday, so I"
          ],
          [
           "The attached Excel file contains the sales of menu"
          ],
          [
           "How many applicants for the job in the PDF are onl"
          ],
          [
           "As a comma separated list with no whitespace, usin"
          ],
          [
           "When you take the average of the standard populati"
          ],
          [
           "Using bass clef notes, what is the age of someone "
          ],
          [
           "In the NIH translation of the original 1913 Michae"
          ],
          [
           "Each cell in the attached spreadsheet represents a"
          ],
          [
           "The attached file shows a list of books in the col"
          ],
          [
           "The attached file contains a list of vendors in th"
          ],
          [
           "You are given this Excel file as a map. You start "
          ],
          [
           "The attached file lists accommodations in the reso"
          ],
          [
           "The brand that makes these harnesses the dogs are "
          ],
          [
           "Review the chess position provided in the image. I"
          ],
          [
           "What is the area of the green polygon in the attac"
          ],
          [
           "This spreadsheet contains a list of clients for a "
          ],
          [
           "The attached file shows the locomotives in the col"
          ],
          [
           "The attached spreadsheet contains a list of books "
          ],
          [
           "The attached file lists the locomotives owned by a"
          ],
          [
           "I have the Standard plan in the image below, and I"
          ],
          [
           "The attached spreadsheet shows the inventory for a"
          ],
          [
           "Look at the attached image. The quiz is scored as "
          ],
          [
           "The attached PDF lists accommodations in the resor"
          ],
          [
           "The attached image contains a Python script. Run t"
          ],
          [
           "I was referencing each of the tables in the file f"
          ],
          [
           "The attached spreadsheet lists the locomotives own"
          ],
          [
           "The attached spreadsheet contains the sales of men"
          ],
          [
           "If this whole pint is made up of ice cream, how ma"
          ]
         ],
         "hovertemplate": "agent_name=gaia_claude-3-5-sonnet<br>index=%{x}<br>is_correct=%{y}<br>question=%{customdata[0]}<extra></extra>",
         "legendgroup": "gaia_claude-3-5-sonnet",
         "line": {
          "color": "#636efa",
          "dash": "solid"
         },
         "marker": {
          "symbol": "circle"
         },
         "mode": "lines",
         "name": "gaia_claude-3-5-sonnet",
         "orientation": "v",
         "showlegend": true,
         "type": "scatter",
         "x": {
          "bdata": "AAECAwQFBgcICQoLDA0ODxAREhMUFRYXGBkaGxwdHh8gISIjJA==",
          "dtype": "i1"
         },
         "xaxis": "x",
         "y": {
          "bdata": "AAAAAAAAAAAAAAAAAAAAAAAAAAAAAAAAAAAAAAAAAAAAAAAAAAAAAAAAAAAAAAAAAAAAAAAAAAAAAAAAAAAAAAAAAAAAAAAAAAAAAAAAAAAAAAAAAAAAAAAAAAAAAAAAAAAAAAAAAAAAAAAAAAAAAAAAAAAAAAAAAAAAAAAAAAAAAAAAAAAAAAAAAAAAAAAAAAAAAAAAAAAAAAAAAAAAAAAAAAAAAAAAAAAAAAAAAAAAAAAAAAAAAAAAAAAAAAAAAAAAAAAAAAAAAAAAAAAAAAAAAAAAAAAAAAAAAAAAAAAAAAAAAAAAAAAAAAAAAAAAAAAAAAAAAAAAAAAAAAAAAAAAAAAAAAAAAAAAAAAAAAAAAAAAAAAAAAAAAAAAAAAAAAAAAAAAAAA=",
          "dtype": "f8"
         },
         "yaxis": "y"
        },
        {
         "customdata": [
          [
           "The attached spreadsheet shows the inventory for a"
          ],
          [
           "When you take the average of the standard populati"
          ],
          [
           "I’m researching species that became invasive after"
          ],
          [
           "In the video https://www.youtube.com/watch?v=L1vXC"
          ],
          [
           "What two-word type of model did Manash Pratim Kash"
          ],
          [
           "If we assume all articles published by Nature in 2"
          ],
          [
           "Of the authors (First M. Last) that worked on the "
          ],
          [
           ".rewsna eht sa \"tfel\" drow eht fo etisoppo eht eti"
          ],
          [
           "In Series 9, Episode 11 of Doctor Who, the Doctor "
          ],
          [
           "According to github, when was Regression added to "
          ],
          [
           "How many High Energy Physics - Lattice articles li"
          ],
          [
           "I need to fact-check a citation. This is the citat"
          ],
          [
           "An office held a Secret Santa gift exchange where "
          ],
          [
           "¬(A ∧ B) ↔ (¬A ∨ ¬B)\n¬(A ∨ B) ↔ (¬A ∧ ¬B)\n(A → B) "
          ],
          [
           "Assuming scientists in the famous youtube video Th"
          ],
          [
           "Use density measures from the chemistry materials "
          ],
          [
           "What was the volume in m^3 of the fish bag that wa"
          ],
          [
           "How many applicants for the job in the PDF are onl"
          ],
          [
           "What are the EC numbers of the two most commonly u"
          ],
          [
           "What animals that were mentioned in both Ilias Lag"
          ],
          [
           "Here's a fun riddle that I think you'll enjoy.\n\nYo"
          ],
          [
           "In Emily Midkiff's June 2014 article in a journal "
          ],
          [
           "In the fictional language of Tizin, basic sentence"
          ],
          [
           "Each cell in the attached spreadsheet represents a"
          ],
          [
           "In April of 1977, who was the Prime Minister of th"
          ],
          [
           "What is the maximum length in meters of #9 in the "
          ],
          [
           "In Unlambda, what exact charcter or text needs to "
          ],
          [
           "I went to Virtue restaurant & bar in Chicago for m"
          ],
          [
           "The Metropolitan Museum of Art has a portrait in i"
          ],
          [
           "What integer-rounded percentage of the total lengt"
          ],
          [
           "Compute the check digit the Tropicos ID for the Or"
          ],
          [
           "What's the last line of the rhyme under the flavor"
          ],
          [
           "In Valentina Re’s contribution to the 2017 book “W"
          ],
          [
           "It is 1999. Before you party like it is 1999, plea"
          ],
          [
           "A paper about AI regulation that was originally su"
          ],
          [
           "If Eliud Kipchoge could maintain his record-making"
          ],
          [
           "My family reunion is this week, and I was assigned"
          ],
          [
           "Review the chess position provided in the image. I"
          ],
          [
           "Which of the text elements under CATEGORIES in the"
          ],
          [
           "Find the value of x to the nearest tenth: Lx = (d/"
          ],
          [
           "Given this table defining * on the set S = {a, b, "
          ],
          [
           "Could you help me out with this assignment? Our pr"
          ],
          [
           "The object in the British Museum's collection with"
          ],
          [
           "The attached file shows a list of books in the col"
          ],
          [
           "How many studio albums were published by Mercedes "
          ],
          [
           "According to Google Finance, when was the first ye"
          ],
          [
           "According to Box Office Mojo's 2020 Worldwide Box "
          ],
          [
           "The following numbers function similarly to ISBN 1"
          ],
          [
           "What writer is quoted by Merriam-Webster for the W"
          ],
          [
           "In the year 2022, and before December, what does \""
          ],
          [
           "Who nominated the only Featured Article on English"
          ],
          [
           "The attached file contains a list of vendors in th"
          ],
          [
           "Under DDC 633 on Bielefeld University Library's BA"
          ],
          [
           "Using bass clef notes, what is the age of someone "
          ],
          [
           "The photograph in the Whitney Museum of American A"
          ],
          [
           "I was trying to remember how well the Cheater Beat"
          ],
          [
           "On July 15, 2008, Phys.org published an article ab"
          ],
          [
           "The attached file lists accommodations in the reso"
          ],
          [
           "In Nature journal's Scientific Reports conference "
          ],
          [
           "As a comma separated list with no whitespace, usin"
          ],
          [
           "What is the average number of pre-2020 works on th"
          ],
          [
           "Which contributor to the version of OpenCV where s"
          ],
          [
           "On a leap day before the year 2008, a joke was rem"
          ],
          [
           "How many nonindigenous crocodiles were found in Fl"
          ],
          [
           "You are Van Helsing, a renowned vampire hunter. A "
          ],
          [
           "How many slides in this PowerPoint presentation me"
          ],
          [
           "In the NIH translation of the original 1913 Michae"
          ],
          [
           "This is a secret message my friend gave me. It say"
          ],
          [
           "How many images are there in the latest 2022 Lego "
          ],
          [
           "In the 2018 VSCode blog post on replit.com, what w"
          ],
          [
           "If there is anything that doesn't make sense in th"
          ],
          [
           "The attached spreadsheet contains the sales of men"
          ],
          [
           "As of the 2020 census, what was the population dif"
          ],
          [
           "You are a telecommunications engineer who wants to"
          ],
          [
           "Given $x_0 = -5$ and $f(x) = x^3 + 4x^2 - 3x + 8$,"
          ],
          [
           "According to wikipedia, how many Asian countries s"
          ],
          [
           "In the endnote found in the second-to-last paragra"
          ],
          [
           "Look at the attached image. The quiz is scored as "
          ],
          [
           "How many edits were made to the Wikipedia page on "
          ],
          [
           "What is the last word before the second chorus of "
          ],
          [
           "What is the surname of the equine veterinarian men"
          ],
          [
           "Who composed the song that was performed by a roos"
          ],
          [
           "The attached file shows the locomotives in the col"
          ],
          [
           "I'm making a grocery list for my mom, but she's a "
          ],
          [
           "In terms of geographical distance between capital "
          ],
          [
           "What is the minimum number of page links a person "
          ],
          [
           "The attached PDF lists accommodations in the resor"
          ],
          [
           "The attached image contains a Python script. Run t"
          ],
          [
           "I have the Standard plan in the image below, and I"
          ],
          [
           "The year is 2022. I am at the National Air and Spa"
          ],
          [
           "In the NCATS PubChem compound database for Food Ad"
          ],
          [
           "This spreadsheet contains a list of clients for a "
          ],
          [
           "On ScienceDirect, what is the difference to 3 deci"
          ],
          [
           "Using the Biopython library in Python, parse the P"
          ],
          [
           "What is the area of the green polygon in the attac"
          ],
          [
           "What is the final numeric output from the attached"
          ],
          [
           "The longest-lived vertebrate is named after an isl"
          ],
          [
           "In July 2, 1959 United States standards for grades"
          ],
          [
           "In the Scikit-Learn July 2017 changelog, what othe"
          ],
          [
           "The Latin root of the Yola word \"gimlie\" shares a "
          ],
          [
           "The attached spreadsheet contains a list of books "
          ],
          [
           "Examine the video at https://www.youtube.com/watch"
          ],
          [
           "I’m thinking about selling my home, so I want to l"
          ],
          [
           "On the DeepFruits fruit detection graph on Connect"
          ],
          [
           "The brand that makes these harnesses the dogs are "
          ],
          [
           "Pull out the sentence in the following 5x7 block o"
          ],
          [
           "The YouTube channel Game Grumps began a Let’s Play"
          ],
          [
           "On the BBC Earth YouTube video of the Top 5 Sillie"
          ],
          [
           "What time was the Tri-Rail train that carried the "
          ],
          [
           "How many times was a Twitter/X post cited as a ref"
          ],
          [
           "Hi, I'm making a pie but I could use some help wit"
          ],
          [
           "How many more blocks (also denoted as layers) in B"
          ],
          [
           "According to the USGS, in what year was the Americ"
          ],
          [
           "You are given this Excel file as a map. You start "
          ],
          [
           "How many at bats did the Yankee with the most walk"
          ],
          [
           "On Cornell Law School website's legal information "
          ],
          [
           "What is the volume in milliliters of a system comp"
          ],
          [
           "Bob was invited to participate in a game show, and"
          ],
          [
           "The attached spreadsheet lists the locomotives own"
          ],
          [
           "According to Girls Who Code, how long did it take "
          ],
          [
           "Consider the following symbols: 𒐜  𒐐𒐚\n\nThis is a n"
          ],
          [
           "It's May 2023, and I'm about to drive across the U"
          ],
          [
           "How many pages if the 2023 IPCC report (85 pages v"
          ],
          [
           "What was the complete title of the book in which t"
          ],
          [
           "In Audre Lorde’s poem “Father Son and Holy Ghost”,"
          ],
          [
           "Which of the fruits shown in the 2008 painting \"Em"
          ],
          [
           "If this whole pint is made up of ice cream, how ma"
          ],
          [
           "All of the individuals who formally held the posit"
          ],
          [
           "As of August 2023, who is the only winner of the U"
          ],
          [
           "The attached file lists the locomotives owned by a"
          ],
          [
           "The attached Excel file contains the sales of menu"
          ],
          [
           "I'd like to learn more about some popular reality "
          ],
          [
           "What is the latest chronological year date written"
          ],
          [
           "I was referencing each of the tables in the file f"
          ],
          [
           "According to the World Bank, which countries had g"
          ],
          [
           "A standard Rubik’s cube has been broken into cubes"
          ],
          [
           "Where were the Vietnamese specimens described by K"
          ],
          [
           "A 5-man group made up of one tank, one healer, and"
          ],
          [
           "What is the absolute difference in tens of thousan"
          ],
          [
           "What country had the least number of athletes at t"
          ],
          [
           "Who are the pitchers with the number before and af"
          ],
          [
           "In NASA's Astronomy Picture of the Day on 2006 Jan"
          ],
          [
           "Of the cities within the United States where U.S. "
          ],
          [
           "The cover of the August 2021 issue of Vogue shows "
          ],
          [
           "Eva Draconis has a personal website which can be a"
          ],
          [
           "In the YouTube 360 VR video from March 2018 narrat"
          ],
          [
           "What is the first name of the only Malko Competiti"
          ],
          [
           "The book with the doi 10.1353/book.24372 concerns "
          ],
          [
           "As of May 2023, how many stops are between South S"
          ],
          [
           "During the first week of August 2015, one of the N"
          ],
          [
           "In the film Goldfinger, what color was the object "
          ],
          [
           "I'm curious about how much information is availabl"
          ],
          [
           "Who did the actor who played Ray in the Polish-lan"
          ],
          [
           "What was the actual enrollment count of the clinic"
          ],
          [
           "I read a paper about multiwavelength observations "
          ],
          [
           "According to Openreview.net, at the NeurIPS 2022 C"
          ],
          [
           "Hi, I was out sick from my classes on Friday, so I"
          ],
          [
           "When was a picture of St. Thomas Aquinas first add"
          ],
          [
           "Take the gender split from the 2011 Bulgarian cens"
          ],
          [
           "In the 2015 Metropolitan Museum of Art exhibition "
          ],
          [
           "On June 6, 2023, an article by Carolyn Collins Pet"
          ],
          [
           "The work referenced in footnote 397 of Federico La"
          ],
          [
           "What percentage of the total penguin population ac"
          ],
          [
           "I thought we could try a fun word puzzle together "
          ],
          [
           "At the two-minute mark in the YouTube video upload"
          ]
         ],
         "hovertemplate": "agent_name=gaia_o1<br>index=%{x}<br>is_correct=%{y}<br>question=%{customdata[0]}<extra></extra>",
         "legendgroup": "gaia_o1",
         "line": {
          "color": "#EF553B",
          "dash": "solid"
         },
         "marker": {
          "symbol": "circle"
         },
         "mode": "lines",
         "name": "gaia_o1",
         "orientation": "v",
         "showlegend": true,
         "type": "scatter",
         "x": {
          "bdata": "AAABAAIAAwAEAAUABgAHAAgACQAKAAsADAANAA4ADwAQABEAEgATABQAFQAWABcAGAAZABoAGwAcAB0AHgAfACAAIQAiACMAJAAlACYAJwAoACkAKgArACwALQAuAC8AMAAxADIAMwA0ADUANgA3ADgAOQA6ADsAPAA9AD4APwBAAEEAQgBDAEQARQBGAEcASABJAEoASwBMAE0ATgBPAFAAUQBSAFMAVABVAFYAVwBYAFkAWgBbAFwAXQBeAF8AYABhAGIAYwBkAGUAZgBnAGgAaQBqAGsAbABtAG4AbwBwAHEAcgBzAHQAdQB2AHcAeAB5AHoAewB8AH0AfgB/AIAAgQCCAIMAhACFAIYAhwCIAIkAigCLAIwAjQCOAI8AkACRAJIAkwCUAJUAlgCXAJgAmQCaAJsAnACdAJ4AnwCgAKEAogCjAKQA",
          "dtype": "i2"
         },
         "xaxis": "x",
         "y": {
          "bdata": "AAAAAAAA8D8AAAAAAADgP1VVVVVVVeU/AAAAAAAA6D+amZmZmZnpP6uqqqqqquo/t23btm3b5j8AAAAAAADoP1VVVVVVVeU/MzMzMzMz4z900UUXXXThPwAAAAAAAOA/sRM7sRM74T+SJEmSJEniPxEREREREeE/AAAAAAAA4j/T0tLS0tLiP3Icx3Ecx+E/bCivobyG4j+amZmZmZnhPzEMwzAMw+A/dNFFF1104T8hC1nIQhbiP1VVVVVVVeE/7FG4HoXr4T+xEzuxEzvhP3sJ7SW0l+A/AAAAAAAA4D9HWO5phOXeP97d3d3d3d0/55xzzjnn3D8AAAAAAADcPxdddNFFF90/Hh4eHh4e3j9f8RVf8RXfP47jOI7jON4/fdYNpshn3T8bymsor6HcP1y+5Vu+5ds/MzMzMzMz2z8ZnI/B+RjcP9u2bdu2bds/EnfEHXFH3D+jiy666KLbPxzHcRzHcdw/velNb3rT2z9t1Hc26jvbPwAAAAAAANw/L6fg5RS83D9xPQrXo3DdPx4eHh4eHt4/T+zETuzE3j+u7HNITTDePxPaS2gvod0/F1100UUX3T8lSZIkSZLcPxbTWUxnMd0/jbDc0wjL3T/msRVBw0ndP83MzMzMzNw/Q7CONu9T3D/nnHPOOefcPxzHcRzHcdw/AAAAAAAA3T+e2Imd2IndPxA++OCDD94/rDGRHqic3T8tLS0tLS3dP8y1A3PtwNw/fMVXfMVX3D8yfrvUk/HbPxzHcRzHcdw/4MCBAwcO3D+myGfdYIrcPwOdNtBpA90/lNdQXkN53T8XXXTRRRfdP33Lt3zLt9w/tbgJ87ta3D/NzMzMzMzcP2t+WKQMPN0/qV2J2pWo3T/3kMuKgRLeP27btm3btt0/Hh4eHh4e3j+hL+gL+oLeP0dY7mmE5d4/RhdddNFF3z/60Y9+9KPfPwAAAAAAAOA/YPqlX/ql3z/1pje96U3fP/jee++9994/+85GfWej3j8N5TWU11DeP6uqqqqqqt4/X1z9oKMC3z+sD431obHePw2JeTtDYt4/FK5H4XoU3j8pMOnUPMjdPx4eHh4eHt4/hP1WG0PT3T+e2Imd2IndPx3UQR3UQd0/6JCaYLyV3T+l8ZEJ9E7dP5jQXkJ7Cd0/VcytzkjF3D+CPCXIU4LcPwnEhZqTQNw/JUmSJEmS3D/HKM51jOLcPxvKayivodw/zxEo2mrw3D/UCMs9jbDcPxzHcRzHcdw/dV8eWxE03D9dE4FcE4HcP83MzMzMzNw/MygVJt6P3D8VlwzBOtrcP57c4sktntw/Y4wxxhhj3D8pXI/C9SjcP/y+7/u+79s/DofD4XA43D8AAAAAAIDcPzJnzBlzxtw/vdALvdAL3T9KnmVEH1DdP5NNNtlkk90/p9WdVnda3T/ObuFXYyLdP7LOlQck69w/LS0tLS0t3T9wpGiIP27dP9Ob3vSmN90/NCy4VLZ33T9u27Zt27bdP3Z7rGXogN0/47dLPRm/3T8kVJ9pa/zdP47jOI7jON4/Y0jnLYZ03j/y48ePHz/eP4OXU/ByCt4/aN1ginzW3T9gqKZjLhHeP0t+seQXS94/9BB6CD2E3j/KayivobzeP98zid4zid4/xFn5CXFW3j8kXkXiVSTePy7f8i3f8t0/jn2PyAnC3T8kewai0pHdP6bH/L02Yt0/MzMzMzMz3T9jgu4qxQTdP8QiZeDp1tw/90EyoJ6p3D99DM7H4HzcP1HcCsWtUNw/",
          "dtype": "f8"
         },
         "yaxis": "y"
        },
        {
         "customdata": [
          [
           "The attached spreadsheet shows the inventory for a"
          ],
          [
           "I’m researching species that became invasive after"
          ],
          [
           "A paper about AI regulation that was originally su"
          ],
          [
           "In Unlambda, what exact charcter or text needs to "
          ],
          [
           "If Eliud Kipchoge could maintain his record-making"
          ],
          [
           "If we assume all articles published by Nature in 2"
          ],
          [
           "According to github, when was Regression added to "
          ],
          [
           "In July 2, 1959 United States standards for grades"
          ],
          [
           "Use density measures from the chemistry materials "
          ],
          [
           "The object in the British Museum's collection with"
          ],
          [
           "Here's a fun riddle that I think you'll enjoy.\n\nYo"
          ],
          [
           "In April of 1977, who was the Prime Minister of th"
          ],
          [
           "What's the last line of the rhyme under the flavor"
          ],
          [
           "What was the volume in m^3 of the fish bag that wa"
          ],
          [
           "In the video https://www.youtube.com/watch?v=L1vXC"
          ],
          [
           "What are the EC numbers of the two most commonly u"
          ],
          [
           "Of the authors (First M. Last) that worked on the "
          ],
          [
           "How many studio albums were published by Mercedes "
          ],
          [
           "Assuming scientists in the famous youtube video Th"
          ],
          [
           "Using the Biopython library in Python, parse the P"
          ],
          [
           "When you take the average of the standard populati"
          ],
          [
           "Which contributor to the version of OpenCV where s"
          ],
          [
           "In Series 9, Episode 11 of Doctor Who, the Doctor "
          ],
          [
           "In terms of geographical distance between capital "
          ],
          [
           "In the NCATS PubChem compound database for Food Ad"
          ],
          [
           "An office held a Secret Santa gift exchange where "
          ],
          [
           "What two-word type of model did Manash Pratim Kash"
          ],
          [
           ".rewsna eht sa \"tfel\" drow eht fo etisoppo eht eti"
          ],
          [
           "I need to fact-check a citation. This is the citat"
          ],
          [
           "What animals that were mentioned in both Ilias Lag"
          ],
          [
           "What is the maximum length in meters of #9 in the "
          ],
          [
           "Each cell in the attached spreadsheet represents a"
          ],
          [
           "The photograph in the Whitney Museum of American A"
          ],
          [
           "¬(A ∧ B) ↔ (¬A ∨ ¬B)\n¬(A ∨ B) ↔ (¬A ∧ ¬B)\n(A → B) "
          ],
          [
           "My family reunion is this week, and I was assigned"
          ],
          [
           "How many High Energy Physics - Lattice articles li"
          ],
          [
           "What integer-rounded percentage of the total lengt"
          ],
          [
           "I went to Virtue restaurant & bar in Chicago for m"
          ],
          [
           "Compute the check digit the Tropicos ID for the Or"
          ],
          [
           "In Emily Midkiff's June 2014 article in a journal "
          ],
          [
           "How many applicants for the job in the PDF are onl"
          ],
          [
           "Under DDC 633 on Bielefeld University Library's BA"
          ],
          [
           "What is the minimum number of page links a person "
          ],
          [
           "In the fictional language of Tizin, basic sentence"
          ],
          [
           "What is the average number of pre-2020 works on th"
          ],
          [
           "In the 2018 VSCode blog post on replit.com, what w"
          ],
          [
           "In Valentina Re’s contribution to the 2017 book “W"
          ],
          [
           "It is 1999. Before you party like it is 1999, plea"
          ],
          [
           "What time was the Tri-Rail train that carried the "
          ],
          [
           "The attached file contains a list of vendors in th"
          ],
          [
           "The Metropolitan Museum of Art has a portrait in i"
          ],
          [
           "Review the chess position provided in the image. I"
          ],
          [
           "In the year 2022, and before December, what does \""
          ],
          [
           "In Nature journal's Scientific Reports conference "
          ],
          [
           "According to Google Finance, when was the first ye"
          ],
          [
           "What writer is quoted by Merriam-Webster for the W"
          ],
          [
           "Given this table defining * on the set S = {a, b, "
          ],
          [
           "The attached file shows a list of books in the col"
          ],
          [
           "The following numbers function similarly to ISBN 1"
          ],
          [
           "According to Box Office Mojo's 2020 Worldwide Box "
          ],
          [
           "How many pages if the 2023 IPCC report (85 pages v"
          ],
          [
           "Who nominated the only Featured Article on English"
          ],
          [
           "I was trying to remember how well the Cheater Beat"
          ],
          [
           "Which of the text elements under CATEGORIES in the"
          ],
          [
           "As a comma separated list with no whitespace, usin"
          ],
          [
           "On a leap day before the year 2008, a joke was rem"
          ],
          [
           "Using bass clef notes, what is the age of someone "
          ],
          [
           "How many images are there in the latest 2022 Lego "
          ],
          [
           "In the endnote found in the second-to-last paragra"
          ],
          [
           "The Latin root of the Yola word \"gimlie\" shares a "
          ],
          [
           "What is the volume in milliliters of a system comp"
          ],
          [
           "Find the value of x to the nearest tenth: Lx = (d/"
          ],
          [
           "In the NIH translation of the original 1913 Michae"
          ],
          [
           "The attached file lists accommodations in the reso"
          ],
          [
           "You are a telecommunications engineer who wants to"
          ],
          [
           "On July 15, 2008, Phys.org published an article ab"
          ],
          [
           "If there is anything that doesn't make sense in th"
          ],
          [
           "How many edits were made to the Wikipedia page on "
          ],
          [
           "How many nonindigenous crocodiles were found in Fl"
          ],
          [
           "How many slides in this PowerPoint presentation me"
          ],
          [
           "Given $x_0 = -5$ and $f(x) = x^3 + 4x^2 - 3x + 8$,"
          ],
          [
           "You are Van Helsing, a renowned vampire hunter. A "
          ],
          [
           "The attached file shows the locomotives in the col"
          ],
          [
           "As of the 2020 census, what was the population dif"
          ],
          [
           "This is a secret message my friend gave me. It say"
          ],
          [
           "What is the area of the green polygon in the attac"
          ],
          [
           "Examine the video at https://www.youtube.com/watch"
          ],
          [
           "The attached spreadsheet contains the sales of men"
          ],
          [
           "Who composed the song that was performed by a roos"
          ],
          [
           "According to wikipedia, how many Asian countries s"
          ],
          [
           "You are given this Excel file as a map. You start "
          ],
          [
           "What is the surname of the equine veterinarian men"
          ],
          [
           "I'm making a grocery list for my mom, but she's a "
          ],
          [
           "What percentage of the total penguin population ac"
          ],
          [
           "I was referencing each of the tables in the file f"
          ],
          [
           "I’m thinking about selling my home, so I want to l"
          ],
          [
           "Which of the fruits shown in the 2008 painting \"Em"
          ],
          [
           "Look at the attached image. The quiz is scored as "
          ],
          [
           "The work referenced in footnote 397 of Federico La"
          ],
          [
           "According to the World Bank, which countries had g"
          ],
          [
           "I have the Standard plan in the image below, and I"
          ],
          [
           "The year is 2022. I am at the National Air and Spa"
          ],
          [
           "The attached PDF lists accommodations in the resor"
          ],
          [
           "On ScienceDirect, what is the difference to 3 deci"
          ],
          [
           "What is the last word before the second chorus of "
          ],
          [
           "In the Scikit-Learn July 2017 changelog, what othe"
          ],
          [
           "This spreadsheet contains a list of clients for a "
          ],
          [
           "It's May 2023, and I'm about to drive across the U"
          ],
          [
           "The attached image contains a Python script. Run t"
          ],
          [
           "How many times was a Twitter/X post cited as a ref"
          ],
          [
           "Who did the actor who played Ray in the Polish-lan"
          ],
          [
           "What is the final numeric output from the attached"
          ],
          [
           "The YouTube channel Game Grumps began a Let’s Play"
          ],
          [
           "The longest-lived vertebrate is named after an isl"
          ],
          [
           "How many more blocks (also denoted as layers) in B"
          ],
          [
           "On the BBC Earth YouTube video of the Top 5 Sillie"
          ],
          [
           "Pull out the sentence in the following 5x7 block o"
          ],
          [
           "During the first week of August 2015, one of the N"
          ],
          [
           "The book with the doi 10.1353/book.24372 concerns "
          ],
          [
           "All of the individuals who formally held the posit"
          ],
          [
           "According to the USGS, in what year was the Americ"
          ],
          [
           "What is the latest chronological year date written"
          ],
          [
           "On the DeepFruits fruit detection graph on Connect"
          ],
          [
           "On Cornell Law School website's legal information "
          ],
          [
           "Consider the following symbols: 𒐜  𒐐𒐚\n\nThis is a n"
          ],
          [
           "The attached spreadsheet contains a list of books "
          ],
          [
           "According to Girls Who Code, how long did it take "
          ],
          [
           "Of the cities within the United States where U.S. "
          ],
          [
           "What was the complete title of the book in which t"
          ],
          [
           "How many at bats did the Yankee with the most walk"
          ],
          [
           "Bob was invited to participate in a game show, and"
          ],
          [
           "The cover of the August 2021 issue of Vogue shows "
          ],
          [
           "The attached spreadsheet lists the locomotives own"
          ],
          [
           "As of August 2023, who is the only winner of the U"
          ],
          [
           "In Audre Lorde’s poem “Father Son and Holy Ghost”,"
          ],
          [
           "The attached file lists the locomotives owned by a"
          ],
          [
           "What is the absolute difference in tens of thousan"
          ],
          [
           "A 5-man group made up of one tank, one healer, and"
          ],
          [
           "If this whole pint is made up of ice cream, how ma"
          ],
          [
           "Eva Draconis has a personal website which can be a"
          ],
          [
           "According to Openreview.net, at the NeurIPS 2022 C"
          ],
          [
           "The brand that makes these harnesses the dogs are "
          ],
          [
           "Where were the Vietnamese specimens described by K"
          ],
          [
           "What was the actual enrollment count of the clinic"
          ],
          [
           "A standard Rubik’s cube has been broken into cubes"
          ],
          [
           "I'd like to learn more about some popular reality "
          ],
          [
           "Take the gender split from the 2011 Bulgarian cens"
          ],
          [
           "What country had the least number of athletes at t"
          ],
          [
           "Who are the pitchers with the number before and af"
          ],
          [
           "What is the first name of the only Malko Competiti"
          ],
          [
           "The attached Excel file contains the sales of menu"
          ],
          [
           "I read a paper about multiwavelength observations "
          ],
          [
           "In the YouTube 360 VR video from March 2018 narrat"
          ],
          [
           "In the film Goldfinger, what color was the object "
          ],
          [
           "In NASA's Astronomy Picture of the Day on 2006 Jan"
          ],
          [
           "As of May 2023, how many stops are between South S"
          ],
          [
           "I'm curious about how much information is availabl"
          ],
          [
           "I thought we could try a fun word puzzle together "
          ],
          [
           "On June 6, 2023, an article by Carolyn Collins Pet"
          ],
          [
           "When was a picture of St. Thomas Aquinas first add"
          ],
          [
           "At the two-minute mark in the YouTube video upload"
          ],
          [
           "In the 2015 Metropolitan Museum of Art exhibition "
          ],
          [
           "Hi, I'm making a pie but I could use some help wit"
          ],
          [
           "Hi, I was out sick from my classes on Friday, so I"
          ],
          [
           "Could you help me out with this assignment? Our pr"
          ]
         ],
         "hovertemplate": "agent_name=gaia_o1_audio<br>index=%{x}<br>is_correct=%{y}<br>question=%{customdata[0]}<extra></extra>",
         "legendgroup": "gaia_o1_audio",
         "line": {
          "color": "#00cc96",
          "dash": "solid"
         },
         "marker": {
          "symbol": "circle"
         },
         "mode": "lines",
         "name": "gaia_o1_audio",
         "orientation": "v",
         "showlegend": true,
         "type": "scatter",
         "x": {
          "bdata": "AAABAAIAAwAEAAUABgAHAAgACQAKAAsADAANAA4ADwAQABEAEgATABQAFQAWABcAGAAZABoAGwAcAB0AHgAfACAAIQAiACMAJAAlACYAJwAoACkAKgArACwALQAuAC8AMAAxADIAMwA0ADUANgA3ADgAOQA6ADsAPAA9AD4APwBAAEEAQgBDAEQARQBGAEcASABJAEoASwBMAE0ATgBPAFAAUQBSAFMAVABVAFYAVwBYAFkAWgBbAFwAXQBeAF8AYABhAGIAYwBkAGUAZgBnAGgAaQBqAGsAbABtAG4AbwBwAHEAcgBzAHQAdQB2AHcAeAB5AHoAewB8AH0AfgB/AIAAgQCCAIMAhACFAIYAhwCIAIkAigCLAIwAjQCOAI8AkACRAJIAkwCUAJUAlgCXAJgAmQCaAJsAnACdAJ4AnwCgAKEAogCjAKQA",
          "dtype": "i2"
         },
         "xaxis": "x",
         "y": {
          "bdata": "AAAAAAAA8D8AAAAAAADwPwAAAAAAAPA/AAAAAAAA6D8zMzMzMzPjPwAAAAAAAOA/27Zt27Zt2z8AAAAAAADYPxzHcRzHcdw/AAAAAAAA4D8XXXTRRRfdPwAAAAAAAOA/ntiJndiJ3T8AAAAAAADgP97d3d3d3d0/AAAAAAAA3D9aWlpaWlraPzmO4ziO49g/Q3kN5TWU1z9mZmZmZmbWP1VVVVVVVdU/RhdddNFF1z9kIQtZyELWPwAAAAAAANg/CtejcD0K1z/ZiZ3YiZ3YPy+hvYT2Eto/27Zt27Zt2z9huacRlnvaP7y7u7u7u9s/11prrbXW2j8AAAAAAADcPyebbLLJJts/PDw8PDw83D8d1EEd1EHdPxzHcRzHcdw/0LrBFPms2z8or6G8hvLaPxqkQRqkQdo/MzMzMzMz2z+J2pWoXYnaP3qe53me59k/s6asKWvK2j+jiy666KLbP1uwBVuwBds/velNb3rT2z9yBTG5gpjcP1VVVVVVVd0/L6fg5RS83D9xPQrXo3DdPx4eHh4eHt4/ntiJndiJ3T+u7HNITTDePxPaS2gvod0/F1100UUX3T9u27Zt27bdPw3lNZTXUN4/jbDc0wjL3T9XBA0ndV/eP97d3d3d3d0/ikuGYB1t3j/43nvvvffeP57neZ7ned4/AAAAAAAA3j+e2Imd2IndPxdddNFFF90/8asxkR6o3D88PDw8PDzcP8y1A3PtwNw/fMVXfMVX3D8yfrvUk/HbP+Q4juM4jts/2bJly5Yt2z/QusEU+azbPylcj8L1KNw/G8prKK+h3D/5CXFWfkLcP33Lt3zLt9w/VDqyZyAq3T+amZmZmZndP7o1PyxSBt4/cD4G52Nw3j+U8EZT59feP57neZ7ned4/Hh4eHh4e3j9xR9wRd8TdPyCT4gUyKd4/jC666KKL3j/vda973eveP5/0SZ/0Sd8/H+/xHu/x3j/1pje96U3fP/jee++9994/+85GfWej3j8N5TWU11DePwAAAAAAAN4/3ixPItOw3T9ZHxrrQ2PdPxdddNFFF90/zczMzMzM3D9ZGb4RBSbdP319fX19fd0/PNhvtTE03T/FTuzETuzcPx3UQR3UQd0/IjXBeCv73D8fmUDv1LXcP5jQXkJ7Cd0/utUZqZhb3T8XXXTRRRfdP0PNSSAu1Nw/SZIkSZIk3T/HKM51jOLcPxbTWUxnMd0/2CWVD+N+3T+x3NMIyz3dP57YiZ3Yid0/HlsRNJzU3T/eb5Tdb5TdP97d3d3d3d0/4MYyKBUm3j+5ZAjW0ebdP6ldidqVqN0/a6211lpr3T/Jdr6fGi/dP13XdV3Xdd0/b7fb7Xa73T8AAAAAAIDdP1FX1BV1Rd0/ntiJndiJ3T9KnmVEH1DdP5NNNtlkk90/Wt1pdafV3T+K9EDl7BbeP97d3d3d3d0/Hh4eHh4e3j+kaIg/bl3eP+JnlPgZJd4/5AwLLpXt3T9u27Zt27bdP3Z7rGXogN0/d6kn47dL3T+e2Imd2IndP1VVVVVVVd0/myjZtYmS3T/r1atXr17dP0v3BpSJK90/fdYNpshn3T/E1rcBQzXdP3E9CtejcN0/6vp0fbo+3T/YUF5DeQ3dP93c3Nzc3Nw/F1100UUX3T9R3Q7V7VDdPw3SIA3SIN0/NqvDKFPx3D+F+V0tbsLcPyI1wXgr+9w/zczMzMzM3D+BTw6XAZ/cPxzHcRzHcdw/90EyoJ6p3D99DM7H4HzcP1HcCsWtUNw/",
          "dtype": "f8"
         },
         "yaxis": "y"
        },
        {
         "customdata": [
          [
           "How many applicants for the job in the PDF are onl"
          ],
          [
           "The attached file shows a list of books in the col"
          ],
          [
           "What is the final numeric output from the attached"
          ],
          [
           "An office held a Secret Santa gift exchange where "
          ],
          [
           "The attached file shows the locomotives in the col"
          ],
          [
           "How many slides in this PowerPoint presentation me"
          ],
          [
           "Using the Biopython library in Python, parse the P"
          ],
          [
           "I have the Standard plan in the image below, and I"
          ],
          [
           "The attached spreadsheet shows the inventory for a"
          ],
          [
           "The attached PDF lists accommodations in the resor"
          ],
          [
           "Using bass clef notes, what is the age of someone "
          ],
          [
           "This spreadsheet contains a list of clients for a "
          ],
          [
           "When you take the average of the standard populati"
          ],
          [
           "Each cell in the attached spreadsheet represents a"
          ],
          [
           "The attached Excel file contains the sales of menu"
          ],
          [
           "As a comma separated list with no whitespace, usin"
          ],
          [
           "What is the area of the green polygon in the attac"
          ],
          [
           "The attached file lists the locomotives owned by a"
          ],
          [
           "Look at the attached image. The quiz is scored as "
          ],
          [
           "The attached spreadsheet contains the sales of men"
          ],
          [
           "What is the average number of pre-2020 works on th"
          ],
          [
           "The attached file lists accommodations in the reso"
          ],
          [
           "The attached file contains a list of vendors in th"
          ],
          [
           "You are a telecommunications engineer who wants to"
          ],
          [
           "Hi, I'm making a pie but I could use some help wit"
          ],
          [
           "Hi, I was out sick from my classes on Friday, so I"
          ],
          [
           "The attached spreadsheet lists the locomotives own"
          ],
          [
           "Review the chess position provided in the image. I"
          ],
          [
           "Could you help me out with this assignment? Our pr"
          ],
          [
           "Which of the text elements under CATEGORIES in the"
          ],
          [
           "What percentage of the total penguin population ac"
          ],
          [
           "The attached image contains a Python script. Run t"
          ],
          [
           "If this whole pint is made up of ice cream, how ma"
          ],
          [
           "In the NIH translation of the original 1913 Michae"
          ],
          [
           "The attached spreadsheet contains a list of books "
          ],
          [
           "I was referencing each of the tables in the file f"
          ],
          [
           "The brand that makes these harnesses the dogs are "
          ],
          [
           "You are given this Excel file as a map. You start "
          ],
          [
           ".rewsna eht sa \"tfel\" drow eht fo etisoppo eht eti"
          ],
          [
           "In terms of geographical distance between capital "
          ],
          [
           "Here's a fun riddle that I think you'll enjoy.\n\nYo"
          ],
          [
           "I need to fact-check a citation. This is the citat"
          ],
          [
           "In the video https://www.youtube.com/watch?v=L1vXC"
          ],
          [
           "¬(A ∧ B) ↔ (¬A ∨ ¬B)\n¬(A ∨ B) ↔ (¬A ∧ ¬B)\n(A → B) "
          ],
          [
           "How many studio albums were published by Mercedes "
          ],
          [
           "My family reunion is this week, and I was assigned"
          ],
          [
           "What was the volume in m^3 of the fish bag that wa"
          ],
          [
           "In April of 1977, who was the Prime Minister of th"
          ],
          [
           "In the fictional language of Tizin, basic sentence"
          ],
          [
           "If Eliud Kipchoge could maintain his record-making"
          ],
          [
           "Compute the check digit the Tropicos ID for the Or"
          ],
          [
           "In Series 9, Episode 11 of Doctor Who, the Doctor "
          ],
          [
           "If we assume all articles published by Nature in 2"
          ],
          [
           "Assuming scientists in the famous youtube video Th"
          ],
          [
           "In Unlambda, what exact charcter or text needs to "
          ],
          [
           "According to Box Office Mojo's 2020 Worldwide Box "
          ],
          [
           "Of the authors (First M. Last) that worked on the "
          ],
          [
           "It is 1999. Before you party like it is 1999, plea"
          ],
          [
           "Given this table defining * on the set S = {a, b, "
          ],
          [
           "The following numbers function similarly to ISBN 1"
          ],
          [
           "How many images are there in the latest 2022 Lego "
          ],
          [
           "The Metropolitan Museum of Art has a portrait in i"
          ],
          [
           "In Valentina Re’s contribution to the 2017 book “W"
          ],
          [
           "What animals that were mentioned in both Ilias Lag"
          ],
          [
           "On a leap day before the year 2008, a joke was rem"
          ],
          [
           "What writer is quoted by Merriam-Webster for the W"
          ],
          [
           "According to Google Finance, when was the first ye"
          ],
          [
           "In the year 2022, and before December, what does \""
          ],
          [
           "If there is anything that doesn't make sense in th"
          ],
          [
           "The Latin root of the Yola word \"gimlie\" shares a "
          ],
          [
           "How many edits were made to the Wikipedia page on "
          ],
          [
           "In the NCATS PubChem compound database for Food Ad"
          ],
          [
           "Use density measures from the chemistry materials "
          ],
          [
           "What two-word type of model did Manash Pratim Kash"
          ],
          [
           "A paper about AI regulation that was originally su"
          ],
          [
           "Given $x_0 = -5$ and $f(x) = x^3 + 4x^2 - 3x + 8$,"
          ],
          [
           "This is a secret message my friend gave me. It say"
          ],
          [
           "The work referenced in footnote 397 of Federico La"
          ],
          [
           "You are Van Helsing, a renowned vampire hunter. A "
          ],
          [
           "What are the EC numbers of the two most commonly u"
          ],
          [
           "How many pages if the 2023 IPCC report (85 pages v"
          ],
          [
           "In the endnote found in the second-to-last paragra"
          ],
          [
           "What integer-rounded percentage of the total lengt"
          ],
          [
           "According to wikipedia, how many Asian countries s"
          ],
          [
           "According to github, when was Regression added to "
          ],
          [
           "I’m researching species that became invasive after"
          ],
          [
           "I'm making a grocery list for my mom, but she's a "
          ],
          [
           "On July 15, 2008, Phys.org published an article ab"
          ],
          [
           "How many times was a Twitter/X post cited as a ref"
          ],
          [
           "What is the volume in milliliters of a system comp"
          ],
          [
           "In Nature journal's Scientific Reports conference "
          ],
          [
           "The object in the British Museum's collection with"
          ],
          [
           "According to the World Bank, which countries had g"
          ],
          [
           "In Emily Midkiff's June 2014 article in a journal "
          ],
          [
           "What's the last line of the rhyme under the flavor"
          ],
          [
           "How many nonindigenous crocodiles were found in Fl"
          ],
          [
           "The photograph in the Whitney Museum of American A"
          ],
          [
           "It's May 2023, and I'm about to drive across the U"
          ],
          [
           "In July 2, 1959 United States standards for grades"
          ],
          [
           "The longest-lived vertebrate is named after an isl"
          ],
          [
           "Who nominated the only Featured Article on English"
          ],
          [
           "Who did the actor who played Ray in the Polish-lan"
          ],
          [
           "Pull out the sentence in the following 5x7 block o"
          ],
          [
           "How many more blocks (also denoted as layers) in B"
          ],
          [
           "On the BBC Earth YouTube video of the Top 5 Sillie"
          ],
          [
           "The YouTube channel Game Grumps began a Let’s Play"
          ],
          [
           "Bob was invited to participate in a game show, and"
          ],
          [
           "The book with the doi 10.1353/book.24372 concerns "
          ],
          [
           "Under DDC 633 on Bielefeld University Library's BA"
          ],
          [
           "What is the last word before the second chorus of "
          ],
          [
           "Who composed the song that was performed by a roos"
          ],
          [
           "As of the 2020 census, what was the population dif"
          ],
          [
           "During the first week of August 2015, one of the N"
          ],
          [
           "According to Girls Who Code, how long did it take "
          ],
          [
           "On Cornell Law School website's legal information "
          ],
          [
           "What time was the Tri-Rail train that carried the "
          ],
          [
           "What is the latest chronological year date written"
          ],
          [
           "I thought we could try a fun word puzzle together "
          ],
          [
           "According to the USGS, in what year was the Americ"
          ],
          [
           "Of the cities within the United States where U.S. "
          ],
          [
           "I'm curious about how much information is availabl"
          ],
          [
           "What is the maximum length in meters of #9 in the "
          ],
          [
           "On ScienceDirect, what is the difference to 3 deci"
          ],
          [
           "All of the individuals who formally held the posit"
          ],
          [
           "In the Scikit-Learn July 2017 changelog, what othe"
          ],
          [
           "A standard Rubik’s cube has been broken into cubes"
          ],
          [
           "On the DeepFruits fruit detection graph on Connect"
          ],
          [
           "Which contributor to the version of OpenCV where s"
          ],
          [
           "How many at bats did the Yankee with the most walk"
          ],
          [
           "Take the gender split from the 2011 Bulgarian cens"
          ],
          [
           "In the 2018 VSCode blog post on replit.com, what w"
          ],
          [
           "What is the absolute difference in tens of thousan"
          ],
          [
           "The cover of the August 2021 issue of Vogue shows "
          ],
          [
           "Consider the following symbols: 𒐜  𒐐𒐚\n\nThis is a n"
          ],
          [
           "In Audre Lorde’s poem “Father Son and Holy Ghost”,"
          ],
          [
           "What is the surname of the equine veterinarian men"
          ],
          [
           "What country had the least number of athletes at t"
          ],
          [
           "Who are the pitchers with the number before and af"
          ],
          [
           "In the YouTube 360 VR video from March 2018 narrat"
          ],
          [
           "What was the complete title of the book in which t"
          ],
          [
           "I'd like to learn more about some popular reality "
          ],
          [
           "The year is 2022. I am at the National Air and Spa"
          ],
          [
           "I was trying to remember how well the Cheater Beat"
          ],
          [
           "Find the value of x to the nearest tenth: Lx = (d/"
          ],
          [
           "Which of the fruits shown in the 2008 painting \"Em"
          ],
          [
           "In the film Goldfinger, what color was the object "
          ],
          [
           "A 5-man group made up of one tank, one healer, and"
          ],
          [
           "Examine the video at https://www.youtube.com/watch"
          ],
          [
           "According to Openreview.net, at the NeurIPS 2022 C"
          ],
          [
           "In NASA's Astronomy Picture of the Day on 2006 Jan"
          ],
          [
           "I went to Virtue restaurant & bar in Chicago for m"
          ],
          [
           "On June 6, 2023, an article by Carolyn Collins Pet"
          ],
          [
           "When was a picture of St. Thomas Aquinas first add"
          ],
          [
           "I’m thinking about selling my home, so I want to l"
          ],
          [
           "In the 2015 Metropolitan Museum of Art exhibition "
          ],
          [
           "As of August 2023, who is the only winner of the U"
          ],
          [
           "What is the first name of the only Malko Competiti"
          ],
          [
           "At the two-minute mark in the YouTube video upload"
          ],
          [
           "Where were the Vietnamese specimens described by K"
          ],
          [
           "As of May 2023, how many stops are between South S"
          ],
          [
           "Eva Draconis has a personal website which can be a"
          ],
          [
           "I read a paper about multiwavelength observations "
          ],
          [
           "What was the actual enrollment count of the clinic"
          ],
          [
           "How many High Energy Physics - Lattice articles li"
          ],
          [
           "What is the minimum number of page links a person "
          ]
         ],
         "hovertemplate": "agent_name=gaia_o4-mini<br>index=%{x}<br>is_correct=%{y}<br>question=%{customdata[0]}<extra></extra>",
         "legendgroup": "gaia_o4-mini",
         "line": {
          "color": "#ab63fa",
          "dash": "solid"
         },
         "marker": {
          "symbol": "circle"
         },
         "mode": "lines",
         "name": "gaia_o4-mini",
         "orientation": "v",
         "showlegend": true,
         "type": "scatter",
         "x": {
          "bdata": "AAABAAIAAwAEAAUABgAHAAgACQAKAAsADAANAA4ADwAQABEAEgATABQAFQAWABcAGAAZABoAGwAcAB0AHgAfACAAIQAiACMAJAAlACYAJwAoACkAKgArACwALQAuAC8AMAAxADIAMwA0ADUANgA3ADgAOQA6ADsAPAA9AD4APwBAAEEAQgBDAEQARQBGAEcASABJAEoASwBMAE0ATgBPAFAAUQBSAFMAVABVAFYAVwBYAFkAWgBbAFwAXQBeAF8AYABhAGIAYwBkAGUAZgBnAGgAaQBqAGsAbABtAG4AbwBwAHEAcgBzAHQAdQB2AHcAeAB5AHoAewB8AH0AfgB/AIAAgQCCAIMAhACFAIYAhwCIAIkAigCLAIwAjQCOAI8AkACRAJIAkwCUAJUAlgCXAJgAmQCaAJsAnACdAJ4AnwCgAKEAogCjAKQA",
          "dtype": "i2"
         },
         "xaxis": "x",
         "y": {
          "bdata": "AAAAAAAAAAAAAAAAAAAAAFVVVVVVVdU/AAAAAAAA4D8zMzMzMzPjP1VVVVVVVeU/kiRJkiRJ4j8AAAAAAADkP1VVVVVVVeU/ZmZmZmZm5j9ddNFFF13kP6uqqqqqquI/sRM7sRM74T+SJEmSJEniPzMzMzMzM+M/AAAAAAAA4j/x8PDw8PDgP3Icx3Ecx+E/eQ3lNZTX4D+amZmZmZnhPzEMwzAMw+A/dNFFF1104T8hC1nIQhbiP6uqqqqqquI/7FG4HoXr4T+xEzuxEzvhP3Icx3Ecx+E/SZIkSZIk4T/d0wjLPY3gPwAAAAAAAOA/+N5777333j8AAAAAAADgP3zwwQcffOA/AAAAAAAA4D9QB3VQB3XgPwAAAAAAAOA/KvJZN5gi3z8N5TWU11DeP9/yLd/yLd8/AAAAAAAA4D9kcD4G52PgPzEMwzAMw+A/R9wRd8Qd4T900UUXXXThP3Icx3Ecx+E/IQtZyEIW4j9HfWejvrPhPwAAAAAAAOI/kiRJkiRJ4j+PwvUoXI/iP9PS0tLS0uI/Yid2Yid24j81wXgr+xziP3Icx3Ecx+E/dNFFF1104T9JkiRJkiThP3kN5TWU1+A/uacRlnsa4T8NJ3VfHlvhP5qZmZmZmeE/DcE62rxP4T+MMcYYY4zhP3Icx3Ecx+E/AAAAAACA4T+SG7mRG7nhP3TRRRdddOE/Kme38Ksx4T9paWlpaWnhPxM/o8TPKOE/8RVf8RVf4T97Mn671JPhP1VVVVVVVeE/jBgxYsSI4T/CFPmsG0zhP36x5BdLfuE/8xrKayiv4T900UUXXXThP7ETO7ETO+E/1uImzO9q4T8zMzMzMzPhP8rA0635YeE/LFG7ErUr4T+FN5o6v/bgP0mSJEmSJOE/8fDw8PDw4D9H3BF3xB3hP3C2Dv1m6+A/F1100UUX4T8Oc5jDHObgP2ELtmALtuA/EQ7hEA7h4D8LWchCFrLgP4QQQgghhOA/QUyuICZX4D+yAmGkHSvgPwAAAAAAAOA/IHRU4Iur3z/Wh8b60FjfPwgffPDBB98/XI/C9Shc3z+YdGoe5K7fPwAAAAAAAOA/Usl5WcQn4D/sxE7sxE7gP1AHdVAHdeA/463sc0hN4D8hVpTGRybgP76E9hLaS+A/WQKb9pMl4D8AAAAAAADgP2P7Hb0ytt8/27Zt27Zt3z8SePshgbffPwAAAAAAAOA/AkVbDZ4j4D8AAAAAAADgP6D7uZ/7ud8/yFYEDSd13z+fejGfejHfP+/u7u7u7t4/xfuR03yt3j+KS4ZgHW3ePy6e3OLJLd4/77333nvv3T8ZBFYOLbLdP37f933f990/b7fb7Xa73T8AAAAAAIDdP3FH3BF3xN0/fuAHfuAH3j9Ux97aMM3dPxA++OCDD94/Wt1pdafV3T+sMZEeqJzdP0jWufKAZN0/LS0tLS0t3T9wpGiIP27dP9Ob3vSmN90/g0tle9cB3T/NzMzMzMzcP3TAbo+1DN0/C5sDiVbY3D+R4V4Fs6TcPxzHcRzHcdw/8PjDAY8/3D/kx48fP37cPxNXujegTNw/u8EU+awb3D9ZnNHuYevbP7y7u7u7u9s/3DJuGbeM2z/lNZTXUF7bP9uFMNuFMNs/TA3sHVMD2z/XWmuttdbaP6uqqqqqqto/Wh1GmYrn2j94tbgJ87vaP45Ylx7z99o/zczMzMzM2j8YUa2zL6LaP9f8sEgZeNo/w6xGEYdO2j8laleidiXaP2AaA6YxYNo/",
          "dtype": "f8"
         },
         "yaxis": "y"
        },
        {
         "customdata": [
          [
           "Using the Biopython library in Python, parse the P"
          ],
          [
           "The attached spreadsheet shows the inventory for a"
          ],
          [
           "When you take the average of the standard populati"
          ],
          [
           "In Unlambda, what exact charcter or text needs to "
          ],
          [
           "An office held a Secret Santa gift exchange where "
          ],
          [
           ".rewsna eht sa \"tfel\" drow eht fo etisoppo eht eti"
          ],
          [
           "Use density measures from the chemistry materials "
          ],
          [
           "In April of 1977, who was the Prime Minister of th"
          ],
          [
           "Here's a fun riddle that I think you'll enjoy.\n\nYo"
          ],
          [
           "How many High Energy Physics - Lattice articles li"
          ],
          [
           "In the video https://www.youtube.com/watch?v=L1vXC"
          ],
          [
           "If Eliud Kipchoge could maintain his record-making"
          ],
          [
           "How many studio albums were published by Mercedes "
          ],
          [
           "According to github, when was Regression added to "
          ],
          [
           "My family reunion is this week, and I was assigned"
          ],
          [
           "In Series 9, Episode 11 of Doctor Who, the Doctor "
          ],
          [
           "I’m researching species that became invasive after"
          ],
          [
           "How many applicants for the job in the PDF are onl"
          ],
          [
           "What two-word type of model did Manash Pratim Kash"
          ],
          [
           "I need to fact-check a citation. This is the citat"
          ],
          [
           "What is the average number of pre-2020 works on th"
          ],
          [
           "If we assume all articles published by Nature in 2"
          ],
          [
           "¬(A ∧ B) ↔ (¬A ∨ ¬B)\n¬(A ∨ B) ↔ (¬A ∧ ¬B)\n(A → B) "
          ],
          [
           "In the fictional language of Tizin, basic sentence"
          ],
          [
           "In terms of geographical distance between capital "
          ],
          [
           "What was the volume in m^3 of the fish bag that wa"
          ],
          [
           "In Emily Midkiff's June 2014 article in a journal "
          ],
          [
           "Each cell in the attached spreadsheet represents a"
          ],
          [
           "The attached file contains a list of vendors in th"
          ],
          [
           "What writer is quoted by Merriam-Webster for the W"
          ],
          [
           "Given this table defining * on the set S = {a, b, "
          ],
          [
           "According to Box Office Mojo's 2020 Worldwide Box "
          ],
          [
           "Which of the text elements under CATEGORIES in the"
          ],
          [
           "The following numbers function similarly to ISBN 1"
          ],
          [
           "How many images are there in the latest 2022 Lego "
          ],
          [
           "In Nature journal's Scientific Reports conference "
          ],
          [
           "The attached file shows a list of books in the col"
          ],
          [
           "As a comma separated list with no whitespace, usin"
          ],
          [
           "Review the chess position provided in the image. I"
          ],
          [
           "The Metropolitan Museum of Art has a portrait in i"
          ],
          [
           "In the year 2022, and before December, what does \""
          ],
          [
           "What's the last line of the rhyme under the flavor"
          ],
          [
           "Could you help me out with this assignment? Our pr"
          ],
          [
           "A paper about AI regulation that was originally su"
          ],
          [
           "What animals that were mentioned in both Ilias Lag"
          ],
          [
           "Using bass clef notes, what is the age of someone "
          ],
          [
           "The attached file lists accommodations in the reso"
          ],
          [
           "On a leap day before the year 2008, a joke was rem"
          ],
          [
           "If there is anything that doesn't make sense in th"
          ],
          [
           "You are a telecommunications engineer who wants to"
          ],
          [
           "The Latin root of the Yola word \"gimlie\" shares a "
          ],
          [
           "Which contributor to the version of OpenCV where s"
          ],
          [
           "In the endnote found in the second-to-last paragra"
          ],
          [
           "How many edits were made to the Wikipedia page on "
          ],
          [
           "I went to Virtue restaurant & bar in Chicago for m"
          ],
          [
           "How many slides in this PowerPoint presentation me"
          ],
          [
           "You are Van Helsing, a renowned vampire hunter. A "
          ],
          [
           "Given $x_0 = -5$ and $f(x) = x^3 + 4x^2 - 3x + 8$,"
          ],
          [
           "What is the minimum number of page links a person "
          ],
          [
           "Examine the video at https://www.youtube.com/watch"
          ],
          [
           "The attached file shows the locomotives in the col"
          ],
          [
           "In the 2018 VSCode blog post on replit.com, what w"
          ],
          [
           "This is a secret message my friend gave me. It say"
          ],
          [
           "In the NCATS PubChem compound database for Food Ad"
          ],
          [
           "I was trying to remember how well the Cheater Beat"
          ],
          [
           "The attached spreadsheet contains the sales of men"
          ],
          [
           "As of the 2020 census, what was the population dif"
          ],
          [
           "Of the authors (First M. Last) that worked on the "
          ],
          [
           "What are the EC numbers of the two most commonly u"
          ],
          [
           "It is 1999. Before you party like it is 1999, plea"
          ],
          [
           "In July 2, 1959 United States standards for grades"
          ],
          [
           "The photograph in the Whitney Museum of American A"
          ],
          [
           "Under DDC 633 on Bielefeld University Library's BA"
          ],
          [
           "What integer-rounded percentage of the total lengt"
          ],
          [
           "Assuming scientists in the famous youtube video Th"
          ],
          [
           "How many pages if the 2023 IPCC report (85 pages v"
          ],
          [
           "According to Google Finance, when was the first ye"
          ],
          [
           "Compute the check digit the Tropicos ID for the Or"
          ],
          [
           "In Valentina Re’s contribution to the 2017 book “W"
          ],
          [
           "Find the value of x to the nearest tenth: Lx = (d/"
          ],
          [
           "I was referencing each of the tables in the file f"
          ],
          [
           "The object in the British Museum's collection with"
          ],
          [
           "Who nominated the only Featured Article on English"
          ],
          [
           "How many nonindigenous crocodiles were found in Fl"
          ],
          [
           "On July 15, 2008, Phys.org published an article ab"
          ],
          [
           "What is the area of the green polygon in the attac"
          ],
          [
           "In the NIH translation of the original 1913 Michae"
          ],
          [
           "According to wikipedia, how many Asian countries s"
          ],
          [
           "What time was the Tri-Rail train that carried the "
          ],
          [
           "Who composed the song that was performed by a roos"
          ],
          [
           "I thought we could try a fun word puzzle together "
          ],
          [
           "I’m thinking about selling my home, so I want to l"
          ],
          [
           "You are given this Excel file as a map. You start "
          ],
          [
           "I'm making a grocery list for my mom, but she's a "
          ],
          [
           "What percentage of the total penguin population ac"
          ],
          [
           "How many times was a Twitter/X post cited as a ref"
          ],
          [
           "Look at the attached image. The quiz is scored as "
          ],
          [
           "What is the maximum length in meters of #9 in the "
          ],
          [
           "What is the volume in milliliters of a system comp"
          ],
          [
           "What is the last word before the second chorus of "
          ],
          [
           "According to the World Bank, which countries had g"
          ],
          [
           "Hi, I'm making a pie but I could use some help wit"
          ],
          [
           "I have the Standard plan in the image below, and I"
          ],
          [
           "The attached PDF lists accommodations in the resor"
          ],
          [
           "Which of the fruits shown in the 2008 painting \"Em"
          ],
          [
           "What is the surname of the equine veterinarian men"
          ],
          [
           "The work referenced in footnote 397 of Federico La"
          ],
          [
           "On ScienceDirect, what is the difference to 3 deci"
          ],
          [
           "This spreadsheet contains a list of clients for a "
          ],
          [
           "The attached image contains a Python script. Run t"
          ],
          [
           "The year is 2022. I am at the National Air and Spa"
          ],
          [
           "The YouTube channel Game Grumps began a Let’s Play"
          ],
          [
           "In the Scikit-Learn July 2017 changelog, what othe"
          ],
          [
           "What is the final numeric output from the attached"
          ],
          [
           "The longest-lived vertebrate is named after an isl"
          ],
          [
           "The book with the doi 10.1353/book.24372 concerns "
          ],
          [
           "Bob was invited to participate in a game show, and"
          ],
          [
           "How many more blocks (also denoted as layers) in B"
          ],
          [
           "Pull out the sentence in the following 5x7 block o"
          ],
          [
           "During the first week of August 2015, one of the N"
          ],
          [
           "It's May 2023, and I'm about to drive across the U"
          ],
          [
           "Consider the following symbols: 𒐜  𒐐𒐚\n\nThis is a n"
          ],
          [
           "What is the latest chronological year date written"
          ],
          [
           "On the BBC Earth YouTube video of the Top 5 Sillie"
          ],
          [
           "All of the individuals who formally held the posit"
          ],
          [
           "According to the USGS, in what year was the Americ"
          ],
          [
           "The brand that makes these harnesses the dogs are "
          ],
          [
           "Of the cities within the United States where U.S. "
          ],
          [
           "According to Girls Who Code, how long did it take "
          ],
          [
           "On the DeepFruits fruit detection graph on Connect"
          ],
          [
           "Who did the actor who played Ray in the Polish-lan"
          ],
          [
           "On Cornell Law School website's legal information "
          ],
          [
           "The cover of the August 2021 issue of Vogue shows "
          ],
          [
           "How many at bats did the Yankee with the most walk"
          ],
          [
           "In Audre Lorde’s poem “Father Son and Holy Ghost”,"
          ],
          [
           "The attached file lists the locomotives owned by a"
          ],
          [
           "I'm curious about how much information is availabl"
          ],
          [
           "The attached spreadsheet lists the locomotives own"
          ],
          [
           "Hi, I was out sick from my classes on Friday, so I"
          ],
          [
           "A 5-man group made up of one tank, one healer, and"
          ],
          [
           "The attached spreadsheet contains a list of books "
          ],
          [
           "Eva Draconis has a personal website which can be a"
          ],
          [
           "Take the gender split from the 2011 Bulgarian cens"
          ],
          [
           "When was a picture of St. Thomas Aquinas first add"
          ],
          [
           "If this whole pint is made up of ice cream, how ma"
          ],
          [
           "What is the absolute difference in tens of thousan"
          ],
          [
           "Where were the Vietnamese specimens described by K"
          ],
          [
           "A standard Rubik’s cube has been broken into cubes"
          ],
          [
           "I'd like to learn more about some popular reality "
          ],
          [
           "What country had the least number of athletes at t"
          ],
          [
           "The attached Excel file contains the sales of menu"
          ],
          [
           "What was the actual enrollment count of the clinic"
          ],
          [
           "According to Openreview.net, at the NeurIPS 2022 C"
          ],
          [
           "On June 6, 2023, an article by Carolyn Collins Pet"
          ],
          [
           "Who are the pitchers with the number before and af"
          ],
          [
           "In NASA's Astronomy Picture of the Day on 2006 Jan"
          ],
          [
           "As of May 2023, how many stops are between South S"
          ],
          [
           "What was the complete title of the book in which t"
          ],
          [
           "In the film Goldfinger, what color was the object "
          ],
          [
           "As of August 2023, who is the only winner of the U"
          ],
          [
           "In the 2015 Metropolitan Museum of Art exhibition "
          ],
          [
           "In the YouTube 360 VR video from March 2018 narrat"
          ],
          [
           "What is the first name of the only Malko Competiti"
          ],
          [
           "I read a paper about multiwavelength observations "
          ],
          [
           "At the two-minute mark in the YouTube video upload"
          ]
         ],
         "hovertemplate": "agent_name=gaia_o4-mini_search<br>index=%{x}<br>is_correct=%{y}<br>question=%{customdata[0]}<extra></extra>",
         "legendgroup": "gaia_o4-mini_search",
         "line": {
          "color": "#FFA15A",
          "dash": "solid"
         },
         "marker": {
          "symbol": "circle"
         },
         "mode": "lines",
         "name": "gaia_o4-mini_search",
         "orientation": "v",
         "showlegend": true,
         "type": "scatter",
         "x": {
          "bdata": "AAABAAIAAwAEAAUABgAHAAgACQAKAAsADAANAA4ADwAQABEAEgATABQAFQAWABcAGAAZABoAGwAcAB0AHgAfACAAIQAiACMAJAAlACYAJwAoACkAKgArACwALQAuAC8AMAAxADIAMwA0ADUANgA3ADgAOQA6ADsAPAA9AD4APwBAAEEAQgBDAEQARQBGAEcASABJAEoASwBMAE0ATgBPAFAAUQBSAFMAVABVAFYAVwBYAFkAWgBbAFwAXQBeAF8AYABhAGIAYwBkAGUAZgBnAGgAaQBqAGsAbABtAG4AbwBwAHEAcgBzAHQAdQB2AHcAeAB5AHoAewB8AH0AfgB/AIAAgQCCAIMAhACFAIYAhwCIAIkAigCLAIwAjQCOAI8AkACRAJIAkwCUAJUAlgCXAJgAmQCaAJsAnACdAJ4AnwCgAKEAogCjAKQA",
          "dtype": "i2"
         },
         "xaxis": "x",
         "y": {
          "bdata": "AAAAAAAAAAAAAAAAAADgP1VVVVVVVdU/AAAAAAAA4D8zMzMzMzPjP1VVVVVVVeU/t23btm3b5j8AAAAAAADoPzmO4ziO4+g/ZmZmZmZm5j9GF1100UXnP1VVVVVVVeU/dmIndmIn5j8lSZIkSZLkP1VVVVVVVeU/AAAAAAAA5D+1tLS0tLTkP+Q4juM4juM/XkN5DeU15D/NzMzMzMzkP/Q8z/M8z+M/6aKLLrro4j8hC1nIQhbiP6uqqqqqquI/MzMzMzMz4z9iJ3ZiJ3biP3Icx3Ecx+E/kiRJkiRJ4j9PIyz3NMLiPzMzMzMzM+M/nXPOOeec4z8AAAAAAADjP22yySabbOI/09LS0tLS4j+SJEmSJEniP3Icx3Ecx+E/whT5rBtM4T95DeU1lNfgP5AGaZAGaeA/zczMzMzM4D8sUbsStSvhPzEMwzAMw+A/GPQFfUFf4D8AAAAAAADgP5/0SZ/0Sd8/6k1vetOb3j94Nuo7G/XdP6uqqqqqqt4/g5dT8HIK3j+4HoXrUbjeP19fX19fX98/AAAAAAAA4D86pCYYb2XfPwAAAAAAAOA/a9+w9g1r3z8AAAAAAADgP34E9xHcR+A/AAAAAAAA4D+c1H15bEXgP4mIiIiIiOA/O9q8T3HJ4D8IIYQQQgjhPzEMwzAMw+A/AAAAAACA4D/wAz/wAz/gP3zwwQcffOA/TKQHKme34D94eHh4eHjgPwRz7cBcO+A/UAd1UAd14D82BxKtsDngPwAAAAAAAOA//Pjx48eP3z8q8lk3mCLfP7gehetRuN4/DeU1lNdQ3j81sHdMDezdP77lW77lW94/kj0DUenI3j9mZmZmZmbeP7o1PyxSBt4/cD4G52Nw3j/3kMuKgRLeP57neZ7ned4/397e3t7e3j+hL+gL+oLePyCT4gUyKd4/jC666KKL3j/jGc94xjPePz/pkz7pk94/H+/xHu/x3j/qTW9605veP0geeeSRR94/+85GfWej3j8N5TWU11DePwAAAAAAAN4/3ixPItOw3T9ZHxrrQ2PdPxdddNFFF90/cT0K16Nw3T9ZGb4RBSbdP93c3Nzc3Nw/PNhvtTE03T/FTuzETuzcP13KpVzKpdw/IjXBeCv73D8fmUDv1LXcPxzHcRzHcdw/8MJB9Pgu3D+CPCXIU4LcP0PNSSAu1Nw/JUmSJEmS3D/HKM51jOLcPxbTWUxnMd0/2CWVD+N+3T+NsNzTCMvdP57YiZ3Yid0/HlsRNJzU3T8eHh4eHh7eP2ZmZmZmZt4/4MYyKBUm3j+KS4ZgHW3ePy6e3OLJLd4/77333nvv3T9oke18PzXeP57neZ7ned4/r9fr9Xq93j8AAAAAAADfP9AX9AV9Qd8/P/ADP/AD3z9oGdEHVMfeP4wuuuiii94/wOwBswfM3j9FeqBydgvfPwntJbSX0N4/Dw8PDw8P3z/ZLKj2nEzfP/kZJX5Gid8/964DujFP3z9f8RVf8RXfP31no76zUd8/lPHbpZ6M3z89QvWZtsbfP+Q4juM4jt8/Dnj84YDH3z8AAAAAAADgPweUiSvdG+A/doMp8lk34D802j1sfRvgPzfQaQOdNuA/g0XBomBR4D9eQ3kN5TXgP3DFGnDFGuA/x9TA3jE14D9PcPQER0/gP5AGaZAGaeA/d2PfI3KC4D/PQFQ6smfgPyV3ihbOgOA/mpmZmZmZ4D+aP9h4NH/gP6hb88MiZeA/axRx6KR94D9kcD4G52PgP0qQpwR5SuA/",
          "dtype": "f8"
         },
         "yaxis": "y"
        },
        {
         "customdata": [
          [
           "Using the Biopython library in Python, parse the P"
          ],
          [
           "What is the average number of pre-2020 works on th"
          ],
          [
           "You are a telecommunications engineer who wants to"
          ],
          [
           "How many slides in this PowerPoint presentation me"
          ],
          [
           "What percentage of the total penguin population ac"
          ],
          [
           "Could you help me out with this assignment? Our pr"
          ],
          [
           "Hi, I'm making a pie but I could use some help wit"
          ],
          [
           "What is the final numeric output from the attached"
          ],
          [
           "Hi, I was out sick from my classes on Friday, so I"
          ]
         ],
         "hovertemplate": "agent_name=generate-traces-03-apr-noplanning<br>index=%{x}<br>is_correct=%{y}<br>question=%{customdata[0]}<extra></extra>",
         "legendgroup": "generate-traces-03-apr-noplanning",
         "line": {
          "color": "#19d3f3",
          "dash": "solid"
         },
         "marker": {
          "symbol": "circle"
         },
         "mode": "lines",
         "name": "generate-traces-03-apr-noplanning",
         "orientation": "v",
         "showlegend": true,
         "type": "scatter",
         "x": {
          "bdata": "AAECAwQFBgcI",
          "dtype": "i1"
         },
         "xaxis": "x",
         "y": {
          "bdata": "AAAAAAAAAAAAAAAAAAAAAAAAAAAAAAAAAAAAAAAAAAAAAAAAAAAAAAAAAAAAAAAAAAAAAAAAAAAAAAAAAAAAAAAAAAAAAAAA",
          "dtype": "f8"
         },
         "yaxis": "y"
        }
       ],
       "layout": {
        "legend": {
         "title": {
          "text": "agent_name"
         },
         "tracegroupgap": 0
        },
        "margin": {
         "t": 60
        },
        "template": {
         "data": {
          "bar": [
           {
            "error_x": {
             "color": "#2a3f5f"
            },
            "error_y": {
             "color": "#2a3f5f"
            },
            "marker": {
             "line": {
              "color": "#E5ECF6",
              "width": 0.5
             },
             "pattern": {
              "fillmode": "overlay",
              "size": 10,
              "solidity": 0.2
             }
            },
            "type": "bar"
           }
          ],
          "barpolar": [
           {
            "marker": {
             "line": {
              "color": "#E5ECF6",
              "width": 0.5
             },
             "pattern": {
              "fillmode": "overlay",
              "size": 10,
              "solidity": 0.2
             }
            },
            "type": "barpolar"
           }
          ],
          "carpet": [
           {
            "aaxis": {
             "endlinecolor": "#2a3f5f",
             "gridcolor": "white",
             "linecolor": "white",
             "minorgridcolor": "white",
             "startlinecolor": "#2a3f5f"
            },
            "baxis": {
             "endlinecolor": "#2a3f5f",
             "gridcolor": "white",
             "linecolor": "white",
             "minorgridcolor": "white",
             "startlinecolor": "#2a3f5f"
            },
            "type": "carpet"
           }
          ],
          "choropleth": [
           {
            "colorbar": {
             "outlinewidth": 0,
             "ticks": ""
            },
            "type": "choropleth"
           }
          ],
          "contour": [
           {
            "colorbar": {
             "outlinewidth": 0,
             "ticks": ""
            },
            "colorscale": [
             [
              0,
              "#0d0887"
             ],
             [
              0.1111111111111111,
              "#46039f"
             ],
             [
              0.2222222222222222,
              "#7201a8"
             ],
             [
              0.3333333333333333,
              "#9c179e"
             ],
             [
              0.4444444444444444,
              "#bd3786"
             ],
             [
              0.5555555555555556,
              "#d8576b"
             ],
             [
              0.6666666666666666,
              "#ed7953"
             ],
             [
              0.7777777777777778,
              "#fb9f3a"
             ],
             [
              0.8888888888888888,
              "#fdca26"
             ],
             [
              1,
              "#f0f921"
             ]
            ],
            "type": "contour"
           }
          ],
          "contourcarpet": [
           {
            "colorbar": {
             "outlinewidth": 0,
             "ticks": ""
            },
            "type": "contourcarpet"
           }
          ],
          "heatmap": [
           {
            "colorbar": {
             "outlinewidth": 0,
             "ticks": ""
            },
            "colorscale": [
             [
              0,
              "#0d0887"
             ],
             [
              0.1111111111111111,
              "#46039f"
             ],
             [
              0.2222222222222222,
              "#7201a8"
             ],
             [
              0.3333333333333333,
              "#9c179e"
             ],
             [
              0.4444444444444444,
              "#bd3786"
             ],
             [
              0.5555555555555556,
              "#d8576b"
             ],
             [
              0.6666666666666666,
              "#ed7953"
             ],
             [
              0.7777777777777778,
              "#fb9f3a"
             ],
             [
              0.8888888888888888,
              "#fdca26"
             ],
             [
              1,
              "#f0f921"
             ]
            ],
            "type": "heatmap"
           }
          ],
          "histogram": [
           {
            "marker": {
             "pattern": {
              "fillmode": "overlay",
              "size": 10,
              "solidity": 0.2
             }
            },
            "type": "histogram"
           }
          ],
          "histogram2d": [
           {
            "colorbar": {
             "outlinewidth": 0,
             "ticks": ""
            },
            "colorscale": [
             [
              0,
              "#0d0887"
             ],
             [
              0.1111111111111111,
              "#46039f"
             ],
             [
              0.2222222222222222,
              "#7201a8"
             ],
             [
              0.3333333333333333,
              "#9c179e"
             ],
             [
              0.4444444444444444,
              "#bd3786"
             ],
             [
              0.5555555555555556,
              "#d8576b"
             ],
             [
              0.6666666666666666,
              "#ed7953"
             ],
             [
              0.7777777777777778,
              "#fb9f3a"
             ],
             [
              0.8888888888888888,
              "#fdca26"
             ],
             [
              1,
              "#f0f921"
             ]
            ],
            "type": "histogram2d"
           }
          ],
          "histogram2dcontour": [
           {
            "colorbar": {
             "outlinewidth": 0,
             "ticks": ""
            },
            "colorscale": [
             [
              0,
              "#0d0887"
             ],
             [
              0.1111111111111111,
              "#46039f"
             ],
             [
              0.2222222222222222,
              "#7201a8"
             ],
             [
              0.3333333333333333,
              "#9c179e"
             ],
             [
              0.4444444444444444,
              "#bd3786"
             ],
             [
              0.5555555555555556,
              "#d8576b"
             ],
             [
              0.6666666666666666,
              "#ed7953"
             ],
             [
              0.7777777777777778,
              "#fb9f3a"
             ],
             [
              0.8888888888888888,
              "#fdca26"
             ],
             [
              1,
              "#f0f921"
             ]
            ],
            "type": "histogram2dcontour"
           }
          ],
          "mesh3d": [
           {
            "colorbar": {
             "outlinewidth": 0,
             "ticks": ""
            },
            "type": "mesh3d"
           }
          ],
          "parcoords": [
           {
            "line": {
             "colorbar": {
              "outlinewidth": 0,
              "ticks": ""
             }
            },
            "type": "parcoords"
           }
          ],
          "pie": [
           {
            "automargin": true,
            "type": "pie"
           }
          ],
          "scatter": [
           {
            "fillpattern": {
             "fillmode": "overlay",
             "size": 10,
             "solidity": 0.2
            },
            "type": "scatter"
           }
          ],
          "scatter3d": [
           {
            "line": {
             "colorbar": {
              "outlinewidth": 0,
              "ticks": ""
             }
            },
            "marker": {
             "colorbar": {
              "outlinewidth": 0,
              "ticks": ""
             }
            },
            "type": "scatter3d"
           }
          ],
          "scattercarpet": [
           {
            "marker": {
             "colorbar": {
              "outlinewidth": 0,
              "ticks": ""
             }
            },
            "type": "scattercarpet"
           }
          ],
          "scattergeo": [
           {
            "marker": {
             "colorbar": {
              "outlinewidth": 0,
              "ticks": ""
             }
            },
            "type": "scattergeo"
           }
          ],
          "scattergl": [
           {
            "marker": {
             "colorbar": {
              "outlinewidth": 0,
              "ticks": ""
             }
            },
            "type": "scattergl"
           }
          ],
          "scattermap": [
           {
            "marker": {
             "colorbar": {
              "outlinewidth": 0,
              "ticks": ""
             }
            },
            "type": "scattermap"
           }
          ],
          "scattermapbox": [
           {
            "marker": {
             "colorbar": {
              "outlinewidth": 0,
              "ticks": ""
             }
            },
            "type": "scattermapbox"
           }
          ],
          "scatterpolar": [
           {
            "marker": {
             "colorbar": {
              "outlinewidth": 0,
              "ticks": ""
             }
            },
            "type": "scatterpolar"
           }
          ],
          "scatterpolargl": [
           {
            "marker": {
             "colorbar": {
              "outlinewidth": 0,
              "ticks": ""
             }
            },
            "type": "scatterpolargl"
           }
          ],
          "scatterternary": [
           {
            "marker": {
             "colorbar": {
              "outlinewidth": 0,
              "ticks": ""
             }
            },
            "type": "scatterternary"
           }
          ],
          "surface": [
           {
            "colorbar": {
             "outlinewidth": 0,
             "ticks": ""
            },
            "colorscale": [
             [
              0,
              "#0d0887"
             ],
             [
              0.1111111111111111,
              "#46039f"
             ],
             [
              0.2222222222222222,
              "#7201a8"
             ],
             [
              0.3333333333333333,
              "#9c179e"
             ],
             [
              0.4444444444444444,
              "#bd3786"
             ],
             [
              0.5555555555555556,
              "#d8576b"
             ],
             [
              0.6666666666666666,
              "#ed7953"
             ],
             [
              0.7777777777777778,
              "#fb9f3a"
             ],
             [
              0.8888888888888888,
              "#fdca26"
             ],
             [
              1,
              "#f0f921"
             ]
            ],
            "type": "surface"
           }
          ],
          "table": [
           {
            "cells": {
             "fill": {
              "color": "#EBF0F8"
             },
             "line": {
              "color": "white"
             }
            },
            "header": {
             "fill": {
              "color": "#C8D4E3"
             },
             "line": {
              "color": "white"
             }
            },
            "type": "table"
           }
          ]
         },
         "layout": {
          "annotationdefaults": {
           "arrowcolor": "#2a3f5f",
           "arrowhead": 0,
           "arrowwidth": 1
          },
          "autotypenumbers": "strict",
          "coloraxis": {
           "colorbar": {
            "outlinewidth": 0,
            "ticks": ""
           }
          },
          "colorscale": {
           "diverging": [
            [
             0,
             "#8e0152"
            ],
            [
             0.1,
             "#c51b7d"
            ],
            [
             0.2,
             "#de77ae"
            ],
            [
             0.3,
             "#f1b6da"
            ],
            [
             0.4,
             "#fde0ef"
            ],
            [
             0.5,
             "#f7f7f7"
            ],
            [
             0.6,
             "#e6f5d0"
            ],
            [
             0.7,
             "#b8e186"
            ],
            [
             0.8,
             "#7fbc41"
            ],
            [
             0.9,
             "#4d9221"
            ],
            [
             1,
             "#276419"
            ]
           ],
           "sequential": [
            [
             0,
             "#0d0887"
            ],
            [
             0.1111111111111111,
             "#46039f"
            ],
            [
             0.2222222222222222,
             "#7201a8"
            ],
            [
             0.3333333333333333,
             "#9c179e"
            ],
            [
             0.4444444444444444,
             "#bd3786"
            ],
            [
             0.5555555555555556,
             "#d8576b"
            ],
            [
             0.6666666666666666,
             "#ed7953"
            ],
            [
             0.7777777777777778,
             "#fb9f3a"
            ],
            [
             0.8888888888888888,
             "#fdca26"
            ],
            [
             1,
             "#f0f921"
            ]
           ],
           "sequentialminus": [
            [
             0,
             "#0d0887"
            ],
            [
             0.1111111111111111,
             "#46039f"
            ],
            [
             0.2222222222222222,
             "#7201a8"
            ],
            [
             0.3333333333333333,
             "#9c179e"
            ],
            [
             0.4444444444444444,
             "#bd3786"
            ],
            [
             0.5555555555555556,
             "#d8576b"
            ],
            [
             0.6666666666666666,
             "#ed7953"
            ],
            [
             0.7777777777777778,
             "#fb9f3a"
            ],
            [
             0.8888888888888888,
             "#fdca26"
            ],
            [
             1,
             "#f0f921"
            ]
           ]
          },
          "colorway": [
           "#636efa",
           "#EF553B",
           "#00cc96",
           "#ab63fa",
           "#FFA15A",
           "#19d3f3",
           "#FF6692",
           "#B6E880",
           "#FF97FF",
           "#FECB52"
          ],
          "font": {
           "color": "#2a3f5f"
          },
          "geo": {
           "bgcolor": "white",
           "lakecolor": "white",
           "landcolor": "#E5ECF6",
           "showlakes": true,
           "showland": true,
           "subunitcolor": "white"
          },
          "hoverlabel": {
           "align": "left"
          },
          "hovermode": "closest",
          "mapbox": {
           "style": "light"
          },
          "paper_bgcolor": "white",
          "plot_bgcolor": "#E5ECF6",
          "polar": {
           "angularaxis": {
            "gridcolor": "white",
            "linecolor": "white",
            "ticks": ""
           },
           "bgcolor": "#E5ECF6",
           "radialaxis": {
            "gridcolor": "white",
            "linecolor": "white",
            "ticks": ""
           }
          },
          "scene": {
           "xaxis": {
            "backgroundcolor": "#E5ECF6",
            "gridcolor": "white",
            "gridwidth": 2,
            "linecolor": "white",
            "showbackground": true,
            "ticks": "",
            "zerolinecolor": "white"
           },
           "yaxis": {
            "backgroundcolor": "#E5ECF6",
            "gridcolor": "white",
            "gridwidth": 2,
            "linecolor": "white",
            "showbackground": true,
            "ticks": "",
            "zerolinecolor": "white"
           },
           "zaxis": {
            "backgroundcolor": "#E5ECF6",
            "gridcolor": "white",
            "gridwidth": 2,
            "linecolor": "white",
            "showbackground": true,
            "ticks": "",
            "zerolinecolor": "white"
           }
          },
          "shapedefaults": {
           "line": {
            "color": "#2a3f5f"
           }
          },
          "ternary": {
           "aaxis": {
            "gridcolor": "white",
            "linecolor": "white",
            "ticks": ""
           },
           "baxis": {
            "gridcolor": "white",
            "linecolor": "white",
            "ticks": ""
           },
           "bgcolor": "#E5ECF6",
           "caxis": {
            "gridcolor": "white",
            "linecolor": "white",
            "ticks": ""
           }
          },
          "title": {
           "x": 0.05
          },
          "xaxis": {
           "automargin": true,
           "gridcolor": "white",
           "linecolor": "white",
           "ticks": "",
           "title": {
            "standoff": 15
           },
           "zerolinecolor": "white",
           "zerolinewidth": 2
          },
          "yaxis": {
           "automargin": true,
           "gridcolor": "white",
           "linecolor": "white",
           "ticks": "",
           "title": {
            "standoff": 15
           },
           "zerolinecolor": "white",
           "zerolinewidth": 2
          }
         }
        },
        "xaxis": {
         "anchor": "y",
         "domain": [
          0,
          1
         ],
         "title": {
          "text": "index"
         }
        },
        "yaxis": {
         "anchor": "x",
         "domain": [
          0,
          1
         ],
         "title": {
          "text": "is_correct"
         }
        }
       }
      }
     },
     "metadata": {},
     "output_type": "display_data"
    }
   ],
   "source": [
    "import plotly.express as px\n",
    "\n",
    "\n",
    "cumulative_df = (\n",
    "    (\n",
    "        sel_df.groupby(\"agent_name\")[[\"is_correct\", \"is_near_correct\"]]\n",
    "        .expanding(min_periods=1, axis=0, method=\"single\")\n",
    "        .agg({\"is_correct\": \"mean\", \"is_near_correct\": \"count\"})\n",
    "        .reset_index()\n",
    "    )\n",
    "    .copy()\n",
    "    .rename(columns={\"is_near_correct\": \"index\"})\n",
    ")\n",
    "cumulative_df[\"index\"] = cumulative_df[\"index\"].astype(int) - 1\n",
    "\n",
    "\n",
    "def find_question(row):\n",
    "    try:\n",
    "        res = sel_df.loc[sel_df[\"agent_name\"] == row[\"agent_name\"], \"question\"].iloc[row[\"index\"]][:50]\n",
    "        return res\n",
    "    except Exception:\n",
    "        return \"\"\n",
    "\n",
    "\n",
    "cumulative_df[\"question\"] = cumulative_df.apply(find_question, axis=1)\n",
    "\n",
    "px.line(\n",
    "    cumulative_df,\n",
    "    color=\"agent_name\",\n",
    "    x=\"index\",\n",
    "    y=\"is_correct\",\n",
    "    hover_data=\"question\",\n",
    ")"
   ]
  },
  {
   "cell_type": "markdown",
   "metadata": {},
   "source": [
    "# 3. Dive deeper into one run"
   ]
  },
  {
   "cell_type": "code",
   "execution_count": 27,
   "metadata": {},
   "outputs": [
    {
     "name": "stdout",
     "output_type": "stream",
     "text": [
      "165\n"
     ]
    }
   ],
   "source": [
    "sel_df = result_df.loc[result_df[\"agent_name\"] == \"gaia_o1\"]\n",
    "print(len(sel_df))"
   ]
  },
  {
   "cell_type": "markdown",
   "metadata": {},
   "source": [
    "### Count errors"
   ]
  },
  {
   "cell_type": "code",
   "execution_count": 28,
   "metadata": {},
   "outputs": [
    {
     "name": "stderr",
     "output_type": "stream",
     "text": [
      "/var/folders/jh/q_m8brcn0mqb9m0kx473993w0000gp/T/ipykernel_15388/2022001392.py:10: SettingWithCopyWarning:\n",
      "\n",
      "\n",
      "A value is trying to be set on a copy of a slice from a DataFrame.\n",
      "Try using .loc[row_indexer,col_indexer] = value instead\n",
      "\n",
      "See the caveats in the documentation: https://pandas.pydata.org/pandas-docs/stable/user_guide/indexing.html#returning-a-view-versus-a-copy\n",
      "\n",
      "/var/folders/jh/q_m8brcn0mqb9m0kx473993w0000gp/T/ipykernel_15388/2022001392.py:10: SettingWithCopyWarning:\n",
      "\n",
      "\n",
      "A value is trying to be set on a copy of a slice from a DataFrame.\n",
      "Try using .loc[row_indexer,col_indexer] = value instead\n",
      "\n",
      "See the caveats in the documentation: https://pandas.pydata.org/pandas-docs/stable/user_guide/indexing.html#returning-a-view-versus-a-copy\n",
      "\n",
      "/var/folders/jh/q_m8brcn0mqb9m0kx473993w0000gp/T/ipykernel_15388/2022001392.py:10: SettingWithCopyWarning:\n",
      "\n",
      "\n",
      "A value is trying to be set on a copy of a slice from a DataFrame.\n",
      "Try using .loc[row_indexer,col_indexer] = value instead\n",
      "\n",
      "See the caveats in the documentation: https://pandas.pydata.org/pandas-docs/stable/user_guide/indexing.html#returning-a-view-versus-a-copy\n",
      "\n",
      "/var/folders/jh/q_m8brcn0mqb9m0kx473993w0000gp/T/ipykernel_15388/2022001392.py:10: SettingWithCopyWarning:\n",
      "\n",
      "\n",
      "A value is trying to be set on a copy of a slice from a DataFrame.\n",
      "Try using .loc[row_indexer,col_indexer] = value instead\n",
      "\n",
      "See the caveats in the documentation: https://pandas.pydata.org/pandas-docs/stable/user_guide/indexing.html#returning-a-view-versus-a-copy\n",
      "\n",
      "/var/folders/jh/q_m8brcn0mqb9m0kx473993w0000gp/T/ipykernel_15388/2022001392.py:11: SettingWithCopyWarning:\n",
      "\n",
      "\n",
      "A value is trying to be set on a copy of a slice from a DataFrame.\n",
      "Try using .loc[row_indexer,col_indexer] = value instead\n",
      "\n",
      "See the caveats in the documentation: https://pandas.pydata.org/pandas-docs/stable/user_guide/indexing.html#returning-a-view-versus-a-copy\n",
      "\n"
     ]
    }
   ],
   "source": [
    "import numpy as np\n",
    "\n",
    "\n",
    "error_types = [\n",
    "    \"AgentParsingError\",\n",
    "    \"AgentExecutionError\",\n",
    "    \"AgentMaxIterationsError\",\n",
    "    \"AgentGenerationError\",\n",
    "]\n",
    "sel_df[error_types] = 0\n",
    "sel_df[\"Count steps\"] = np.nan\n",
    "\n",
    "\n",
    "def count_errors(row):\n",
    "    if isinstance(row[\"intermediate_steps\"], list):\n",
    "        row[\"Count steps\"] = len(row[\"intermediate_steps\"])\n",
    "        for step in row[\"intermediate_steps\"]:\n",
    "            if isinstance(step, dict) and \"error\" in step:\n",
    "                try:\n",
    "                    row[str(step[\"error\"][\"error_type\"])] += 1\n",
    "                except Exception:\n",
    "                    pass\n",
    "    return row\n",
    "\n",
    "\n",
    "sel_df = sel_df.apply(count_errors, axis=1)"
   ]
  },
  {
   "cell_type": "code",
   "execution_count": 29,
   "metadata": {},
   "outputs": [
    {
     "data": {
      "application/vnd.plotly.v1+json": {
       "config": {
        "plotlyServerURL": "https://plot.ly"
       },
       "data": [
        {
         "hovertemplate": "is_correct=False<br>variable=%{x}<br><b>Average count</b>=%{y}<extra></extra>",
         "legendgroup": "False",
         "marker": {
          "color": "#636efa",
          "pattern": {
           "shape": ""
          }
         },
         "name": "False",
         "orientation": "v",
         "showlegend": true,
         "textposition": "outside",
         "type": "bar",
         "x": [
          "AgentParsingError",
          "AgentExecutionError",
          "AgentMaxIterationsError",
          "AgentGenerationError",
          "Count steps"
         ],
         "xaxis": "x",
         "y": {
          "bdata": "AAAAAAAAAAAAAAAAAAAAAAAAAAAAAAAAAAAAAAAAAAA4velNb3okQA==",
          "dtype": "f8"
         },
         "yaxis": "y"
        },
        {
         "hovertemplate": "is_correct=True<br>variable=%{x}<br><b>Average count</b>=%{y}<extra></extra>",
         "legendgroup": "True",
         "marker": {
          "color": "#EF553B",
          "pattern": {
           "shape": ""
          }
         },
         "name": "True",
         "orientation": "v",
         "showlegend": true,
         "textposition": "outside",
         "type": "bar",
         "x": [
          "AgentParsingError",
          "AgentExecutionError",
          "AgentMaxIterationsError",
          "AgentGenerationError",
          "Count steps"
         ],
         "xaxis": "x",
         "y": {
          "bdata": "AAAAAAAAAAAAAAAAAAAAAAAAAAAAAAAAAAAAAAAAAAD58ePHjx8lQA==",
          "dtype": "f8"
         },
         "yaxis": "y"
        }
       ],
       "layout": {
        "bargroupgap": 0,
        "barmode": "group",
        "height": 500,
        "legend": {
         "title": {
          "text": "is_correct"
         },
         "tracegroupgap": 0
        },
        "margin": {
         "t": 60
        },
        "template": {
         "data": {
          "bar": [
           {
            "error_x": {
             "color": "#2a3f5f"
            },
            "error_y": {
             "color": "#2a3f5f"
            },
            "marker": {
             "line": {
              "color": "#E5ECF6",
              "width": 0.5
             },
             "pattern": {
              "fillmode": "overlay",
              "size": 10,
              "solidity": 0.2
             }
            },
            "type": "bar"
           }
          ],
          "barpolar": [
           {
            "marker": {
             "line": {
              "color": "#E5ECF6",
              "width": 0.5
             },
             "pattern": {
              "fillmode": "overlay",
              "size": 10,
              "solidity": 0.2
             }
            },
            "type": "barpolar"
           }
          ],
          "carpet": [
           {
            "aaxis": {
             "endlinecolor": "#2a3f5f",
             "gridcolor": "white",
             "linecolor": "white",
             "minorgridcolor": "white",
             "startlinecolor": "#2a3f5f"
            },
            "baxis": {
             "endlinecolor": "#2a3f5f",
             "gridcolor": "white",
             "linecolor": "white",
             "minorgridcolor": "white",
             "startlinecolor": "#2a3f5f"
            },
            "type": "carpet"
           }
          ],
          "choropleth": [
           {
            "colorbar": {
             "outlinewidth": 0,
             "ticks": ""
            },
            "type": "choropleth"
           }
          ],
          "contour": [
           {
            "colorbar": {
             "outlinewidth": 0,
             "ticks": ""
            },
            "colorscale": [
             [
              0,
              "#0d0887"
             ],
             [
              0.1111111111111111,
              "#46039f"
             ],
             [
              0.2222222222222222,
              "#7201a8"
             ],
             [
              0.3333333333333333,
              "#9c179e"
             ],
             [
              0.4444444444444444,
              "#bd3786"
             ],
             [
              0.5555555555555556,
              "#d8576b"
             ],
             [
              0.6666666666666666,
              "#ed7953"
             ],
             [
              0.7777777777777778,
              "#fb9f3a"
             ],
             [
              0.8888888888888888,
              "#fdca26"
             ],
             [
              1,
              "#f0f921"
             ]
            ],
            "type": "contour"
           }
          ],
          "contourcarpet": [
           {
            "colorbar": {
             "outlinewidth": 0,
             "ticks": ""
            },
            "type": "contourcarpet"
           }
          ],
          "heatmap": [
           {
            "colorbar": {
             "outlinewidth": 0,
             "ticks": ""
            },
            "colorscale": [
             [
              0,
              "#0d0887"
             ],
             [
              0.1111111111111111,
              "#46039f"
             ],
             [
              0.2222222222222222,
              "#7201a8"
             ],
             [
              0.3333333333333333,
              "#9c179e"
             ],
             [
              0.4444444444444444,
              "#bd3786"
             ],
             [
              0.5555555555555556,
              "#d8576b"
             ],
             [
              0.6666666666666666,
              "#ed7953"
             ],
             [
              0.7777777777777778,
              "#fb9f3a"
             ],
             [
              0.8888888888888888,
              "#fdca26"
             ],
             [
              1,
              "#f0f921"
             ]
            ],
            "type": "heatmap"
           }
          ],
          "histogram": [
           {
            "marker": {
             "pattern": {
              "fillmode": "overlay",
              "size": 10,
              "solidity": 0.2
             }
            },
            "type": "histogram"
           }
          ],
          "histogram2d": [
           {
            "colorbar": {
             "outlinewidth": 0,
             "ticks": ""
            },
            "colorscale": [
             [
              0,
              "#0d0887"
             ],
             [
              0.1111111111111111,
              "#46039f"
             ],
             [
              0.2222222222222222,
              "#7201a8"
             ],
             [
              0.3333333333333333,
              "#9c179e"
             ],
             [
              0.4444444444444444,
              "#bd3786"
             ],
             [
              0.5555555555555556,
              "#d8576b"
             ],
             [
              0.6666666666666666,
              "#ed7953"
             ],
             [
              0.7777777777777778,
              "#fb9f3a"
             ],
             [
              0.8888888888888888,
              "#fdca26"
             ],
             [
              1,
              "#f0f921"
             ]
            ],
            "type": "histogram2d"
           }
          ],
          "histogram2dcontour": [
           {
            "colorbar": {
             "outlinewidth": 0,
             "ticks": ""
            },
            "colorscale": [
             [
              0,
              "#0d0887"
             ],
             [
              0.1111111111111111,
              "#46039f"
             ],
             [
              0.2222222222222222,
              "#7201a8"
             ],
             [
              0.3333333333333333,
              "#9c179e"
             ],
             [
              0.4444444444444444,
              "#bd3786"
             ],
             [
              0.5555555555555556,
              "#d8576b"
             ],
             [
              0.6666666666666666,
              "#ed7953"
             ],
             [
              0.7777777777777778,
              "#fb9f3a"
             ],
             [
              0.8888888888888888,
              "#fdca26"
             ],
             [
              1,
              "#f0f921"
             ]
            ],
            "type": "histogram2dcontour"
           }
          ],
          "mesh3d": [
           {
            "colorbar": {
             "outlinewidth": 0,
             "ticks": ""
            },
            "type": "mesh3d"
           }
          ],
          "parcoords": [
           {
            "line": {
             "colorbar": {
              "outlinewidth": 0,
              "ticks": ""
             }
            },
            "type": "parcoords"
           }
          ],
          "pie": [
           {
            "automargin": true,
            "type": "pie"
           }
          ],
          "scatter": [
           {
            "fillpattern": {
             "fillmode": "overlay",
             "size": 10,
             "solidity": 0.2
            },
            "type": "scatter"
           }
          ],
          "scatter3d": [
           {
            "line": {
             "colorbar": {
              "outlinewidth": 0,
              "ticks": ""
             }
            },
            "marker": {
             "colorbar": {
              "outlinewidth": 0,
              "ticks": ""
             }
            },
            "type": "scatter3d"
           }
          ],
          "scattercarpet": [
           {
            "marker": {
             "colorbar": {
              "outlinewidth": 0,
              "ticks": ""
             }
            },
            "type": "scattercarpet"
           }
          ],
          "scattergeo": [
           {
            "marker": {
             "colorbar": {
              "outlinewidth": 0,
              "ticks": ""
             }
            },
            "type": "scattergeo"
           }
          ],
          "scattergl": [
           {
            "marker": {
             "colorbar": {
              "outlinewidth": 0,
              "ticks": ""
             }
            },
            "type": "scattergl"
           }
          ],
          "scattermap": [
           {
            "marker": {
             "colorbar": {
              "outlinewidth": 0,
              "ticks": ""
             }
            },
            "type": "scattermap"
           }
          ],
          "scattermapbox": [
           {
            "marker": {
             "colorbar": {
              "outlinewidth": 0,
              "ticks": ""
             }
            },
            "type": "scattermapbox"
           }
          ],
          "scatterpolar": [
           {
            "marker": {
             "colorbar": {
              "outlinewidth": 0,
              "ticks": ""
             }
            },
            "type": "scatterpolar"
           }
          ],
          "scatterpolargl": [
           {
            "marker": {
             "colorbar": {
              "outlinewidth": 0,
              "ticks": ""
             }
            },
            "type": "scatterpolargl"
           }
          ],
          "scatterternary": [
           {
            "marker": {
             "colorbar": {
              "outlinewidth": 0,
              "ticks": ""
             }
            },
            "type": "scatterternary"
           }
          ],
          "surface": [
           {
            "colorbar": {
             "outlinewidth": 0,
             "ticks": ""
            },
            "colorscale": [
             [
              0,
              "#0d0887"
             ],
             [
              0.1111111111111111,
              "#46039f"
             ],
             [
              0.2222222222222222,
              "#7201a8"
             ],
             [
              0.3333333333333333,
              "#9c179e"
             ],
             [
              0.4444444444444444,
              "#bd3786"
             ],
             [
              0.5555555555555556,
              "#d8576b"
             ],
             [
              0.6666666666666666,
              "#ed7953"
             ],
             [
              0.7777777777777778,
              "#fb9f3a"
             ],
             [
              0.8888888888888888,
              "#fdca26"
             ],
             [
              1,
              "#f0f921"
             ]
            ],
            "type": "surface"
           }
          ],
          "table": [
           {
            "cells": {
             "fill": {
              "color": "#EBF0F8"
             },
             "line": {
              "color": "white"
             }
            },
            "header": {
             "fill": {
              "color": "#C8D4E3"
             },
             "line": {
              "color": "white"
             }
            },
            "type": "table"
           }
          ]
         },
         "layout": {
          "annotationdefaults": {
           "arrowcolor": "#2a3f5f",
           "arrowhead": 0,
           "arrowwidth": 1
          },
          "autotypenumbers": "strict",
          "coloraxis": {
           "colorbar": {
            "outlinewidth": 0,
            "ticks": ""
           }
          },
          "colorscale": {
           "diverging": [
            [
             0,
             "#8e0152"
            ],
            [
             0.1,
             "#c51b7d"
            ],
            [
             0.2,
             "#de77ae"
            ],
            [
             0.3,
             "#f1b6da"
            ],
            [
             0.4,
             "#fde0ef"
            ],
            [
             0.5,
             "#f7f7f7"
            ],
            [
             0.6,
             "#e6f5d0"
            ],
            [
             0.7,
             "#b8e186"
            ],
            [
             0.8,
             "#7fbc41"
            ],
            [
             0.9,
             "#4d9221"
            ],
            [
             1,
             "#276419"
            ]
           ],
           "sequential": [
            [
             0,
             "#0d0887"
            ],
            [
             0.1111111111111111,
             "#46039f"
            ],
            [
             0.2222222222222222,
             "#7201a8"
            ],
            [
             0.3333333333333333,
             "#9c179e"
            ],
            [
             0.4444444444444444,
             "#bd3786"
            ],
            [
             0.5555555555555556,
             "#d8576b"
            ],
            [
             0.6666666666666666,
             "#ed7953"
            ],
            [
             0.7777777777777778,
             "#fb9f3a"
            ],
            [
             0.8888888888888888,
             "#fdca26"
            ],
            [
             1,
             "#f0f921"
            ]
           ],
           "sequentialminus": [
            [
             0,
             "#0d0887"
            ],
            [
             0.1111111111111111,
             "#46039f"
            ],
            [
             0.2222222222222222,
             "#7201a8"
            ],
            [
             0.3333333333333333,
             "#9c179e"
            ],
            [
             0.4444444444444444,
             "#bd3786"
            ],
            [
             0.5555555555555556,
             "#d8576b"
            ],
            [
             0.6666666666666666,
             "#ed7953"
            ],
            [
             0.7777777777777778,
             "#fb9f3a"
            ],
            [
             0.8888888888888888,
             "#fdca26"
            ],
            [
             1,
             "#f0f921"
            ]
           ]
          },
          "colorway": [
           "#636efa",
           "#EF553B",
           "#00cc96",
           "#ab63fa",
           "#FFA15A",
           "#19d3f3",
           "#FF6692",
           "#B6E880",
           "#FF97FF",
           "#FECB52"
          ],
          "font": {
           "color": "#2a3f5f"
          },
          "geo": {
           "bgcolor": "white",
           "lakecolor": "white",
           "landcolor": "#E5ECF6",
           "showlakes": true,
           "showland": true,
           "subunitcolor": "white"
          },
          "hoverlabel": {
           "align": "left"
          },
          "hovermode": "closest",
          "mapbox": {
           "style": "light"
          },
          "paper_bgcolor": "white",
          "plot_bgcolor": "#E5ECF6",
          "polar": {
           "angularaxis": {
            "gridcolor": "white",
            "linecolor": "white",
            "ticks": ""
           },
           "bgcolor": "#E5ECF6",
           "radialaxis": {
            "gridcolor": "white",
            "linecolor": "white",
            "ticks": ""
           }
          },
          "scene": {
           "xaxis": {
            "backgroundcolor": "#E5ECF6",
            "gridcolor": "white",
            "gridwidth": 2,
            "linecolor": "white",
            "showbackground": true,
            "ticks": "",
            "zerolinecolor": "white"
           },
           "yaxis": {
            "backgroundcolor": "#E5ECF6",
            "gridcolor": "white",
            "gridwidth": 2,
            "linecolor": "white",
            "showbackground": true,
            "ticks": "",
            "zerolinecolor": "white"
           },
           "zaxis": {
            "backgroundcolor": "#E5ECF6",
            "gridcolor": "white",
            "gridwidth": 2,
            "linecolor": "white",
            "showbackground": true,
            "ticks": "",
            "zerolinecolor": "white"
           }
          },
          "shapedefaults": {
           "line": {
            "color": "#2a3f5f"
           }
          },
          "ternary": {
           "aaxis": {
            "gridcolor": "white",
            "linecolor": "white",
            "ticks": ""
           },
           "baxis": {
            "gridcolor": "white",
            "linecolor": "white",
            "ticks": ""
           },
           "bgcolor": "#E5ECF6",
           "caxis": {
            "gridcolor": "white",
            "linecolor": "white",
            "ticks": ""
           }
          },
          "title": {
           "x": 0.05
          },
          "xaxis": {
           "automargin": true,
           "gridcolor": "white",
           "linecolor": "white",
           "ticks": "",
           "title": {
            "standoff": 15
           },
           "zerolinecolor": "white",
           "zerolinewidth": 2
          },
          "yaxis": {
           "automargin": true,
           "gridcolor": "white",
           "linecolor": "white",
           "ticks": "",
           "title": {
            "standoff": 15
           },
           "zerolinecolor": "white",
           "zerolinewidth": 2
          }
         }
        },
        "width": 800,
        "xaxis": {
         "anchor": "y",
         "domain": [
          0,
          1
         ],
         "title": {
          "text": "variable"
         }
        },
        "yaxis": {
         "anchor": "x",
         "domain": [
          0,
          1
         ],
         "title": {
          "text": "<b>Average count</b>"
         }
        }
       }
      }
     },
     "metadata": {},
     "output_type": "display_data"
    }
   ],
   "source": [
    "import plotly.express as px\n",
    "\n",
    "\n",
    "aggregate_errors = (\n",
    "    sel_df.groupby([\"is_correct\"])[error_types + [\"Count steps\"]].mean().reset_index().melt(id_vars=[\"is_correct\"])\n",
    ")\n",
    "\n",
    "fig = px.bar(\n",
    "    aggregate_errors,\n",
    "    y=\"value\",\n",
    "    x=\"variable\",\n",
    "    color=\"is_correct\",\n",
    "    labels={\n",
    "        \"agent_name\": \"<b>Model</b>\",\n",
    "        \"task\": \"<b>Level</b>\",\n",
    "        \"aggregate_score\": \"<b>Performance</b>\",\n",
    "        \"value\": \"<b>Average count</b>\",\n",
    "        \"eval_score_GPT4\": \"<b>Score</b>\",\n",
    "    },\n",
    ")\n",
    "fig.update_layout(\n",
    "    height=500,\n",
    "    width=800,\n",
    "    barmode=\"group\",\n",
    "    bargroupgap=0.0,\n",
    ")\n",
    "fig.update_traces(textposition=\"outside\")\n",
    "fig.write_image(\"aggregate_errors.png\", scale=3)\n",
    "fig.show()"
   ]
  },
  {
   "cell_type": "markdown",
   "metadata": {},
   "source": [
    "### Inspect result by file extension type"
   ]
  },
  {
   "cell_type": "code",
   "execution_count": 30,
   "metadata": {},
   "outputs": [
    {
     "data": {
      "text/html": [
       "<div>\n",
       "<style scoped>\n",
       "    .dataframe tbody tr th:only-of-type {\n",
       "        vertical-align: middle;\n",
       "    }\n",
       "\n",
       "    .dataframe tbody tr th {\n",
       "        vertical-align: top;\n",
       "    }\n",
       "\n",
       "    .dataframe thead th {\n",
       "        text-align: right;\n",
       "    }\n",
       "</style>\n",
       "<table border=\"1\" class=\"dataframe\">\n",
       "  <thead>\n",
       "    <tr style=\"text-align: right;\">\n",
       "      <th></th>\n",
       "      <th>is_correct</th>\n",
       "      <th>count_steps</th>\n",
       "      <th>question</th>\n",
       "    </tr>\n",
       "    <tr>\n",
       "      <th>attachment_type</th>\n",
       "      <th></th>\n",
       "      <th></th>\n",
       "      <th></th>\n",
       "    </tr>\n",
       "  </thead>\n",
       "  <tbody>\n",
       "    <tr>\n",
       "      <th>None</th>\n",
       "      <td>0.454724</td>\n",
       "      <td>14.234252</td>\n",
       "      <td>508</td>\n",
       "    </tr>\n",
       "    <tr>\n",
       "      <th>csv</th>\n",
       "      <td>0.000000</td>\n",
       "      <td>14.000000</td>\n",
       "      <td>6</td>\n",
       "    </tr>\n",
       "    <tr>\n",
       "      <th>docx</th>\n",
       "      <td>0.800000</td>\n",
       "      <td>8.000000</td>\n",
       "      <td>5</td>\n",
       "    </tr>\n",
       "    <tr>\n",
       "      <th>jpg</th>\n",
       "      <td>0.400000</td>\n",
       "      <td>11.200000</td>\n",
       "      <td>10</td>\n",
       "    </tr>\n",
       "    <tr>\n",
       "      <th>jsonld</th>\n",
       "      <td>0.000000</td>\n",
       "      <td>15.666667</td>\n",
       "      <td>6</td>\n",
       "    </tr>\n",
       "    <tr>\n",
       "      <th>mp3</th>\n",
       "      <td>0.055556</td>\n",
       "      <td>11.555556</td>\n",
       "      <td>18</td>\n",
       "    </tr>\n",
       "    <tr>\n",
       "      <th>pdb</th>\n",
       "      <td>0.000000</td>\n",
       "      <td>10.000000</td>\n",
       "      <td>6</td>\n",
       "    </tr>\n",
       "    <tr>\n",
       "      <th>pdf</th>\n",
       "      <td>0.333333</td>\n",
       "      <td>8.933333</td>\n",
       "      <td>15</td>\n",
       "    </tr>\n",
       "    <tr>\n",
       "      <th>png</th>\n",
       "      <td>0.200000</td>\n",
       "      <td>10.100000</td>\n",
       "      <td>40</td>\n",
       "    </tr>\n",
       "    <tr>\n",
       "      <th>pptx</th>\n",
       "      <td>0.666667</td>\n",
       "      <td>6.666667</td>\n",
       "      <td>6</td>\n",
       "    </tr>\n",
       "    <tr>\n",
       "      <th>py</th>\n",
       "      <td>0.666667</td>\n",
       "      <td>6.666667</td>\n",
       "      <td>6</td>\n",
       "    </tr>\n",
       "    <tr>\n",
       "      <th>txt</th>\n",
       "      <td>0.666667</td>\n",
       "      <td>8.000000</td>\n",
       "      <td>6</td>\n",
       "    </tr>\n",
       "    <tr>\n",
       "      <th>xlsx</th>\n",
       "      <td>0.507692</td>\n",
       "      <td>10.107692</td>\n",
       "      <td>65</td>\n",
       "    </tr>\n",
       "    <tr>\n",
       "      <th>zip</th>\n",
       "      <td>0.000000</td>\n",
       "      <td>4.222222</td>\n",
       "      <td>9</td>\n",
       "    </tr>\n",
       "  </tbody>\n",
       "</table>\n",
       "</div>"
      ],
      "text/plain": [
       "                 is_correct  count_steps  question\n",
       "attachment_type                                   \n",
       "None               0.454724    14.234252       508\n",
       "csv                0.000000    14.000000         6\n",
       "docx               0.800000     8.000000         5\n",
       "jpg                0.400000    11.200000        10\n",
       "jsonld             0.000000    15.666667         6\n",
       "mp3                0.055556    11.555556        18\n",
       "pdb                0.000000    10.000000         6\n",
       "pdf                0.333333     8.933333        15\n",
       "png                0.200000    10.100000        40\n",
       "pptx               0.666667     6.666667         6\n",
       "py                 0.666667     6.666667         6\n",
       "txt                0.666667     8.000000         6\n",
       "xlsx               0.507692    10.107692        65\n",
       "zip                0.000000     4.222222         9"
      ]
     },
     "metadata": {},
     "output_type": "display_data"
    }
   ],
   "source": [
    "display(\n",
    "    result_df.groupby([\"attachment_type\"])[[\"is_correct\", \"count_steps\", \"question\"]].agg(\n",
    "        {\"is_correct\": \"mean\", \"count_steps\": \"mean\", \"question\": \"count\"}\n",
    "    )\n",
    ")"
   ]
  },
  {
   "cell_type": "markdown",
   "metadata": {},
   "source": [
    "# 4. Ensembling methods"
   ]
  },
  {
   "cell_type": "code",
   "execution_count": 31,
   "metadata": {},
   "outputs": [],
   "source": [
    "counts = result_df[\"agent_name\"].value_counts()\n",
    "long_series = result_df.loc[result_df[\"agent_name\"].isin(counts[counts > 140].index)]"
   ]
  },
  {
   "cell_type": "code",
   "execution_count": 32,
   "metadata": {},
   "outputs": [
    {
     "data": {
      "text/plain": [
       "agent_name\n",
       "gaia_o1                44.24\n",
       "gaia_o1_audio          44.24\n",
       "gaia_o4-mini           41.21\n",
       "gaia_o4-mini_search    50.91\n",
       "Name: is_correct, dtype: float64"
      ]
     },
     "metadata": {},
     "output_type": "display_data"
    },
    {
     "name": "stdout",
     "output_type": "stream",
     "text": [
      "Majority score: 51.52\n",
      "Oracle score: 63.64\n"
     ]
    },
    {
     "name": "stderr",
     "output_type": "stream",
     "text": [
      "/var/folders/jh/q_m8brcn0mqb9m0kx473993w0000gp/T/ipykernel_15388/3287428472.py:20: DeprecationWarning:\n",
      "\n",
      "DataFrameGroupBy.apply operated on the grouping columns. This behavior is deprecated, and in a future version of pandas the grouping columns will be excluded from the operation. Either pass `include_groups=False` to exclude the groupings or explicitly select the grouping columns after groupby to silence this warning.\n",
      "\n"
     ]
    }
   ],
   "source": [
    "def majority_vote(df):\n",
    "    df = df[(df[\"prediction\"] != \"Unable to determine\") & (~df[\"prediction\"].isna()) & (df[\"prediction\"] != \"None\")]\n",
    "\n",
    "    answer_modes = df.groupby(\"question\")[\"prediction\"].agg(lambda x: x.mode()[0]).reset_index()\n",
    "    first_occurrences = (\n",
    "        df.groupby([\"question\", \"prediction\"]).agg({\"task\": \"first\", \"is_correct\": \"first\"}).reset_index()\n",
    "    )\n",
    "    result = answer_modes.merge(first_occurrences, on=[\"question\", \"prediction\"], how=\"left\")\n",
    "\n",
    "    return result\n",
    "\n",
    "\n",
    "def oracle(df):\n",
    "    def get_first_correct_or_first_wrong(group):\n",
    "        correct_answers = group[group[\"is_correct\"]]\n",
    "        if len(correct_answers) > 0:\n",
    "            return correct_answers.iloc[0]\n",
    "        return group.iloc[0]\n",
    "\n",
    "    result = df.groupby(\"question\").apply(get_first_correct_or_first_wrong)\n",
    "\n",
    "    return result.reset_index(drop=True)\n",
    "\n",
    "\n",
    "display((long_series.groupby(\"agent_name\")[\"is_correct\"].mean() * 100).round(2))\n",
    "print(f\"Majority score: {majority_vote(long_series)['is_correct'].mean() * 100:.2f}\")\n",
    "print(f\"Oracle score: {oracle(long_series)['is_correct'].mean() * 100:.2f}\")"
   ]
  },
  {
   "cell_type": "markdown",
   "metadata": {},
   "source": [
    "### Submit"
   ]
  },
  {
   "cell_type": "code",
   "execution_count": 4,
   "metadata": {},
   "outputs": [],
   "source": [
    "agent_run = \"gaia_o4-mini_search_test.jsonl\"\n",
    "df = pd.read_json(f\"output/test/{agent_run}\", lines=True)\n",
    "df = df[[\"task_id\", \"prediction\", \"intermediate_steps\"]]\n",
    "df = df.rename(columns={\"prediction\": \"model_answer\", \"intermediate_steps\": \"reasoning_trace\"})"
   ]
  },
  {
   "cell_type": "code",
   "execution_count": 5,
   "metadata": {},
   "outputs": [],
   "source": [
    "df.to_json(\"submission.jsonl\", orient=\"records\", lines=True)"
   ]
  },
  {
   "cell_type": "code",
   "execution_count": null,
   "metadata": {},
   "outputs": [],
   "source": []
  }
 ],
 "metadata": {
  "kernelspec": {
   "display_name": "smolagents",
   "language": "python",
   "name": "python3"
  },
  "language_info": {
   "codemirror_mode": {
    "name": "ipython",
    "version": 3
   },
   "file_extension": ".py",
   "mimetype": "text/x-python",
   "name": "python",
   "nbconvert_exporter": "python",
   "pygments_lexer": "ipython3",
   "version": "3.10.16"
  }
 },
 "nbformat": 4,
 "nbformat_minor": 2
}
