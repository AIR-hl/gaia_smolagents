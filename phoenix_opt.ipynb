{
 "cells": [
  {
   "cell_type": "code",
   "execution_count": null,
   "id": "b5f8a020",
   "metadata": {},
   "outputs": [],
   "source": [
    "import phoenix as px\n",
    "from phoenix import Client\n",
    "from phoenix.trace.trace_dataset import TraceDataset\n",
    "\n",
    "\n",
    "# 建立与Phoenix服务器的连接\n",
    "client = Client(endpoint=\"http://localhost:6006\")  # 替换为你的Phoenix服务器地址\n",
    "\n",
    "save_dir=\"phoenix_data\"\n",
    "trace_id = \"b2d4078893518fb2a2d8f2b25bdf164a\"\n",
    "\n",
    "# 获取trace数据 - 这会返回包含完整trace信息的数据结构\n",
    "trace_data = client.get_spans_dataframe(project_name=\"gaia_val_xsy_30_o4mini_0623_v2\", \n",
    "                                        filter_condition=\"trace_id=='b2d4078893518fb2a2d8f2b25bdf164a'\"\n",
    "                                        timeout=None)\n",
    "\n",
    "\n",
    "evaluations = client.get_evaluations(project_name=\"gaia_val_xsy_30_o4mini_0623_v2\")\n",
    "TraceDataset(dataframe=trace_data, evaluations=evaluations).save(save_dir)"
   ]
  },
  {
   "cell_type": "code",
   "execution_count": null,
   "id": "dc46e025",
   "metadata": {},
   "outputs": [],
   "source": [
    "import phoenix as px\n",
    "\n",
    "\n",
    "save_dir=\"phoenix_data\"\n",
    "trace_id = \"b2d4078893518fb2a2d8f2b25bdf164a\"\n",
    "px.launch_app(trace=px.TraceDataset.load(trace_id, directory=save_dir))"
   ]
  }
 ],
 "metadata": {
  "language_info": {
   "name": "python"
  }
 },
 "nbformat": 4,
 "nbformat_minor": 5
}
